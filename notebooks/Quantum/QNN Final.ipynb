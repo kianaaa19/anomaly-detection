{
 "cells": [
  {
   "cell_type": "code",
   "execution_count": 1,
   "metadata": {
    "id": "KdtsYuxXrrUw"
   },
   "outputs": [],
   "source": [
    "# Pennylane modules\n",
    "import pennylane as qml\n",
    "import numpy as np\n",
    "import torch\n",
    "import torch.nn as nn\n",
    "import torch.optim as optim\n",
    "from torch import nn\n",
    "import pandas as pd\n",
    "\n",
    "import seaborn as sns\n",
    "import matplotlib.pyplot as plt\n",
    "\n",
    "from torch.utils.data import Dataset, DataLoader, random_split\n",
    "\n",
    "from sklearn.model_selection import train_test_split\n",
    "from sklearn.metrics import accuracy_score, confusion_matrix, classification_report"
   ]
  },
  {
   "cell_type": "code",
   "execution_count": 2,
   "metadata": {},
   "outputs": [],
   "source": [
    "from qiskit_aer import Aer\n",
    "from qiskit.quantum_info import SparsePauliOp\n",
    "from qiskit_ibm_runtime import EstimatorV2 as Estimator, Sampler"
   ]
  },
  {
   "cell_type": "code",
   "execution_count": 3,
   "metadata": {},
   "outputs": [],
   "source": [
    "from qiskit.circuit.library import QFT\n",
    "from qiskit.providers.fake_provider import GenericBackendV2, generic_backend_v2\n",
    "\n",
    "from qiskit import transpile, QuantumCircuit\n",
    "from qiskit.circuit import Gate\n",
    "from qiskit.converters import circuit_to_dag\n",
    "from qiskit.transpiler import CouplingMap, StagedPassManager, PassManager, AnalysisPass, TransformationPass\n",
    "from qiskit.transpiler.preset_passmanagers import generate_preset_pass_manager\n",
    "from qiskit.transpiler.preset_passmanagers.common import generate_unroll_3q, generate_embed_passmanager\n",
    "from qiskit.quantum_info import hellinger_fidelity\n",
    "from qiskit.providers.basic_provider import BasicSimulator\n",
    "from qiskit.dagcircuit import DAGCircuit\n",
    "from qiskit_ibm_runtime.fake_provider import FakeTorino\n",
    "\n",
    "# transpiler passes\n",
    "from qiskit.transpiler.passes.layout import csp_layout, dense_layout, sabre_layout, vf2_layout, trivial_layout\n",
    "# Routing pa″sses\n",
    "from qiskit.transpiler.passes.routing import basic_swap, lookahead_swap, sabre_swap\n",
    "from qiskit.transpiler.passes.routing import star_prerouting\n",
    "# Synthesis passes (passes for the translation stage)\n",
    "from qiskit.circuit import SessionEquivalenceLibrary\n",
    "from qiskit.circuit.equivalence_library import SessionEquivalenceLibrary\n",
    "from qiskit.transpiler.passes.basis import basis_translator\n",
    "from qiskit.transpiler.passes.synthesis import unitary_synthesis, high_level_synthesis\n",
    "# Optimization passes\n",
    "from qiskit.transpiler.passes.optimization import commutative_cancellation, consolidate_blocks, collect_2q_blocks, collect_1q_runs"
   ]
  },
  {
   "cell_type": "code",
   "execution_count": 4,
   "metadata": {},
   "outputs": [],
   "source": [
    "from pennylane.optimize import QNGOptimizer"
   ]
  },
  {
   "cell_type": "code",
   "execution_count": 5,
   "metadata": {},
   "outputs": [],
   "source": [
    "from sklearn.metrics import (\n",
    "    accuracy_score, precision_score, recall_score, f1_score,\n",
    "    confusion_matrix, roc_auc_score, classification_report, log_loss\n",
    ")"
   ]
  },
  {
   "cell_type": "markdown",
   "metadata": {
    "id": "RkrBrpvLrrUx"
   },
   "source": [
    "# Data Import"
   ]
  },
  {
   "cell_type": "code",
   "execution_count": 6,
   "metadata": {
    "id": "TDevlIQ5rrUy"
   },
   "outputs": [],
   "source": [
    "IEEE_train = pd.read_csv(\"/Users/soardr/VSCode Projects/Zenqor/data/IEEE-CIS/train_data.csv\")\n",
    "IEEE_test = pd.read_csv(\"/Users/soardr/VSCode Projects/Zenqor/data/IEEE-CIS/test_data.csv\")"
   ]
  },
  {
   "cell_type": "code",
   "execution_count": 7,
   "metadata": {
    "id": "JHRsD39yrrUy"
   },
   "outputs": [],
   "source": [
    "NSLKDD_train = pd.read_csv(\"/Users/soardr/VSCode Projects/Zenqor/data/NSL-KDD/Train.csv\")\n",
    "NSLKDD_test = pd.read_csv(\"/Users/soardr/VSCode Projects/Zenqor/data/NSL-KDD/Test.csv\")"
   ]
  },
  {
   "cell_type": "code",
   "execution_count": 8,
   "metadata": {
    "id": "iJxngGH3rrUy",
    "outputId": "ca6cbed9-d7a0-440d-ed0c-1968758ce643"
   },
   "outputs": [
    {
     "data": {
      "text/plain": [
       "(1567, 592)"
      ]
     },
     "execution_count": 8,
     "metadata": {},
     "output_type": "execute_result"
    }
   ],
   "source": [
    "SECOM = pd.read_csv(\"/Users/soardr/VSCode Projects/Zenqor/data/uci-secom/uci-secom.csv\")\n",
    "SECOM.shape"
   ]
  },
  {
   "cell_type": "code",
   "execution_count": 9,
   "metadata": {
    "id": "dZnnkFdjrrUz",
    "outputId": "218317cd-c059-4961-a697-14db4acf971f"
   },
   "outputs": [
    {
     "data": {
      "text/html": [
       "<div>\n",
       "<style scoped>\n",
       "    .dataframe tbody tr th:only-of-type {\n",
       "        vertical-align: middle;\n",
       "    }\n",
       "\n",
       "    .dataframe tbody tr th {\n",
       "        vertical-align: top;\n",
       "    }\n",
       "\n",
       "    .dataframe thead th {\n",
       "        text-align: right;\n",
       "    }\n",
       "</style>\n",
       "<table border=\"1\" class=\"dataframe\">\n",
       "  <thead>\n",
       "    <tr style=\"text-align: right;\">\n",
       "      <th></th>\n",
       "      <th>Time</th>\n",
       "      <th>0</th>\n",
       "      <th>1</th>\n",
       "      <th>2</th>\n",
       "      <th>3</th>\n",
       "      <th>4</th>\n",
       "      <th>5</th>\n",
       "      <th>6</th>\n",
       "      <th>7</th>\n",
       "      <th>8</th>\n",
       "      <th>...</th>\n",
       "      <th>581</th>\n",
       "      <th>582</th>\n",
       "      <th>583</th>\n",
       "      <th>584</th>\n",
       "      <th>585</th>\n",
       "      <th>586</th>\n",
       "      <th>587</th>\n",
       "      <th>588</th>\n",
       "      <th>589</th>\n",
       "      <th>Pass/Fail</th>\n",
       "    </tr>\n",
       "  </thead>\n",
       "  <tbody>\n",
       "    <tr>\n",
       "      <th>0</th>\n",
       "      <td>2008-07-19 11:55:00</td>\n",
       "      <td>3030.93</td>\n",
       "      <td>2564.00</td>\n",
       "      <td>2187.7333</td>\n",
       "      <td>1411.1265</td>\n",
       "      <td>1.3602</td>\n",
       "      <td>100.0</td>\n",
       "      <td>97.6133</td>\n",
       "      <td>0.1242</td>\n",
       "      <td>1.5005</td>\n",
       "      <td>...</td>\n",
       "      <td>NaN</td>\n",
       "      <td>0.5005</td>\n",
       "      <td>0.0118</td>\n",
       "      <td>0.0035</td>\n",
       "      <td>2.3630</td>\n",
       "      <td>NaN</td>\n",
       "      <td>NaN</td>\n",
       "      <td>NaN</td>\n",
       "      <td>NaN</td>\n",
       "      <td>-1</td>\n",
       "    </tr>\n",
       "    <tr>\n",
       "      <th>1</th>\n",
       "      <td>2008-07-19 12:32:00</td>\n",
       "      <td>3095.78</td>\n",
       "      <td>2465.14</td>\n",
       "      <td>2230.4222</td>\n",
       "      <td>1463.6606</td>\n",
       "      <td>0.8294</td>\n",
       "      <td>100.0</td>\n",
       "      <td>102.3433</td>\n",
       "      <td>0.1247</td>\n",
       "      <td>1.4966</td>\n",
       "      <td>...</td>\n",
       "      <td>208.2045</td>\n",
       "      <td>0.5019</td>\n",
       "      <td>0.0223</td>\n",
       "      <td>0.0055</td>\n",
       "      <td>4.4447</td>\n",
       "      <td>0.0096</td>\n",
       "      <td>0.0201</td>\n",
       "      <td>0.0060</td>\n",
       "      <td>208.2045</td>\n",
       "      <td>-1</td>\n",
       "    </tr>\n",
       "    <tr>\n",
       "      <th>2</th>\n",
       "      <td>2008-07-19 13:17:00</td>\n",
       "      <td>2932.61</td>\n",
       "      <td>2559.94</td>\n",
       "      <td>2186.4111</td>\n",
       "      <td>1698.0172</td>\n",
       "      <td>1.5102</td>\n",
       "      <td>100.0</td>\n",
       "      <td>95.4878</td>\n",
       "      <td>0.1241</td>\n",
       "      <td>1.4436</td>\n",
       "      <td>...</td>\n",
       "      <td>82.8602</td>\n",
       "      <td>0.4958</td>\n",
       "      <td>0.0157</td>\n",
       "      <td>0.0039</td>\n",
       "      <td>3.1745</td>\n",
       "      <td>0.0584</td>\n",
       "      <td>0.0484</td>\n",
       "      <td>0.0148</td>\n",
       "      <td>82.8602</td>\n",
       "      <td>1</td>\n",
       "    </tr>\n",
       "    <tr>\n",
       "      <th>3</th>\n",
       "      <td>2008-07-19 14:43:00</td>\n",
       "      <td>2988.72</td>\n",
       "      <td>2479.90</td>\n",
       "      <td>2199.0333</td>\n",
       "      <td>909.7926</td>\n",
       "      <td>1.3204</td>\n",
       "      <td>100.0</td>\n",
       "      <td>104.2367</td>\n",
       "      <td>0.1217</td>\n",
       "      <td>1.4882</td>\n",
       "      <td>...</td>\n",
       "      <td>73.8432</td>\n",
       "      <td>0.4990</td>\n",
       "      <td>0.0103</td>\n",
       "      <td>0.0025</td>\n",
       "      <td>2.0544</td>\n",
       "      <td>0.0202</td>\n",
       "      <td>0.0149</td>\n",
       "      <td>0.0044</td>\n",
       "      <td>73.8432</td>\n",
       "      <td>-1</td>\n",
       "    </tr>\n",
       "    <tr>\n",
       "      <th>4</th>\n",
       "      <td>2008-07-19 15:22:00</td>\n",
       "      <td>3032.24</td>\n",
       "      <td>2502.87</td>\n",
       "      <td>2233.3667</td>\n",
       "      <td>1326.5200</td>\n",
       "      <td>1.5334</td>\n",
       "      <td>100.0</td>\n",
       "      <td>100.3967</td>\n",
       "      <td>0.1235</td>\n",
       "      <td>1.5031</td>\n",
       "      <td>...</td>\n",
       "      <td>NaN</td>\n",
       "      <td>0.4800</td>\n",
       "      <td>0.4766</td>\n",
       "      <td>0.1045</td>\n",
       "      <td>99.3032</td>\n",
       "      <td>0.0202</td>\n",
       "      <td>0.0149</td>\n",
       "      <td>0.0044</td>\n",
       "      <td>73.8432</td>\n",
       "      <td>-1</td>\n",
       "    </tr>\n",
       "    <tr>\n",
       "      <th>...</th>\n",
       "      <td>...</td>\n",
       "      <td>...</td>\n",
       "      <td>...</td>\n",
       "      <td>...</td>\n",
       "      <td>...</td>\n",
       "      <td>...</td>\n",
       "      <td>...</td>\n",
       "      <td>...</td>\n",
       "      <td>...</td>\n",
       "      <td>...</td>\n",
       "      <td>...</td>\n",
       "      <td>...</td>\n",
       "      <td>...</td>\n",
       "      <td>...</td>\n",
       "      <td>...</td>\n",
       "      <td>...</td>\n",
       "      <td>...</td>\n",
       "      <td>...</td>\n",
       "      <td>...</td>\n",
       "      <td>...</td>\n",
       "      <td>...</td>\n",
       "    </tr>\n",
       "    <tr>\n",
       "      <th>1562</th>\n",
       "      <td>2008-10-16 15:13:00</td>\n",
       "      <td>2899.41</td>\n",
       "      <td>2464.36</td>\n",
       "      <td>2179.7333</td>\n",
       "      <td>3085.3781</td>\n",
       "      <td>1.4843</td>\n",
       "      <td>100.0</td>\n",
       "      <td>82.2467</td>\n",
       "      <td>0.1248</td>\n",
       "      <td>1.3424</td>\n",
       "      <td>...</td>\n",
       "      <td>203.1720</td>\n",
       "      <td>0.4988</td>\n",
       "      <td>0.0143</td>\n",
       "      <td>0.0039</td>\n",
       "      <td>2.8669</td>\n",
       "      <td>0.0068</td>\n",
       "      <td>0.0138</td>\n",
       "      <td>0.0047</td>\n",
       "      <td>203.1720</td>\n",
       "      <td>-1</td>\n",
       "    </tr>\n",
       "    <tr>\n",
       "      <th>1563</th>\n",
       "      <td>2008-10-16 20:49:00</td>\n",
       "      <td>3052.31</td>\n",
       "      <td>2522.55</td>\n",
       "      <td>2198.5667</td>\n",
       "      <td>1124.6595</td>\n",
       "      <td>0.8763</td>\n",
       "      <td>100.0</td>\n",
       "      <td>98.4689</td>\n",
       "      <td>0.1205</td>\n",
       "      <td>1.4333</td>\n",
       "      <td>...</td>\n",
       "      <td>NaN</td>\n",
       "      <td>0.4975</td>\n",
       "      <td>0.0131</td>\n",
       "      <td>0.0036</td>\n",
       "      <td>2.6238</td>\n",
       "      <td>0.0068</td>\n",
       "      <td>0.0138</td>\n",
       "      <td>0.0047</td>\n",
       "      <td>203.1720</td>\n",
       "      <td>-1</td>\n",
       "    </tr>\n",
       "    <tr>\n",
       "      <th>1564</th>\n",
       "      <td>2008-10-17 05:26:00</td>\n",
       "      <td>2978.81</td>\n",
       "      <td>2379.78</td>\n",
       "      <td>2206.3000</td>\n",
       "      <td>1110.4967</td>\n",
       "      <td>0.8236</td>\n",
       "      <td>100.0</td>\n",
       "      <td>99.4122</td>\n",
       "      <td>0.1208</td>\n",
       "      <td>NaN</td>\n",
       "      <td>...</td>\n",
       "      <td>43.5231</td>\n",
       "      <td>0.4987</td>\n",
       "      <td>0.0153</td>\n",
       "      <td>0.0041</td>\n",
       "      <td>3.0590</td>\n",
       "      <td>0.0197</td>\n",
       "      <td>0.0086</td>\n",
       "      <td>0.0025</td>\n",
       "      <td>43.5231</td>\n",
       "      <td>-1</td>\n",
       "    </tr>\n",
       "    <tr>\n",
       "      <th>1565</th>\n",
       "      <td>2008-10-17 06:01:00</td>\n",
       "      <td>2894.92</td>\n",
       "      <td>2532.01</td>\n",
       "      <td>2177.0333</td>\n",
       "      <td>1183.7287</td>\n",
       "      <td>1.5726</td>\n",
       "      <td>100.0</td>\n",
       "      <td>98.7978</td>\n",
       "      <td>0.1213</td>\n",
       "      <td>1.4622</td>\n",
       "      <td>...</td>\n",
       "      <td>93.4941</td>\n",
       "      <td>0.5004</td>\n",
       "      <td>0.0178</td>\n",
       "      <td>0.0038</td>\n",
       "      <td>3.5662</td>\n",
       "      <td>0.0262</td>\n",
       "      <td>0.0245</td>\n",
       "      <td>0.0075</td>\n",
       "      <td>93.4941</td>\n",
       "      <td>-1</td>\n",
       "    </tr>\n",
       "    <tr>\n",
       "      <th>1566</th>\n",
       "      <td>2008-10-17 06:07:00</td>\n",
       "      <td>2944.92</td>\n",
       "      <td>2450.76</td>\n",
       "      <td>2195.4444</td>\n",
       "      <td>2914.1792</td>\n",
       "      <td>1.5978</td>\n",
       "      <td>100.0</td>\n",
       "      <td>85.1011</td>\n",
       "      <td>0.1235</td>\n",
       "      <td>NaN</td>\n",
       "      <td>...</td>\n",
       "      <td>137.7844</td>\n",
       "      <td>0.4987</td>\n",
       "      <td>0.0181</td>\n",
       "      <td>0.0040</td>\n",
       "      <td>3.6275</td>\n",
       "      <td>0.0117</td>\n",
       "      <td>0.0162</td>\n",
       "      <td>0.0045</td>\n",
       "      <td>137.7844</td>\n",
       "      <td>-1</td>\n",
       "    </tr>\n",
       "  </tbody>\n",
       "</table>\n",
       "<p>1567 rows × 592 columns</p>\n",
       "</div>"
      ],
      "text/plain": [
       "                     Time        0        1          2          3       4  \\\n",
       "0     2008-07-19 11:55:00  3030.93  2564.00  2187.7333  1411.1265  1.3602   \n",
       "1     2008-07-19 12:32:00  3095.78  2465.14  2230.4222  1463.6606  0.8294   \n",
       "2     2008-07-19 13:17:00  2932.61  2559.94  2186.4111  1698.0172  1.5102   \n",
       "3     2008-07-19 14:43:00  2988.72  2479.90  2199.0333   909.7926  1.3204   \n",
       "4     2008-07-19 15:22:00  3032.24  2502.87  2233.3667  1326.5200  1.5334   \n",
       "...                   ...      ...      ...        ...        ...     ...   \n",
       "1562  2008-10-16 15:13:00  2899.41  2464.36  2179.7333  3085.3781  1.4843   \n",
       "1563  2008-10-16 20:49:00  3052.31  2522.55  2198.5667  1124.6595  0.8763   \n",
       "1564  2008-10-17 05:26:00  2978.81  2379.78  2206.3000  1110.4967  0.8236   \n",
       "1565  2008-10-17 06:01:00  2894.92  2532.01  2177.0333  1183.7287  1.5726   \n",
       "1566  2008-10-17 06:07:00  2944.92  2450.76  2195.4444  2914.1792  1.5978   \n",
       "\n",
       "          5         6       7       8  ...       581     582     583     584  \\\n",
       "0     100.0   97.6133  0.1242  1.5005  ...       NaN  0.5005  0.0118  0.0035   \n",
       "1     100.0  102.3433  0.1247  1.4966  ...  208.2045  0.5019  0.0223  0.0055   \n",
       "2     100.0   95.4878  0.1241  1.4436  ...   82.8602  0.4958  0.0157  0.0039   \n",
       "3     100.0  104.2367  0.1217  1.4882  ...   73.8432  0.4990  0.0103  0.0025   \n",
       "4     100.0  100.3967  0.1235  1.5031  ...       NaN  0.4800  0.4766  0.1045   \n",
       "...     ...       ...     ...     ...  ...       ...     ...     ...     ...   \n",
       "1562  100.0   82.2467  0.1248  1.3424  ...  203.1720  0.4988  0.0143  0.0039   \n",
       "1563  100.0   98.4689  0.1205  1.4333  ...       NaN  0.4975  0.0131  0.0036   \n",
       "1564  100.0   99.4122  0.1208     NaN  ...   43.5231  0.4987  0.0153  0.0041   \n",
       "1565  100.0   98.7978  0.1213  1.4622  ...   93.4941  0.5004  0.0178  0.0038   \n",
       "1566  100.0   85.1011  0.1235     NaN  ...  137.7844  0.4987  0.0181  0.0040   \n",
       "\n",
       "          585     586     587     588       589  Pass/Fail  \n",
       "0      2.3630     NaN     NaN     NaN       NaN         -1  \n",
       "1      4.4447  0.0096  0.0201  0.0060  208.2045         -1  \n",
       "2      3.1745  0.0584  0.0484  0.0148   82.8602          1  \n",
       "3      2.0544  0.0202  0.0149  0.0044   73.8432         -1  \n",
       "4     99.3032  0.0202  0.0149  0.0044   73.8432         -1  \n",
       "...       ...     ...     ...     ...       ...        ...  \n",
       "1562   2.8669  0.0068  0.0138  0.0047  203.1720         -1  \n",
       "1563   2.6238  0.0068  0.0138  0.0047  203.1720         -1  \n",
       "1564   3.0590  0.0197  0.0086  0.0025   43.5231         -1  \n",
       "1565   3.5662  0.0262  0.0245  0.0075   93.4941         -1  \n",
       "1566   3.6275  0.0117  0.0162  0.0045  137.7844         -1  \n",
       "\n",
       "[1567 rows x 592 columns]"
      ]
     },
     "execution_count": 9,
     "metadata": {},
     "output_type": "execute_result"
    }
   ],
   "source": [
    "SECOM"
   ]
  },
  {
   "cell_type": "code",
   "execution_count": 10,
   "metadata": {
    "id": "4CY2Za9nrrUz"
   },
   "outputs": [],
   "source": [
    "secom_feats = [str(i) for i in range(199, 211, 1)]\n",
    "secom_feats.append('Pass/Fail')"
   ]
  },
  {
   "cell_type": "code",
   "execution_count": 11,
   "metadata": {
    "id": "qKD3McTBrrUz"
   },
   "outputs": [],
   "source": [
    "SECOM = SECOM[secom_feats]"
   ]
  },
  {
   "cell_type": "code",
   "execution_count": 12,
   "metadata": {
    "id": "OjajVjlprrU0",
    "outputId": "4e9ef658-55ec-4534-f6c8-00eb38e2093f"
   },
   "outputs": [
    {
     "name": "stderr",
     "output_type": "stream",
     "text": [
      "/var/folders/3x/956gglvx6tbcvyg7m0dghx8r0000gq/T/ipykernel_41005/2461088957.py:1: SettingWithCopyWarning: \n",
      "A value is trying to be set on a copy of a slice from a DataFrame\n",
      "\n",
      "See the caveats in the documentation: https://pandas.pydata.org/pandas-docs/stable/user_guide/indexing.html#returning-a-view-versus-a-copy\n",
      "  SECOM.dropna(inplace=True)\n"
     ]
    }
   ],
   "source": [
    "SECOM.dropna(inplace=True)"
   ]
  },
  {
   "cell_type": "code",
   "execution_count": 13,
   "metadata": {
    "id": "TO9B4Ol1rrU0"
   },
   "outputs": [],
   "source": [
    "SECOM_train_shape = int(len(SECOM) * 0.8)\n",
    "SECOM_test_shape = len(SECOM) - SECOM_train_shape"
   ]
  },
  {
   "cell_type": "code",
   "execution_count": 14,
   "metadata": {
    "id": "xmwUo6XGrrU0"
   },
   "outputs": [],
   "source": [
    "SECOM_train = SECOM.iloc[:SECOM_train_shape, 1:]\n",
    "SECOM_test = SECOM.iloc[SECOM_train_shape:, 1:]"
   ]
  },
  {
   "cell_type": "code",
   "execution_count": 15,
   "metadata": {
    "id": "U6Y3rl6grrU0"
   },
   "outputs": [],
   "source": [
    "del SECOM"
   ]
  },
  {
   "cell_type": "markdown",
   "metadata": {},
   "source": [
    "## Shuffle dataset"
   ]
  },
  {
   "cell_type": "code",
   "execution_count": 16,
   "metadata": {},
   "outputs": [],
   "source": [
    "SECOM_train = SECOM_train.sample(frac=1).reset_index(drop=True)\n",
    "SECOM_test = SECOM_test.sample(frac=1).reset_index(drop=True)"
   ]
  },
  {
   "cell_type": "code",
   "execution_count": 17,
   "metadata": {},
   "outputs": [],
   "source": [
    "IEEE_train = IEEE_train.sample(frac=1).reset_index(drop=True)\n",
    "IEEE_test = IEEE_test.sample(frac=1).reset_index(drop=True)"
   ]
  },
  {
   "cell_type": "code",
   "execution_count": 18,
   "metadata": {},
   "outputs": [],
   "source": [
    "NSLKDD_train = NSLKDD_train.sample(frac=1).reset_index(drop=True)\n",
    "NSLKDD_test = NSLKDD_test.sample(frac=1).reset_index(drop=True)"
   ]
  },
  {
   "cell_type": "markdown",
   "metadata": {
    "id": "3QhhiyrfrrU0"
   },
   "source": [
    "## Dataset Truncate"
   ]
  },
  {
   "cell_type": "code",
   "execution_count": 19,
   "metadata": {
    "id": "NBgbPLwErrU0"
   },
   "outputs": [],
   "source": [
    "from sklearn.preprocessing import StandardScaler, MinMaxScaler\n",
    "scaler = MinMaxScaler()"
   ]
  },
  {
   "cell_type": "code",
   "execution_count": 20,
   "metadata": {
    "id": "FwyExML-rrU0"
   },
   "outputs": [],
   "source": [
    "IEEE_train = IEEE_train[:5000]\n",
    "IEEE_test = IEEE_test[:5000]"
   ]
  },
  {
   "cell_type": "code",
   "execution_count": 21,
   "metadata": {
    "id": "WdnxvguWrrU1"
   },
   "outputs": [],
   "source": [
    "NSLKDD_train = NSLKDD_train[:5000]\n",
    "NSLKDD_test = NSLKDD_test[:5000]"
   ]
  },
  {
   "cell_type": "code",
   "execution_count": 22,
   "metadata": {
    "id": "D1p8EnFnrrU1"
   },
   "outputs": [],
   "source": [
    "SECOM_train = SECOM_train[:5000]\n",
    "SECOM_test = SECOM_test[:5000]"
   ]
  },
  {
   "cell_type": "code",
   "execution_count": 23,
   "metadata": {
    "id": "4Ai65uk8rrU1"
   },
   "outputs": [],
   "source": [
    "IEEE_train = scaler.fit_transform(IEEE_train)\n",
    "IEEE_test = scaler.fit_transform(IEEE_test)"
   ]
  },
  {
   "cell_type": "code",
   "execution_count": 24,
   "metadata": {
    "id": "brkc7vqprrU1"
   },
   "outputs": [],
   "source": [
    "NSLKDD_train = scaler.fit_transform(NSLKDD_train)\n",
    "NSLKDD_test = scaler.fit_transform(NSLKDD_test)"
   ]
  },
  {
   "cell_type": "code",
   "execution_count": 33,
   "metadata": {
    "id": "vmAuB8KwrrU1"
   },
   "outputs": [],
   "source": [
    "SECOM_train = scaler.fit_transform(SECOM_train)\n",
    "SECOM_test = scaler.fit_transform(SECOM_test)"
   ]
  },
  {
   "cell_type": "markdown",
   "metadata": {
    "id": "-E5Z2R8WrrU1"
   },
   "source": [
    "## Testing data(s):"
   ]
  },
  {
   "cell_type": "code",
   "execution_count": 34,
   "metadata": {
    "id": "7-aDhsJxrrU1",
    "outputId": "191163bd-5b6f-4659-bac5-39a7509c98f5"
   },
   "outputs": [
    {
     "data": {
      "text/plain": [
       "((5000, 51), (5000, 51))"
      ]
     },
     "execution_count": 34,
     "metadata": {},
     "output_type": "execute_result"
    }
   ],
   "source": [
    "IEEE_train.shape, IEEE_test.shape"
   ]
  },
  {
   "cell_type": "code",
   "execution_count": 35,
   "metadata": {
    "id": "r4gjH60jrrU1",
    "outputId": "4ad5c27a-ac4d-42d7-a2a1-22398fe46e52"
   },
   "outputs": [
    {
     "ename": "AttributeError",
     "evalue": "'numpy.ndarray' object has no attribute 'corr'",
     "output_type": "error",
     "traceback": [
      "\u001b[31m---------------------------------------------------------------------------\u001b[39m",
      "\u001b[31mAttributeError\u001b[39m                            Traceback (most recent call last)",
      "\u001b[36mCell\u001b[39m\u001b[36m \u001b[39m\u001b[32mIn[35]\u001b[39m\u001b[32m, line 1\u001b[39m\n\u001b[32m----> \u001b[39m\u001b[32m1\u001b[39m corr_matrix = \u001b[43mIEEE_train\u001b[49m\u001b[43m.\u001b[49m\u001b[43mcorr\u001b[49m()\n\u001b[32m      3\u001b[39m plt.figure(figsize=(\u001b[32m10\u001b[39m, \u001b[32m8\u001b[39m))\n\u001b[32m      4\u001b[39m sns.heatmap(corr_matrix, cmap=\u001b[33m'\u001b[39m\u001b[33mcoolwarm\u001b[39m\u001b[33m'\u001b[39m, fmt=\u001b[33m\"\u001b[39m\u001b[33m.2f\u001b[39m\u001b[33m\"\u001b[39m, square=\u001b[38;5;28;01mTrue\u001b[39;00m)\n",
      "\u001b[31mAttributeError\u001b[39m: 'numpy.ndarray' object has no attribute 'corr'"
     ]
    }
   ],
   "source": [
    "corr_matrix = IEEE_train.corr()\n",
    "\n",
    "plt.figure(figsize=(10, 8))\n",
    "sns.heatmap(corr_matrix, cmap='coolwarm', fmt=\".2f\", square=True)\n",
    "plt.title(\"Correlation Matrix\")\n",
    "plt.show()"
   ]
  },
  {
   "cell_type": "code",
   "execution_count": 36,
   "metadata": {
    "id": "hQw1diE4rrU1",
    "outputId": "d96918a7-ae5b-4f1a-efde-85106bea0cac"
   },
   "outputs": [
    {
     "data": {
      "text/plain": [
       "((5000, 31), (5000, 31))"
      ]
     },
     "execution_count": 36,
     "metadata": {},
     "output_type": "execute_result"
    }
   ],
   "source": [
    "NSLKDD_train.shape, NSLKDD_test.shape"
   ]
  },
  {
   "cell_type": "code",
   "execution_count": 37,
   "metadata": {
    "id": "D0FDuIgxrrU1",
    "outputId": "0fac5146-0229-4c4e-db7a-9b7cc1dba1b3"
   },
   "outputs": [
    {
     "data": {
      "text/plain": [
       "((1228, 12), (308, 12))"
      ]
     },
     "execution_count": 37,
     "metadata": {},
     "output_type": "execute_result"
    }
   ],
   "source": [
    "SECOM_train.shape, SECOM_test.shape"
   ]
  },
  {
   "cell_type": "markdown",
   "metadata": {
    "id": "MXfcdW9XrrU1"
   },
   "source": [
    "# Device"
   ]
  },
  {
   "cell_type": "code",
   "execution_count": 38,
   "metadata": {
    "id": "jC-FiBjfrrU1",
    "outputId": "d654d598-f82a-4bff-c0ba-6be79eb5058c"
   },
   "outputs": [
    {
     "data": {
      "text/plain": [
       "'mps'"
      ]
     },
     "execution_count": 38,
     "metadata": {},
     "output_type": "execute_result"
    }
   ],
   "source": [
    "device = \"cuda\" if torch.cuda.is_available else \"cpu\"\n",
    "device = \"mps\" if torch.backends.mps.is_available and torch.backends.mps.is_built else device\n",
    "\n",
    "device"
   ]
  },
  {
   "cell_type": "code",
   "execution_count": 39,
   "metadata": {
    "id": "BNwKN3YDrrU2"
   },
   "outputs": [],
   "source": [
    "n_qubits = 8\n",
    "q_depth = 2"
   ]
  },
  {
   "cell_type": "code",
   "execution_count": 40,
   "metadata": {
    "id": "Zvhb2LqmrrU2",
    "outputId": "3595c1ba-ace8-4813-e71d-6c67b040dfe6"
   },
   "outputs": [
    {
     "data": {
      "text/plain": [
       "<lightning.qubit device (wires=8) at 0x2a8256250>"
      ]
     },
     "execution_count": 40,
     "metadata": {},
     "output_type": "execute_result"
    }
   ],
   "source": [
    "dev = qml.device('lightning.qubit', wires=n_qubits)\n",
    "dev"
   ]
  },
  {
   "cell_type": "markdown",
   "metadata": {
    "id": "YMIm6pT0rrU2"
   },
   "source": [
    "# Quantum Model"
   ]
  },
  {
   "cell_type": "code",
   "execution_count": 547,
   "metadata": {
    "id": "MNajaNuErrU2"
   },
   "outputs": [],
   "source": [
    "# def H_layer(nqubits):\n",
    "#     \"\"\"Layer of single-qubit Hadamard gates.\"\"\"\n",
    "#     for idx in range(nqubits):\n",
    "#         qml.Hadamard(wires=idx)\n",
    "\n",
    "# def RY_layer(w):\n",
    "#     \"\"\"Layer of parametrized qubit rotations around the y axis.\"\"\"\n",
    "#     for idx, element in enumerate(w):\n",
    "#         qml.RY(element, wires=idx)\n",
    "\n",
    "# def entangling_layer(nqubits):\n",
    "#     \"\"\"Layer of CNOTs followed by another shifted layer of CNOT.\"\"\"\n",
    "#     for i in range(0, nqubits - 1, 2):  # Even indices\n",
    "#         qml.CNOT(wires=[i, i + 1])\n",
    "#     for i in range(1, nqubits - 1, 2):  # Odd indices\n",
    "#         qml.CNOT(wires=[i, i + 1])\n",
    "\n",
    "@qml.qnode(dev, interface=\"torch\")\n",
    "def quantum_net(q_input_features, q_weights_flat):\n",
    "    \"\"\"\n",
    "    Variational quantum circuit.\n",
    "    \"\"\"\n",
    "    # Reshape weights\n",
    "    q_weights = q_weights_flat.reshape(q_depth, n_qubits)\n",
    "\n",
    "    # Start from |+> state\n",
    "    # H_layer(n_qubits)\n",
    "    for idx in range(n_qubits):\n",
    "        qml.Hadamard(wires=idx)\n",
    "\n",
    "    # Embed input features\n",
    "    # RY_layer(q_input_features)\n",
    "    for idx, element in enumerate(q_input_features):\n",
    "        qml.RY(element, wires=idx)\n",
    "\n",
    "    # Apply trainable layers\n",
    "    for k in range(q_depth):\n",
    "        # entangling_layer(n_qubits)\n",
    "        for i in range(0, n_qubits - 1, 2):  # Even indices\n",
    "            qml.CNOT(wires=[i, i + 1])\n",
    "        for i in range(1, n_qubits - 1, 2):  # Odd indices\n",
    "            qml.CNOT(wires=[i, i + 1])\n",
    "        \n",
    "        # RY_layer(q_weights[k])\n",
    "        for idx, element in enumerate(q_weights[k]):\n",
    "            qml.RY(element, wires=idx)\n",
    "\n",
    "    # Return expectation values\n",
    "    return [qml.expval(qml.PauliZ(idx)) for idx in range(n_qubits)]\n",
    "    # return qml.math.stack([qml.expval(qml.PauliZ(idx)) for idx in range(n_qubits)])\n",
    "    # return qml.expval(qml.PauliZ(0))\n",
    "\n",
    "class DressedQuantumNet(nn.Module):\n",
    "    \"\"\"\n",
    "    Torch module for the dressed quantum network.\n",
    "    \"\"\"\n",
    "    def __init__(self, input_shape=51, dataset_idx=1):\n",
    "        super().__init__()\n",
    "        self.n_qubits = n_qubits\n",
    "        self.q_depth = q_depth\n",
    "        self.q_delta = 0.01\n",
    "        # self.pre_net = nn.Linear(input_shape, self.n_qubits)\n",
    "        self.q_params = nn.Parameter(self.q_delta * torch.randn(self.q_depth * self.n_qubits), requires_grad=True)\n",
    "        # self.post_net = nn.Linear(self.n_qubits, 7)\n",
    "\n",
    "        if (dataset_idx == 1) or (dataset_idx == 2):\n",
    "            self.pre_net = nn.Sequential(\n",
    "                            nn.Linear(input_shape, 64),\n",
    "                            nn.ReLU(),\n",
    "                            nn.Linear(64, 64),\n",
    "                            nn.ReLU(),\n",
    "                            nn.Dropout(0.4),\n",
    "                            nn.Linear(64, 32),\n",
    "                            nn.ReLU(),\n",
    "                            nn.Dropout(0.4),\n",
    "                            nn.Linear(32, 16),\n",
    "                            nn.ReLU(),\n",
    "                            nn.Dropout(0.4),\n",
    "                            nn.Linear(16, 8)\n",
    "                        )\n",
    "        elif dataset_idx == 3:\n",
    "            self.pre_net = nn.Sequential(\n",
    "                            nn.Linear(input_shape, 16),\n",
    "                            nn.ReLU(),\n",
    "                            nn.Linear(16, 16),\n",
    "                            nn.ReLU(),\n",
    "                            nn.Dropout(0.4),\n",
    "                            nn.Linear(16, 8)\n",
    "                        )\n",
    "\n",
    "        self.post_net = nn.Sequential(\n",
    "                            nn.Linear(n_qubits, 8),\n",
    "                            nn.ReLU(),\n",
    "                            nn.Dropout(0.4),\n",
    "                            nn.Linear(8, 4),\n",
    "                            nn.ReLU(),\n",
    "                            nn.Dropout(0.4),\n",
    "                            nn.Linear(4, 1)\n",
    "                        )\n",
    "\n",
    "    def forward(self, input_features):\n",
    "        \"\"\"\n",
    "        Forward pass through the dressed quantum network.\n",
    "        \"\"\"\n",
    "        # Preprocessing input to reduce dimensions\n",
    "        pre_out = self.pre_net(input_features)\n",
    "        q_in = torch.tanh(pre_out) * np.pi / 2.0\n",
    "\n",
    "        # Apply quantum circuit\n",
    "        # q_out = []\n",
    "\n",
    "        q_out = torch.Tensor(0, n_qubits)\n",
    "        q_out = q_out.to(device)\n",
    "        for elem in q_in:\n",
    "            # elem = elem.clone().detach().to(self.q_params.device)  # Ensure it's on the correct device and detached\n",
    "            # elem = elem.to(self.q_params.device)\n",
    "\n",
    "            q_out_elem = quantum_net(elem, self.q_params)  # Output as list\n",
    "\n",
    "            # Convert list to tensor if it's not already\n",
    "            # q_out_elem_tensor = q_out_elem\n",
    "            # q_out_elem_tensor = torch.tensor(q_out_elem, dtype=torch.float32, device=self.q_params.device)\n",
    "            q_out_elem_tensor = torch.hstack(q_out_elem).float().unsqueeze(0)\n",
    "            # q_out_elem_tensor = q_out_elem if isinstance(q_out_elem, torch.Tensor) else torch.tensor(q_out_elem, device=self.q_params.device)\n",
    "\n",
    "            # print(\"model inner requires_grad?\", q_out_elem_tensor.requires_grad)\n",
    "            # print(\"more model inner data:\", q_out_elem_tensor)\n",
    "\n",
    "            # Apply linear transformation to match 2 output classes (if needed)\n",
    "            # q_out_elem = torch.nn.Linear(q_out_elem_tensor.size(-1), 2)(q_out_elem_tensor)  # Adjust size to 2\n",
    "            # q_out_elem = self.post_net(q_out_elem_tensor)\n",
    "\n",
    "            # q_out.append(q_out_elem)\n",
    "            \n",
    "            q_out = torch.cat((q_out, q_out_elem_tensor))\n",
    "\n",
    "        # Stack and process\n",
    "        # q_out = torch.stack(q_out, dim=0)  # Ensure this is stacked correctly\n",
    "        # print(\"q_out after loop:\", q_out.shape)\n",
    "\n",
    "        q_out = self.post_net(q_out)\n",
    "\n",
    "        # q_out = q_out.to(self.q_params.device, dtype=torch.float32, requires_grad=True)\n",
    "\n",
    "        return torch.sigmoid(q_out)"
   ]
  },
  {
   "cell_type": "markdown",
   "metadata": {
    "id": "qGz-wjYkrrU2"
   },
   "source": [
    "# Models"
   ]
  },
  {
   "cell_type": "code",
   "execution_count": 548,
   "metadata": {
    "id": "Jgy0BPa5rrU3"
   },
   "outputs": [],
   "source": [
    "model_IEEE = DressedQuantumNet(input_shape=50, dataset_idx=1)\n",
    "model_NSLKDD = DressedQuantumNet(input_shape=30, dataset_idx=2)\n",
    "model_SECOM = DressedQuantumNet(input_shape=10, dataset_idx=3)"
   ]
  },
  {
   "cell_type": "code",
   "execution_count": 539,
   "metadata": {},
   "outputs": [],
   "source": [
    "# model_IEEE.to(device)\n",
    "# model_NSLKDD.to(device)\n",
    "# model_SECOM.to(device)"
   ]
  },
  {
   "cell_type": "markdown",
   "metadata": {
    "id": "zX41dsI2rrU3"
   },
   "source": [
    "# DataLoader"
   ]
  },
  {
   "cell_type": "code",
   "execution_count": 41,
   "metadata": {
    "id": "ASDulriErrU3",
    "outputId": "f66466c3-e863-4059-82e6-cd2f87963a36"
   },
   "outputs": [
    {
     "data": {
      "text/plain": [
       "(1228, 12)"
      ]
     },
     "execution_count": 41,
     "metadata": {},
     "output_type": "execute_result"
    }
   ],
   "source": [
    "SECOM_train.shape"
   ]
  },
  {
   "cell_type": "code",
   "execution_count": 42,
   "metadata": {},
   "outputs": [],
   "source": [
    "IEEE_train = np.array(IEEE_train)\n",
    "IEEE_test = np.array(IEEE_test)\n",
    "\n",
    "NSLKDD_train = np.array(NSLKDD_train)\n",
    "NSLKDD_test = np.array(NSLKDD_test)\n",
    "\n",
    "SECOM_train = np.array(SECOM_train)\n",
    "SECOM_test = np.array(SECOM_test)"
   ]
  },
  {
   "cell_type": "code",
   "execution_count": 43,
   "metadata": {
    "id": "sYaJWhUPrrU3"
   },
   "outputs": [],
   "source": [
    "SECOM_train = SECOM_train[:, 1:]\n",
    "SECOM_test = SECOM_test[:, 1:]"
   ]
  },
  {
   "cell_type": "code",
   "execution_count": 44,
   "metadata": {
    "id": "MD21dDB6rrU3",
    "outputId": "79efa936-f3c3-42c8-faa4-e6726aeab718"
   },
   "outputs": [],
   "source": [
    "X_IEEE_train = IEEE_train[:, :-1]\n",
    "y_IEEE_train = IEEE_train[:, -1]\n",
    "\n",
    "X_IEEE_test = IEEE_test[:, :-1]\n",
    "y_IEEE_test = IEEE_test[:, -1]"
   ]
  },
  {
   "cell_type": "code",
   "execution_count": 45,
   "metadata": {
    "id": "5uBo7DXtrrU3",
    "outputId": "4f17d69d-1964-4c31-d538-fd0702816b36"
   },
   "outputs": [],
   "source": [
    "X_NSLKDD_train = NSLKDD_train[:, :-1]\n",
    "y_NSLKDD_train = NSLKDD_train[:, -1]\n",
    "\n",
    "X_NSLKDD_test = NSLKDD_test[:, :-1]\n",
    "y_NSLKDD_test = NSLKDD_test[:, -1]"
   ]
  },
  {
   "cell_type": "code",
   "execution_count": 46,
   "metadata": {
    "id": "3PRJox4CrrU3"
   },
   "outputs": [],
   "source": [
    "X_SECOM_train = SECOM_train[:, :-1]\n",
    "y_SECOM_train = SECOM_train[:, -1]\n",
    "\n",
    "X_SECOM_test = SECOM_test[:, :-1]\n",
    "y_SECOM_test = SECOM_test[:, -1]"
   ]
  },
  {
   "cell_type": "code",
   "execution_count": 47,
   "metadata": {
    "id": "t92sNChPrrU_"
   },
   "outputs": [],
   "source": [
    "# y_SECOM_train = y_SECOM_train.replace(-1, 0)\n",
    "# y_SECOM_test = y_SECOM_test.replace(-1, 0)\n",
    "\n",
    "y_SECOM_train = np.where(y_SECOM_train == -1, 0, y_SECOM_train)\n",
    "y_SECOM_test = np.where(y_SECOM_test == -1, 0, y_SECOM_test)"
   ]
  },
  {
   "cell_type": "code",
   "execution_count": 48,
   "metadata": {
    "id": "Be85i6KVrrVA"
   },
   "outputs": [],
   "source": [
    "class Dataset(Dataset):\n",
    "    def __init__(self, feature_cols, label_col):\n",
    "        self.features = feature_cols.astype(np.float32)\n",
    "        self.labels = label_col.astype(np.float32)\n",
    "\n",
    "    def __len__(self):\n",
    "        return len(self.features)\n",
    "\n",
    "    def __getitem__(self, idx):\n",
    "        x = torch.tensor(self.features[idx])\n",
    "        y = torch.tensor(self.labels[idx])\n",
    "        return x, y"
   ]
  },
  {
   "cell_type": "code",
   "execution_count": 49,
   "metadata": {
    "id": "4dA5FxcwrrVA"
   },
   "outputs": [],
   "source": [
    "IEEE_dataset_train = Dataset(X_IEEE_train, y_IEEE_train)\n",
    "NSLKDD_dataset_train = Dataset(X_NSLKDD_train, y_NSLKDD_train)\n",
    "SECOM_dataset_train = Dataset(X_SECOM_train, y_SECOM_train)"
   ]
  },
  {
   "cell_type": "code",
   "execution_count": 50,
   "metadata": {
    "id": "jbi4siuerrVA"
   },
   "outputs": [],
   "source": [
    "IEEE_dataset_test = Dataset(X_IEEE_test, y_IEEE_test)\n",
    "NSLKDD_dataset_test = Dataset(X_NSLKDD_test, y_NSLKDD_test)\n",
    "SECOM_dataset_test = Dataset(X_SECOM_test, y_SECOM_test)"
   ]
  },
  {
   "cell_type": "code",
   "execution_count": 51,
   "metadata": {
    "id": "V0iGTHnHrrVA"
   },
   "outputs": [],
   "source": [
    "train_loader_IEEE = DataLoader(IEEE_dataset_train, batch_size=32, shuffle=True)\n",
    "test_loader_IEEE = DataLoader(IEEE_dataset_test, batch_size=32, shuffle=False)"
   ]
  },
  {
   "cell_type": "code",
   "execution_count": 52,
   "metadata": {
    "id": "je59s_TVrrVA"
   },
   "outputs": [],
   "source": [
    "train_loader_NSLKDD = DataLoader(NSLKDD_dataset_train, batch_size=32, shuffle=True)\n",
    "test_loader_NSLKDD = DataLoader(NSLKDD_dataset_test, batch_size=32, shuffle=False)"
   ]
  },
  {
   "cell_type": "code",
   "execution_count": 53,
   "metadata": {
    "id": "SWzp3HJZrrVA"
   },
   "outputs": [],
   "source": [
    "train_loader_SECOM = DataLoader(SECOM_dataset_train, batch_size=32, shuffle=True)\n",
    "test_loader_SECOM = DataLoader(SECOM_dataset_test, batch_size=32, shuffle=False)"
   ]
  },
  {
   "cell_type": "markdown",
   "metadata": {
    "id": "trju6P4irrVA"
   },
   "source": [
    "# Training"
   ]
  },
  {
   "cell_type": "code",
   "execution_count": null,
   "metadata": {},
   "outputs": [],
   "source": [
    "optimizer = optim.Adam([p for n, p in model_SECOM.named_parameters() if 'q_params' not in n], lr=0.001)\n",
    "\n",
    "# quantum_opt = optim.Adam([model_SECOM.q_params], lr=0.01)\n",
    "quantum_opt = QNGOptimizer(stepsize=0.01)"
   ]
  },
  {
   "cell_type": "code",
   "execution_count": 550,
   "metadata": {},
   "outputs": [
    {
     "data": {
      "text/plain": [
       "Parameter containing:\n",
       "tensor([-0.0150, -0.0184,  0.0132, -0.0123, -0.0137, -0.0086,  0.0189,  0.0100,\n",
       "        -0.0099,  0.0038, -0.0009, -0.0051,  0.0157, -0.0027,  0.0046, -0.0077],\n",
       "       requires_grad=True)"
      ]
     },
     "execution_count": 550,
     "metadata": {},
     "output_type": "execute_result"
    }
   ],
   "source": [
    "model_SECOM.q_params"
   ]
  },
  {
   "cell_type": "code",
   "execution_count": 72,
   "metadata": {
    "id": "5JV6ekxPrrVA"
   },
   "outputs": [],
   "source": [
    "criterion = nn.BCELoss()\n",
    "loss_fn = torch.nn.BCELoss()"
   ]
  },
  {
   "cell_type": "code",
   "execution_count": 552,
   "metadata": {
    "id": "VlJk4A7FrrVA"
   },
   "outputs": [],
   "source": [
    "import time"
   ]
  },
  {
   "cell_type": "code",
   "execution_count": 553,
   "metadata": {},
   "outputs": [
    {
     "name": "stdout",
     "output_type": "stream",
     "text": [
      "Parameter containing:\n",
      "tensor([-0.0150, -0.0184,  0.0132, -0.0123, -0.0137, -0.0086,  0.0189,  0.0100,\n",
      "        -0.0099,  0.0038, -0.0009, -0.0051,  0.0157, -0.0027,  0.0046, -0.0077],\n",
      "       requires_grad=True)\n"
     ]
    }
   ],
   "source": [
    "print(model_SECOM.q_params)"
   ]
  },
  {
   "cell_type": "code",
   "execution_count": 556,
   "metadata": {},
   "outputs": [
    {
     "data": {
      "text/plain": [
       "tensor([ 1.2926e-04,  2.7655e-06,  9.5228e-04,  4.8845e-05,  8.5074e-04,\n",
       "        -1.0898e-04,  1.1940e-03, -1.7153e-04,  1.6031e-04,  1.5702e-04,\n",
       "         6.7029e-04, -7.4013e-05, -5.9704e-04, -5.6136e-04,  6.1118e-04,\n",
       "        -7.2171e-04])"
      ]
     },
     "execution_count": 556,
     "metadata": {},
     "output_type": "execute_result"
    }
   ],
   "source": [
    "model_SECOM.q_params.grad"
   ]
  },
  {
   "cell_type": "code",
   "execution_count": null,
   "metadata": {
    "id": "ta1Yl6i0rrVA",
    "outputId": "394e8476-2c44-4da5-c8e3-f8571fcba0aa"
   },
   "outputs": [
    {
     "ename": "TypeError",
     "evalue": "quantum_net() missing 1 required positional argument: 'q_weights_flat'",
     "output_type": "error",
     "traceback": [
      "\u001b[31m---------------------------------------------------------------------------\u001b[39m",
      "\u001b[31mTypeError\u001b[39m                                 Traceback (most recent call last)",
      "\u001b[36mCell\u001b[39m\u001b[36m \u001b[39m\u001b[32mIn[573]\u001b[39m\u001b[32m, line 71\u001b[39m\n\u001b[32m     69\u001b[39m \u001b[38;5;66;03m# QNG update\u001b[39;00m\n\u001b[32m     70\u001b[39m metric_fn = qml.metric_tensor(quantum_net, approx=\u001b[33m\"\u001b[39m\u001b[33mblock-diag\u001b[39m\u001b[33m\"\u001b[39m)\n\u001b[32m---> \u001b[39m\u001b[32m71\u001b[39m q_params_updated = \u001b[43mquantum_opt\u001b[49m\u001b[43m.\u001b[49m\u001b[43mstep\u001b[49m\u001b[43m(\u001b[49m\n\u001b[32m     72\u001b[39m \u001b[43m    \u001b[49m\u001b[43mqnode_cost\u001b[49m\u001b[43m,\u001b[49m\n\u001b[32m     73\u001b[39m \u001b[43m    \u001b[49m\u001b[43mq_params_np\u001b[49m\u001b[43m,\u001b[49m\n\u001b[32m     74\u001b[39m \u001b[43m    \u001b[49m\u001b[43mgrad_fn\u001b[49m\u001b[43m=\u001b[49m\u001b[38;5;28;43;01mlambda\u001b[39;49;00m\u001b[43m \u001b[49m\u001b[43mq\u001b[49m\u001b[43m:\u001b[49m\u001b[43m \u001b[49m\u001b[43mquantum_grad_np\u001b[49m\u001b[43m,\u001b[49m\n\u001b[32m     75\u001b[39m \u001b[43m    \u001b[49m\u001b[43mmetric_tensor_fn\u001b[49m\u001b[43m=\u001b[49m\u001b[43mmetric_fn\u001b[49m\n\u001b[32m     76\u001b[39m \u001b[43m\u001b[49m\u001b[43m)\u001b[49m\n\u001b[32m     78\u001b[39m \u001b[38;5;66;03m# q_params_updated = quantum_opt.step(quantum_net, model_SECOM.q_params, metric_tensor_fn=qml.adjoint_metric_tensor(quantum_net))\u001b[39;00m\n\u001b[32m     79\u001b[39m \n\u001b[32m     80\u001b[39m \u001b[38;5;66;03m# Update model parameters\u001b[39;00m\n\u001b[32m     81\u001b[39m \u001b[38;5;28;01mwith\u001b[39;00m torch.no_grad():\n",
      "\u001b[36mFile \u001b[39m\u001b[32m~/VSCode Projects/Zenqor/.venv/lib/python3.11/site-packages/pennylane/optimize/qng.py:254\u001b[39m, in \u001b[36mQNGOptimizer.step\u001b[39m\u001b[34m(self, qnode, grad_fn, recompute_tensor, metric_tensor_fn, *args, **kwargs)\u001b[39m\n\u001b[32m    230\u001b[39m \u001b[38;5;28;01mdef\u001b[39;00m\u001b[38;5;250m \u001b[39m\u001b[34mstep\u001b[39m(\n\u001b[32m    231\u001b[39m     \u001b[38;5;28mself\u001b[39m, qnode, *args, grad_fn=\u001b[38;5;28;01mNone\u001b[39;00m, recompute_tensor=\u001b[38;5;28;01mTrue\u001b[39;00m, metric_tensor_fn=\u001b[38;5;28;01mNone\u001b[39;00m, **kwargs\n\u001b[32m    232\u001b[39m ):\n\u001b[32m    233\u001b[39m \u001b[38;5;250m    \u001b[39m\u001b[33;03m\"\"\"Update the parameter array :math:`x` with one step of the optimizer.\u001b[39;00m\n\u001b[32m    234\u001b[39m \n\u001b[32m    235\u001b[39m \u001b[33;03m    Args:\u001b[39;00m\n\u001b[32m   (...)\u001b[39m\u001b[32m    252\u001b[39m \u001b[33;03m        array: the new variable values :math:`x^{(t+1)}`\u001b[39;00m\n\u001b[32m    253\u001b[39m \u001b[33;03m    \"\"\"\u001b[39;00m\n\u001b[32m--> \u001b[39m\u001b[32m254\u001b[39m     new_args, _ = \u001b[38;5;28;43mself\u001b[39;49m\u001b[43m.\u001b[49m\u001b[43mstep_and_cost\u001b[49m\u001b[43m(\u001b[49m\n\u001b[32m    255\u001b[39m \u001b[43m        \u001b[49m\u001b[43mqnode\u001b[49m\u001b[43m,\u001b[49m\n\u001b[32m    256\u001b[39m \u001b[43m        \u001b[49m\u001b[43m*\u001b[49m\u001b[43margs\u001b[49m\u001b[43m,\u001b[49m\n\u001b[32m    257\u001b[39m \u001b[43m        \u001b[49m\u001b[43mgrad_fn\u001b[49m\u001b[43m=\u001b[49m\u001b[43mgrad_fn\u001b[49m\u001b[43m,\u001b[49m\n\u001b[32m    258\u001b[39m \u001b[43m        \u001b[49m\u001b[43mrecompute_tensor\u001b[49m\u001b[43m=\u001b[49m\u001b[43mrecompute_tensor\u001b[49m\u001b[43m,\u001b[49m\n\u001b[32m    259\u001b[39m \u001b[43m        \u001b[49m\u001b[43mmetric_tensor_fn\u001b[49m\u001b[43m=\u001b[49m\u001b[43mmetric_tensor_fn\u001b[49m\u001b[43m,\u001b[49m\n\u001b[32m    260\u001b[39m \u001b[43m        \u001b[49m\u001b[43m*\u001b[49m\u001b[43m*\u001b[49m\u001b[43mkwargs\u001b[49m\u001b[43m,\u001b[49m\n\u001b[32m    261\u001b[39m \u001b[43m    \u001b[49m\u001b[43m)\u001b[49m\n\u001b[32m    262\u001b[39m     \u001b[38;5;28;01mreturn\u001b[39;00m new_args\n",
      "\u001b[36mFile \u001b[39m\u001b[32m~/VSCode Projects/Zenqor/.venv/lib/python3.11/site-packages/pennylane/optimize/qng.py:212\u001b[39m, in \u001b[36mQNGOptimizer.step_and_cost\u001b[39m\u001b[34m(self, qnode, grad_fn, recompute_tensor, metric_tensor_fn, *args, **kwargs)\u001b[39m\n\u001b[32m    209\u001b[39m \u001b[38;5;28;01mif\u001b[39;00m metric_tensor_fn \u001b[38;5;129;01mis\u001b[39;00m \u001b[38;5;28;01mNone\u001b[39;00m:\n\u001b[32m    210\u001b[39m     metric_tensor_fn = qml.metric_tensor(qnode, approx=\u001b[38;5;28mself\u001b[39m.approx)\n\u001b[32m--> \u001b[39m\u001b[32m212\u001b[39m mt = \u001b[43mmetric_tensor_fn\u001b[49m\u001b[43m(\u001b[49m\u001b[43m*\u001b[49m\u001b[43margs\u001b[49m\u001b[43m,\u001b[49m\u001b[43m \u001b[49m\u001b[43m*\u001b[49m\u001b[43m*\u001b[49m\u001b[43mkwargs\u001b[49m\u001b[43m)\u001b[49m\n\u001b[32m    213\u001b[39m \u001b[38;5;28;01mif\u001b[39;00m \u001b[38;5;28misinstance\u001b[39m(mt, \u001b[38;5;28mtuple\u001b[39m):\n\u001b[32m    214\u001b[39m     \u001b[38;5;28mself\u001b[39m.metric_tensor = \u001b[38;5;28mtuple\u001b[39m(_reshape_and_regularize(_mt, \u001b[38;5;28mself\u001b[39m.lam) \u001b[38;5;28;01mfor\u001b[39;00m _mt \u001b[38;5;129;01min\u001b[39;00m mt)\n",
      "\u001b[36mFile \u001b[39m\u001b[32m~/VSCode Projects/Zenqor/.venv/lib/python3.11/site-packages/pennylane/workflow/qnode.py:905\u001b[39m, in \u001b[36mQNode.__call__\u001b[39m\u001b[34m(self, *args, **kwargs)\u001b[39m\n\u001b[32m    903\u001b[39m \u001b[38;5;28;01mif\u001b[39;00m qml.capture.enabled():\n\u001b[32m    904\u001b[39m     \u001b[38;5;28;01mreturn\u001b[39;00m capture_qnode(\u001b[38;5;28mself\u001b[39m, *args, **kwargs)\n\u001b[32m--> \u001b[39m\u001b[32m905\u001b[39m \u001b[38;5;28;01mreturn\u001b[39;00m \u001b[38;5;28;43mself\u001b[39;49m\u001b[43m.\u001b[49m\u001b[43m_impl_call\u001b[49m\u001b[43m(\u001b[49m\u001b[43m*\u001b[49m\u001b[43margs\u001b[49m\u001b[43m,\u001b[49m\u001b[43m \u001b[49m\u001b[43m*\u001b[49m\u001b[43m*\u001b[49m\u001b[43mkwargs\u001b[49m\u001b[43m)\u001b[49m\n",
      "\u001b[36mFile \u001b[39m\u001b[32m~/VSCode Projects/Zenqor/.venv/lib/python3.11/site-packages/pennylane/workflow/qnode.py:868\u001b[39m, in \u001b[36mQNode._impl_call\u001b[39m\u001b[34m(self, *args, **kwargs)\u001b[39m\n\u001b[32m    865\u001b[39m \u001b[38;5;28;01mdef\u001b[39;00m\u001b[38;5;250m \u001b[39m\u001b[34m_impl_call\u001b[39m(\u001b[38;5;28mself\u001b[39m, *args, **kwargs) -> qml.typing.Result:\n\u001b[32m    866\u001b[39m \n\u001b[32m    867\u001b[39m     \u001b[38;5;66;03m# construct the tape\u001b[39;00m\n\u001b[32m--> \u001b[39m\u001b[32m868\u001b[39m     tape = \u001b[38;5;28;43mself\u001b[39;49m\u001b[43m.\u001b[49m\u001b[43mconstruct\u001b[49m\u001b[43m(\u001b[49m\u001b[43margs\u001b[49m\u001b[43m,\u001b[49m\u001b[43m \u001b[49m\u001b[43mkwargs\u001b[49m\u001b[43m)\u001b[49m\n\u001b[32m    870\u001b[39m     \u001b[38;5;28;01mif\u001b[39;00m \u001b[38;5;28mself\u001b[39m.interface == \u001b[33m\"\u001b[39m\u001b[33mauto\u001b[39m\u001b[33m\"\u001b[39m:\n\u001b[32m    871\u001b[39m         interface = qml.math.get_interface(*args, *\u001b[38;5;28mlist\u001b[39m(kwargs.values()))\n",
      "\u001b[36mFile \u001b[39m\u001b[32m~/VSCode Projects/Zenqor/.venv/lib/python3.11/site-packages/pennylane/logging/decorators.py:61\u001b[39m, in \u001b[36mlog_string_debug_func.<locals>.wrapper_entry\u001b[39m\u001b[34m(*args, **kwargs)\u001b[39m\n\u001b[32m     54\u001b[39m     s_caller = \u001b[33m\"\u001b[39m\u001b[33m::L\u001b[39m\u001b[33m\"\u001b[39m.join(\n\u001b[32m     55\u001b[39m         [\u001b[38;5;28mstr\u001b[39m(i) \u001b[38;5;28;01mfor\u001b[39;00m i \u001b[38;5;129;01min\u001b[39;00m inspect.getouterframes(inspect.currentframe(), \u001b[32m2\u001b[39m)[\u001b[32m1\u001b[39m][\u001b[32m1\u001b[39m:\u001b[32m3\u001b[39m]]\n\u001b[32m     56\u001b[39m     )\n\u001b[32m     57\u001b[39m     lgr.debug(\n\u001b[32m     58\u001b[39m         \u001b[33mf\u001b[39m\u001b[33m\"\u001b[39m\u001b[33mCalling \u001b[39m\u001b[38;5;132;01m{\u001b[39;00mf_string\u001b[38;5;132;01m}\u001b[39;00m\u001b[33m from \u001b[39m\u001b[38;5;132;01m{\u001b[39;00ms_caller\u001b[38;5;132;01m}\u001b[39;00m\u001b[33m\"\u001b[39m,\n\u001b[32m     59\u001b[39m         **_debug_log_kwargs,\n\u001b[32m     60\u001b[39m     )\n\u001b[32m---> \u001b[39m\u001b[32m61\u001b[39m \u001b[38;5;28;01mreturn\u001b[39;00m \u001b[43mfunc\u001b[49m\u001b[43m(\u001b[49m\u001b[43m*\u001b[49m\u001b[43margs\u001b[49m\u001b[43m,\u001b[49m\u001b[43m \u001b[49m\u001b[43m*\u001b[49m\u001b[43m*\u001b[49m\u001b[43mkwargs\u001b[49m\u001b[43m)\u001b[49m\n",
      "\u001b[36mFile \u001b[39m\u001b[32m~/VSCode Projects/Zenqor/.venv/lib/python3.11/site-packages/pennylane/workflow/qnode.py:854\u001b[39m, in \u001b[36mQNode.construct\u001b[39m\u001b[34m(self, args, kwargs)\u001b[39m\n\u001b[32m    852\u001b[39m \u001b[38;5;28;01mwith\u001b[39;00m pldb_device_manager(\u001b[38;5;28mself\u001b[39m.device):\n\u001b[32m    853\u001b[39m     \u001b[38;5;28;01mwith\u001b[39;00m qml.queuing.AnnotatedQueue() \u001b[38;5;28;01mas\u001b[39;00m q:\n\u001b[32m--> \u001b[39m\u001b[32m854\u001b[39m         \u001b[38;5;28mself\u001b[39m._qfunc_output = \u001b[38;5;28;43mself\u001b[39;49m\u001b[43m.\u001b[49m\u001b[43mfunc\u001b[49m\u001b[43m(\u001b[49m\u001b[43m*\u001b[49m\u001b[43margs\u001b[49m\u001b[43m,\u001b[49m\u001b[43m \u001b[49m\u001b[43m*\u001b[49m\u001b[43m*\u001b[49m\u001b[43mkwargs\u001b[49m\u001b[43m)\u001b[49m\n\u001b[32m    856\u001b[39m tape = QuantumScript.from_queue(q, shots)\n\u001b[32m    858\u001b[39m params = tape.get_parameters(trainable_only=\u001b[38;5;28;01mFalse\u001b[39;00m)\n",
      "\u001b[31mTypeError\u001b[39m: quantum_net() missing 1 required positional argument: 'q_weights_flat'"
     ]
    }
   ],
   "source": [
    "epoch_losses = []\n",
    "val_losses = []\n",
    "epoch_accuracies = []\n",
    "val_accuracies = []\n",
    "training_times = []\n",
    "\n",
    "for epoch in range(20):\n",
    "    model_SECOM.train()\n",
    "    total_correct = 0\n",
    "    total_samples = 0\n",
    "    epoch_loss = 0.0\n",
    "    train_acc = 0.0\n",
    "    train_loss = 0.0\n",
    "\n",
    "    start_time = time.time()\n",
    "\n",
    "    for X_batch, y_batch in train_loader_SECOM:\n",
    "        # start_time_one_batch = time.time()\n",
    "        X_batch = X_batch.to(model_SECOM.q_params.device)\n",
    "        y_batch = y_batch.to(model_SECOM.q_params.device).unsqueeze(1)\n",
    "\n",
    "        output = model_SECOM(X_batch)\n",
    "        loss = loss_fn(output, y_batch)\n",
    "\n",
    "        optimizer.zero_grad()\n",
    "        # quantum_opt.zero_grad()\n",
    "\n",
    "        loss.backward()\n",
    "\n",
    "        quantum_grad = model_SECOM.q_params.grad\n",
    "\n",
    "        optimizer.step()\n",
    "        # quantum_opt.step()\n",
    "        # print(\"quantum_grad:\", quantum_grad)\n",
    "\n",
    "        if quantum_grad is not None:\n",
    "            # Convert to numpy for QNG (PennyLane expects numpy arrays)\n",
    "            q_params_np = model_SECOM.q_params.detach().numpy()\n",
    "            quantum_grad_np = quantum_grad.detach().numpy()\n",
    "            \n",
    "            # # QNG update step\n",
    "            # q_params_updated = quantum_opt.step(\n",
    "            #     lambda q: loss.item(),  # We just need the loss value\n",
    "            #     q_params_np,\n",
    "            #     grad_fn=lambda q: quantum_grad_np\n",
    "            # )\n",
    "\n",
    "\n",
    "            def qnode_cost(q_params_numpy):\n",
    "                # q_out_list = []\n",
    "                # # for x in X_batch:\n",
    "                if True:\n",
    "                #     # q_out = quantum_net(x.detach().cpu().numpy(), q_params_numpy)\n",
    "                    x = X_batch[0]\n",
    "                    print(x)\n",
    "                #     q_out = quantum_net(x.detach().cpu().numpy(), q_params_numpy)\n",
    "\n",
    "                #     q_out_list.append(q_out)\n",
    "                # q_out_tensor = torch.tensor(q_out_list, device=X_batch.device, dtype=torch.float32)\n",
    "                # final_output = model_SECOM.post_net(q_out_tensor)\n",
    "                # pred = torch.sigmoid(final_output)\n",
    "\n",
    "                # loss_function_q_inner = loss_fn(pred, y_batch)\n",
    "                # print(\"loss_function_q_inner:\", loss_function_q_inner)\n",
    "\n",
    "                # return loss_function_q_inner.item()\n",
    "                return (1 - quantum_net(x.detach().cpu().numpy(), q_params_numpy)) ** 2\n",
    "\n",
    "            # QNG update\n",
    "            metric_fn = qml.metric_tensor(quantum_net, approx=\"block-diag\")\n",
    "            q_params_updated = quantum_opt.step(\n",
    "                qnode_cost,\n",
    "                q_params_np,\n",
    "                grad_fn=lambda q: quantum_grad_np,\n",
    "                metric_tensor_fn=metric_fn\n",
    "            )\n",
    "\n",
    "            # q_params_updated = quantum_opt.step(quantum_net, model_SECOM.q_params, metric_tensor_fn=qml.adjoint_metric_tensor(quantum_net))\n",
    "            \n",
    "            # Update model parameters\n",
    "            with torch.no_grad():\n",
    "                model_SECOM.q_params.copy_(torch.tensor(q_params_updated))\n",
    "\n",
    "        # Accumulate loss\n",
    "        epoch_loss += loss.item() * X_batch.size(0)\n",
    "\n",
    "        # Convert predictions to binary (assuming binary classification)\n",
    "        preds = (output > 0.5).float()\n",
    "        total_correct += (preds == y_batch).sum().item()\n",
    "        total_samples += y_batch.size(0)\n",
    "\n",
    "        train_acc += accuracy_score(y_batch.cpu(), preds.cpu())\n",
    "        train_loss += loss.item()\n",
    "\n",
    "        # end_time_one_batch = time.time()\n",
    "        # print(\"time for the batch:\", end_time_one_batch - start_time_one_batch)\n",
    "\n",
    "    avg_loss = epoch_loss / total_samples\n",
    "    accuracy = total_correct / total_samples\n",
    "    epoch_losses.append(avg_loss)\n",
    "    epoch_accuracies.append(accuracy)\n",
    "\n",
    "    # print(f\"Epoch {epoch+1}, Loss: {avg_loss:.4f}, Accuracy: {accuracy:.4f}\")\n",
    "\n",
    "    # Validation\n",
    "    model_SECOM.eval()\n",
    "    val_loss, val_acc = 0, 0\n",
    "    with torch.no_grad():\n",
    "        for x, y in test_loader_SECOM:\n",
    "            x, y = x.to(model_SECOM.q_params.device), y.float().unsqueeze(1).to(model_SECOM.q_params.device)\n",
    "            outputs = model_SECOM(x)\n",
    "            loss = criterion(outputs, y)\n",
    "            preds = (outputs > 0.5).float()\n",
    "            val_acc += accuracy_score(y.cpu(), preds.cpu())\n",
    "            val_loss += loss.item()\n",
    "    \n",
    "    # Store validation metrics\n",
    "    avg_val_loss = val_loss / len(test_loader_SECOM)\n",
    "    avg_val_acc = val_acc / len(test_loader_SECOM)\n",
    "    val_losses.append(avg_val_loss)\n",
    "    val_accuracies.append(avg_val_acc)\n",
    "    \n",
    "    epoch_time = time.time() - start_time\n",
    "    training_times.append(epoch_time)\n",
    "\n",
    "    print(f\"Epoch {epoch + 1} | \"\n",
    "          f\"Train Loss: {avg_loss:.4f} | \"\n",
    "          f\"Train Acc: {accuracy:.4f} | \"\n",
    "          f\"Val Loss: {avg_val_loss:.4f} | \"\n",
    "          f\"Val Acc: {avg_val_acc:.4f} | \"\n",
    "          f\"Time: {epoch_time:.2f}s\")\n",
    "\n",
    "# # Plotting\n",
    "# plt.figure(figsize=(12, 5))\n",
    "\n",
    "# plt.subplot(1, 2, 1)\n",
    "# plt.plot(epoch_losses, label=\"Loss\")\n",
    "# plt.title(\"Loss over Epochs\")\n",
    "# plt.xlabel(\"Epoch\")\n",
    "# plt.ylabel(\"Loss\")\n",
    "# plt.grid(True)\n",
    "# plt.legend()\n",
    "\n",
    "# plt.subplot(1, 2, 2)\n",
    "# plt.plot(epoch_accuracies, label=\"Accuracy\", color='green')\n",
    "# plt.title(\"Accuracy over Epochs\")\n",
    "# plt.xlabel(\"Epoch\")\n",
    "# plt.ylabel(\"Accuracy\")\n",
    "# plt.grid(True)\n",
    "# plt.legend()\n",
    "\n",
    "# plt.tight_layout()\n",
    "# plt.show()"
   ]
  },
  {
   "cell_type": "code",
   "execution_count": 380,
   "metadata": {},
   "outputs": [
    {
     "data": {
      "image/png": "[encoded data removed]",
      "text/plain": [
       "<Figure size 1200x500 with 2 Axes>"
      ]
     },
     "metadata": {},
     "output_type": "display_data"
    }
   ],
   "source": [
    "# Plotting\n",
    "plt.figure(figsize=(12, 5))\n",
    "\n",
    "plt.subplot(1, 2, 1)\n",
    "plt.plot(epoch_losses, label=\"Loss\")\n",
    "plt.title(\"Loss over Epochs\")\n",
    "plt.xlabel(\"Epoch\")\n",
    "plt.ylabel(\"Loss\")\n",
    "plt.grid(True)\n",
    "plt.legend()\n",
    "\n",
    "plt.subplot(1, 2, 2)\n",
    "plt.plot(epoch_accuracies, label=\"Accuracy\", color='green')\n",
    "plt.title(\"Accuracy over Epochs\")\n",
    "plt.xlabel(\"Epoch\")\n",
    "plt.ylabel(\"Accuracy\")\n",
    "plt.grid(True)\n",
    "plt.legend()\n",
    "\n",
    "plt.tight_layout()\n",
    "plt.show()"
   ]
  },
  {
   "cell_type": "code",
   "execution_count": 381,
   "metadata": {
    "id": "cu47-L4OrrVB",
    "outputId": "541858e8-0f32-4c96-f3c8-7f1eb9169c47"
   },
   "outputs": [
    {
     "name": "stdout",
     "output_type": "stream",
     "text": [
      "Test Loss: 0.2389, Test Accuracy: 0.9351\n"
     ]
    }
   ],
   "source": [
    "model_SECOM.eval()  # Set model to evaluation mode\n",
    "test_loss = 0.0\n",
    "correct = 0\n",
    "total = 0\n",
    "\n",
    "with torch.no_grad():\n",
    "    for X_batch, y_batch in test_loader_SECOM:\n",
    "        X_batch = X_batch.to(model_SECOM.q_params.device)\n",
    "        y_batch = y_batch.to(model_SECOM.q_params.device).unsqueeze(1)\n",
    "\n",
    "        output = model_SECOM(X_batch)\n",
    "        loss = loss_fn(output, y_batch)\n",
    "\n",
    "        test_loss += loss.item() * X_batch.size(0)\n",
    "\n",
    "        # Binary predictions\n",
    "        preds = (output > 0.5).float()\n",
    "        correct += (preds == y_batch).sum().item()\n",
    "        total += y_batch.size(0)\n",
    "\n",
    "avg_test_loss = test_loss / total\n",
    "test_accuracy = correct / total\n",
    "\n",
    "print(f\"Test Loss: {avg_test_loss:.4f}, Test Accuracy: {test_accuracy:.4f}\")"
   ]
  },
  {
   "cell_type": "code",
   "execution_count": 91,
   "metadata": {},
   "outputs": [],
   "source": [
    "def evaluate_model_from_data(model, X, y_true, average='binary'):\n",
    "    \"\"\"\n",
    "    Evaluates a trained model using the provided dataset.\n",
    "\n",
    "    Parameters:\n",
    "    - model: Trained model with .predict() method\n",
    "    - X: Feature data\n",
    "    - y_true: Ground truth labels\n",
    "    - average: 'binary', 'macro', or 'weighted' (for multiclass)\n",
    "\n",
    "    Returns:\n",
    "    - Dictionary of evaluation metrics\n",
    "    \"\"\"\n",
    "\n",
    "    X = torch.tensor(X).float()\n",
    "    y_true = torch.tensor(y_true).float()\n",
    "\n",
    "    # Predict labels\n",
    "    try:\n",
    "        y_pred = model(X)\n",
    "    except Exception as e:\n",
    "        return {\"error\": f\"Model prediction failed: {e}\"}\n",
    "\n",
    "    # Predict probabilities if possible\n",
    "    y_prob = None\n",
    "    if hasattr(model, \"predict_proba\"):\n",
    "        try:\n",
    "            y_prob = model.predict_proba(X)\n",
    "            # For binary, use only positive class probs\n",
    "            if y_prob.shape[1] == 2:\n",
    "                y_prob = y_prob[:, 1]\n",
    "        except:\n",
    "            y_prob = None\n",
    "    \n",
    "    y_pred = y_pred.detach().numpy()\n",
    "    y_pred = (y_pred > 0.5).astype(float)\n",
    "\n",
    "    print(\"y_pred:\", y_pred)\n",
    "\n",
    "    # Metrics\n",
    "    metrics = {}\n",
    "    metrics['Accuracy'] = accuracy_score(y_true, y_pred)\n",
    "    metrics['Precision'] = precision_score(y_true, y_pred, average=average, zero_division=0)\n",
    "    metrics['Recall'] = recall_score(y_true, y_pred, average=average, zero_division=0)\n",
    "    metrics['F1 Score'] = f1_score(y_true, y_pred, average=average, zero_division=0)\n",
    "    metrics['Confusion Matrix'] = confusion_matrix(y_true, y_pred)\n",
    "    metrics['Classification Report'] = classification_report(y_true, y_pred, zero_division=0)\n",
    "\n",
    "    if y_prob is not None:\n",
    "        try:\n",
    "            if len(np.unique(y_true)) == 2:\n",
    "                metrics['ROC AUC'] = roc_auc_score(y_true, y_prob)\n",
    "            else:\n",
    "                metrics['ROC AUC'] = roc_auc_score(y_true, y_prob, multi_class='ovr')\n",
    "            metrics['Log Loss'] = log_loss(y_true, y_prob)\n",
    "        except Exception as e:\n",
    "            metrics['ROC AUC'] = f\"Error: {e}\"\n",
    "            metrics['Log Loss'] = f\"Error: {e}\"\n",
    "\n",
    "    return metrics\n",
    "    # return y_pred, y_prob\n"
   ]
  },
  {
   "cell_type": "code",
   "execution_count": 320,
   "metadata": {},
   "outputs": [
    {
     "name": "stderr",
     "output_type": "stream",
     "text": [
      "/var/folders/3x/956gglvx6tbcvyg7m0dghx8r0000gq/T/ipykernel_983/4139655915.py:71: UserWarning: To copy construct from a tensor, it is recommended to use sourceTensor.clone().detach() or sourceTensor.clone().detach().requires_grad_(True), rather than torch.tensor(sourceTensor).\n",
      "  q_out_elem_tensor = torch.tensor(q_out_elem, dtype=torch.float32, device=self.q_params.device)\n"
     ]
    }
   ],
   "source": [
    "y_pred__SECOM, y_prob__SECOM = evaluate_model_from_data(model_SECOM, X_SECOM_train, y_SECOM_train)"
   ]
  },
  {
   "cell_type": "code",
   "execution_count": 321,
   "metadata": {},
   "outputs": [
    {
     "data": {
      "text/plain": [
       "(1228, 1)"
      ]
     },
     "execution_count": 321,
     "metadata": {},
     "output_type": "execute_result"
    }
   ],
   "source": [
    "y_pred__SECOM.shape"
   ]
  },
  {
   "cell_type": "code",
   "execution_count": null,
   "metadata": {},
   "outputs": [],
   "source": [
    "y_pred__SECOM__proc = (y_pred__SECOM > 0.5)"
   ]
  },
  {
   "cell_type": "code",
   "execution_count": 329,
   "metadata": {},
   "outputs": [
    {
     "name": "stdout",
     "output_type": "stream",
     "text": [
      "{np.float64(0.0): np.int64(1144), np.float64(1.0): np.int64(84)}\n"
     ]
    }
   ],
   "source": [
    "# unique_items, counts = np.unique(y_pred__SECOM__proc, return_counts=True)\n",
    "unique_items, counts = np.unique(y_SECOM_train, return_counts=True)\n",
    "\n",
    "# Combine into a dictionary (optional)\n",
    "item_counts = dict(zip(unique_items, counts))\n",
    "\n",
    "print(item_counts)"
   ]
  },
  {
   "cell_type": "code",
   "execution_count": null,
   "metadata": {},
   "outputs": [],
   "source": [
    "# Metrics\n",
    "metrics = {}\n",
    "metrics['Accuracy'] = accuracy_score(y_true, y_pred)\n",
    "metrics['Precision'] = precision_score(y_true, y_pred, average=average, zero_division=0)\n",
    "metrics['Recall'] = recall_score(y_true, y_pred, average=average, zero_division=0)\n",
    "metrics['F1 Score'] = f1_score(y_true, y_pred, average=average, zero_division=0)\n",
    "metrics['Confusion Matrix'] = confusion_matrix(y_true, y_pred)\n",
    "metrics['Classification Report'] = classification_report(y_true, y_pred, zero_division=0)\n",
    "\n",
    "if y_prob is not None:\n",
    "    try:\n",
    "        if len(np.unique(y_true)) == 2:\n",
    "            metrics['ROC AUC'] = roc_auc_score(y_true, y_prob)\n",
    "        else:\n",
    "            metrics['ROC AUC'] = roc_auc_score(y_true, y_prob, multi_class='ovr')\n",
    "        metrics['Log Loss'] = log_loss(y_true, y_prob)\n",
    "    except Exception as e:\n",
    "        metrics['ROC AUC'] = f\"Error: {e}\"\n",
    "        metrics['Log Loss'] = f\"Error: {e}\""
   ]
  },
  {
   "cell_type": "code",
   "execution_count": 649,
   "metadata": {
    "id": "CNEKI48krrVB",
    "outputId": "3a97767c-6542-4586-dc51-c56c1eeba356"
   },
   "outputs": [
    {
     "name": "stdout",
     "output_type": "stream",
     "text": [
      "5294\n",
      "4706\n"
     ]
    }
   ],
   "source": [
    "count_0 = 0\n",
    "for i in y_NSLKDD_train:\n",
    "    if i == 0:\n",
    "        count_0 += 1\n",
    "\n",
    "print(count_0)\n",
    "print(len(y_NSLKDD_train) - count_0)"
   ]
  },
  {
   "cell_type": "code",
   "execution_count": null,
   "metadata": {
    "id": "GIeWiPw8rrVB",
    "outputId": "d10e1822-3179-46e8-926a-47b43e12c97a"
   },
   "outputs": [
    {
     "name": "stdout",
     "output_type": "stream",
     "text": [
      "Epoch 1, Loss: 0.6237, Accuracy: 0.6469\n",
      "Epoch 2, Loss: 0.6227, Accuracy: 0.6510\n",
      "Epoch 3, Loss: 0.6201, Accuracy: 0.6546\n",
      "Epoch 4, Loss: 0.6202, Accuracy: 0.6534\n",
      "Epoch 5, Loss: 0.6170, Accuracy: 0.6612\n",
      "Epoch 6, Loss: 0.6234, Accuracy: 0.6547\n",
      "Epoch 7, Loss: 0.6187, Accuracy: 0.6601\n",
      "Epoch 8, Loss: 0.6225, Accuracy: 0.6505\n",
      "Epoch 9, Loss: 0.6247, Accuracy: 0.6507\n",
      "Epoch 10, Loss: 0.6133, Accuracy: 0.6622\n",
      "Epoch 11, Loss: 0.6171, Accuracy: 0.6566\n",
      "Epoch 12, Loss: 0.6160, Accuracy: 0.6565\n",
      "Epoch 13, Loss: 0.6152, Accuracy: 0.6592\n",
      "Epoch 14, Loss: 0.6182, Accuracy: 0.6534\n",
      "Epoch 15, Loss: 0.6139, Accuracy: 0.6606\n",
      "Epoch 16, Loss: 0.6162, Accuracy: 0.6611\n",
      "Epoch 17, Loss: 0.6138, Accuracy: 0.6581\n",
      "Epoch 18, Loss: 0.6198, Accuracy: 0.6596\n",
      "Epoch 19, Loss: 0.6162, Accuracy: 0.6570\n",
      "Epoch 20, Loss: 0.6198, Accuracy: 0.6529\n",
      "Epoch 21, Loss: 0.6165, Accuracy: 0.6545\n",
      "Epoch 22, Loss: 0.6180, Accuracy: 0.6554\n",
      "Epoch 23, Loss: 0.6148, Accuracy: 0.6571\n",
      "Epoch 24, Loss: 0.6158, Accuracy: 0.6614\n",
      "Epoch 25, Loss: 0.6157, Accuracy: 0.6635\n",
      "Epoch 26, Loss: 0.6171, Accuracy: 0.6632\n",
      "Epoch 27, Loss: 0.6144, Accuracy: 0.6620\n",
      "Epoch 28, Loss: 0.6159, Accuracy: 0.6572\n",
      "Epoch 29, Loss: 0.6121, Accuracy: 0.6602\n",
      "Epoch 30, Loss: 0.6154, Accuracy: 0.6557\n"
     ]
    },
    {
     "data": {
      "image/png": "[encoded data removed]",
      "text/plain": [
       "<Figure size 1200x500 with 2 Axes>"
      ]
     },
     "metadata": {},
     "output_type": "display_data"
    }
   ],
   "source": [
    "epoch_losses = []\n",
    "epoch_accuracies = []\n",
    "\n",
    "for epoch in range(30):\n",
    "    model_NSLKDD.train()\n",
    "    total_correct = 0\n",
    "    total_samples = 0\n",
    "    epoch_loss = 0.0\n",
    "\n",
    "    for X_batch, y_batch in train_loader_NSLKDD:\n",
    "        X_batch = X_batch.to(model_NSLKDD.q_params.device)\n",
    "        y_batch = y_batch.to(model_NSLKDD.q_params.device).unsqueeze(1)\n",
    "\n",
    "        optimizer.zero_grad()\n",
    "        output = model_NSLKDD(X_batch)\n",
    "        loss = loss_fn(output, y_batch)\n",
    "        loss.backward()\n",
    "        optimizer.step()\n",
    "\n",
    "        # Accumulate loss\n",
    "        epoch_loss += loss.item() * X_batch.size(0)\n",
    "\n",
    "        # Convert predictions to binary (assuming binary classification)\n",
    "        preds = (output > 0.5).float()\n",
    "        total_correct += (preds == y_batch).sum().item()\n",
    "        total_samples += y_batch.size(0)\n",
    "\n",
    "    avg_loss = epoch_loss / total_samples\n",
    "    accuracy = total_correct / total_samples\n",
    "\n",
    "    epoch_losses.append(avg_loss)\n",
    "    epoch_accuracies.append(accuracy)\n",
    "\n",
    "    print(f\"Epoch {epoch+1}, Loss: {avg_loss:.4f}, Accuracy: {accuracy:.4f}\")\n",
    "\n",
    "# Plotting\n",
    "plt.figure(figsize=(12, 5))\n",
    "\n",
    "plt.subplot(1, 2, 1)\n",
    "plt.plot(epoch_losses, label=\"Loss\")\n",
    "plt.title(\"Loss over Epochs\")\n",
    "plt.xlabel(\"Epoch\")\n",
    "plt.ylabel(\"Loss\")\n",
    "plt.grid(True)\n",
    "plt.legend()\n",
    "\n",
    "plt.subplot(1, 2, 2)\n",
    "plt.plot(epoch_accuracies, label=\"Accuracy\", color='green')\n",
    "plt.title(\"Accuracy over Epochs\")\n",
    "plt.xlabel(\"Epoch\")\n",
    "plt.ylabel(\"Accuracy\")\n",
    "plt.grid(True)\n",
    "plt.legend()\n",
    "\n",
    "plt.tight_layout()\n",
    "plt.show()"
   ]
  },
  {
   "cell_type": "code",
   "execution_count": null,
   "metadata": {
    "id": "V4bS61SfrrVB",
    "outputId": "63998409-8000-4ef8-dc5a-e3bb969a5936"
   },
   "outputs": [
    {
     "name": "stdout",
     "output_type": "stream",
     "text": [
      "Test Loss: 0.6144, Test Accuracy: 0.7427\n"
     ]
    }
   ],
   "source": [
    "model_NSLKDD.eval()  # Set model to evaluation mode\n",
    "test_loss = 0.0\n",
    "correct = 0\n",
    "total = 0\n",
    "\n",
    "with torch.no_grad():\n",
    "    for X_batch, y_batch in test_loader_NSLKDD:\n",
    "        X_batch = X_batch.to(model_NSLKDD.q_params.device)\n",
    "        y_batch = y_batch.to(model_NSLKDD.q_params.device).unsqueeze(1)\n",
    "\n",
    "        output = model_NSLKDD(X_batch)\n",
    "        loss = loss_fn(output, y_batch)\n",
    "\n",
    "        test_loss += loss.item() * X_batch.size(0)\n",
    "\n",
    "        # Binary predictions\n",
    "        preds = (output > 0.5).float()\n",
    "        correct += (preds == y_batch).sum().item()\n",
    "        total += y_batch.size(0)\n",
    "\n",
    "avg_test_loss = test_loss / total\n",
    "test_accuracy = correct / total\n",
    "\n",
    "print(f\"Test Loss: {avg_test_loss:.4f}, Test Accuracy: {test_accuracy:.4f}\")"
   ]
  },
  {
   "cell_type": "code",
   "execution_count": null,
   "metadata": {
    "id": "7UfllYO-rrVB",
    "outputId": "ec08063e-cb36-4655-b406-fcd6897de9fe"
   },
   "outputs": [
    {
     "data": {
      "text/plain": [
       "0       1\n",
       "1       1\n",
       "2       1\n",
       "3       1\n",
       "4       1\n",
       "       ..\n",
       "1248    1\n",
       "1249    1\n",
       "1250    1\n",
       "1251    1\n",
       "1252    1\n",
       "Name: Pass/Fail, Length: 1253, dtype: int64"
      ]
     },
     "execution_count": 275,
     "metadata": {},
     "output_type": "execute_result"
    }
   ],
   "source": [
    "y_SECOM_train"
   ]
  },
  {
   "cell_type": "code",
   "execution_count": 92,
   "metadata": {
    "id": "mtAnmNIKrrVB",
    "outputId": "f7cdaf2c-b6ec-4a95-9e97-122b109f5be0"
   },
   "outputs": [
    {
     "name": "stderr",
     "output_type": "stream",
     "text": [
      "/var/folders/3x/956gglvx6tbcvyg7m0dghx8r0000gq/T/ipykernel_983/4139655915.py:71: UserWarning: To copy construct from a tensor, it is recommended to use sourceTensor.clone().detach() or sourceTensor.clone().detach().requires_grad_(True), rather than torch.tensor(sourceTensor).\n",
      "  q_out_elem_tensor = torch.tensor(q_out_elem, dtype=torch.float32, device=self.q_params.device)\n"
     ]
    },
    {
     "name": "stdout",
     "output_type": "stream",
     "text": [
      "Epoch 1, Loss: 0.7243, Accuracy: 0.1458\n",
      "Epoch 2, Loss: 0.7234, Accuracy: 0.1376\n",
      "Epoch 3, Loss: 0.7232, Accuracy: 0.1311\n",
      "Epoch 4, Loss: 0.7239, Accuracy: 0.1425\n",
      "Epoch 5, Loss: 0.7232, Accuracy: 0.1458\n",
      "Epoch 6, Loss: 0.7245, Accuracy: 0.1368\n"
     ]
    },
    {
     "ename": "KeyboardInterrupt",
     "evalue": "",
     "output_type": "error",
     "traceback": [
      "\u001b[31m---------------------------------------------------------------------------\u001b[39m",
      "\u001b[31mKeyboardInterrupt\u001b[39m                         Traceback (most recent call last)",
      "\u001b[36mCell\u001b[39m\u001b[36m \u001b[39m\u001b[32mIn[92]\u001b[39m\u001b[32m, line 18\u001b[39m\n\u001b[32m     15\u001b[39m y_batch = y_batch.to(model_SECOM.q_params.device).unsqueeze(\u001b[32m1\u001b[39m)\n\u001b[32m     17\u001b[39m optimizer.zero_grad()\n\u001b[32m---> \u001b[39m\u001b[32m18\u001b[39m output = \u001b[43mmodel_SECOM\u001b[49m\u001b[43m(\u001b[49m\u001b[43mX_batch\u001b[49m\u001b[43m)\u001b[49m\n\u001b[32m     19\u001b[39m loss = loss_fn(output, y_batch)\n\u001b[32m     20\u001b[39m loss.backward()\n",
      "\u001b[36mFile \u001b[39m\u001b[32m~/VSCode Projects/Zenqor/.venv/lib/python3.11/site-packages/torch/nn/modules/module.py:1739\u001b[39m, in \u001b[36mModule._wrapped_call_impl\u001b[39m\u001b[34m(self, *args, **kwargs)\u001b[39m\n\u001b[32m   1737\u001b[39m     \u001b[38;5;28;01mreturn\u001b[39;00m \u001b[38;5;28mself\u001b[39m._compiled_call_impl(*args, **kwargs)  \u001b[38;5;66;03m# type: ignore[misc]\u001b[39;00m\n\u001b[32m   1738\u001b[39m \u001b[38;5;28;01melse\u001b[39;00m:\n\u001b[32m-> \u001b[39m\u001b[32m1739\u001b[39m     \u001b[38;5;28;01mreturn\u001b[39;00m \u001b[38;5;28;43mself\u001b[39;49m\u001b[43m.\u001b[49m\u001b[43m_call_impl\u001b[49m\u001b[43m(\u001b[49m\u001b[43m*\u001b[49m\u001b[43margs\u001b[49m\u001b[43m,\u001b[49m\u001b[43m \u001b[49m\u001b[43m*\u001b[49m\u001b[43m*\u001b[49m\u001b[43mkwargs\u001b[49m\u001b[43m)\u001b[49m\n",
      "\u001b[36mFile \u001b[39m\u001b[32m~/VSCode Projects/Zenqor/.venv/lib/python3.11/site-packages/torch/nn/modules/module.py:1750\u001b[39m, in \u001b[36mModule._call_impl\u001b[39m\u001b[34m(self, *args, **kwargs)\u001b[39m\n\u001b[32m   1745\u001b[39m \u001b[38;5;66;03m# If we don't have any hooks, we want to skip the rest of the logic in\u001b[39;00m\n\u001b[32m   1746\u001b[39m \u001b[38;5;66;03m# this function, and just call forward.\u001b[39;00m\n\u001b[32m   1747\u001b[39m \u001b[38;5;28;01mif\u001b[39;00m \u001b[38;5;129;01mnot\u001b[39;00m (\u001b[38;5;28mself\u001b[39m._backward_hooks \u001b[38;5;129;01mor\u001b[39;00m \u001b[38;5;28mself\u001b[39m._backward_pre_hooks \u001b[38;5;129;01mor\u001b[39;00m \u001b[38;5;28mself\u001b[39m._forward_hooks \u001b[38;5;129;01mor\u001b[39;00m \u001b[38;5;28mself\u001b[39m._forward_pre_hooks\n\u001b[32m   1748\u001b[39m         \u001b[38;5;129;01mor\u001b[39;00m _global_backward_pre_hooks \u001b[38;5;129;01mor\u001b[39;00m _global_backward_hooks\n\u001b[32m   1749\u001b[39m         \u001b[38;5;129;01mor\u001b[39;00m _global_forward_hooks \u001b[38;5;129;01mor\u001b[39;00m _global_forward_pre_hooks):\n\u001b[32m-> \u001b[39m\u001b[32m1750\u001b[39m     \u001b[38;5;28;01mreturn\u001b[39;00m \u001b[43mforward_call\u001b[49m\u001b[43m(\u001b[49m\u001b[43m*\u001b[49m\u001b[43margs\u001b[49m\u001b[43m,\u001b[49m\u001b[43m \u001b[49m\u001b[43m*\u001b[49m\u001b[43m*\u001b[49m\u001b[43mkwargs\u001b[49m\u001b[43m)\u001b[49m\n\u001b[32m   1752\u001b[39m result = \u001b[38;5;28;01mNone\u001b[39;00m\n\u001b[32m   1753\u001b[39m called_always_called_hooks = \u001b[38;5;28mset\u001b[39m()\n",
      "\u001b[36mCell\u001b[39m\u001b[36m \u001b[39m\u001b[32mIn[90]\u001b[39m\u001b[32m, line 64\u001b[39m, in \u001b[36mDressedQuantumNet.forward\u001b[39m\u001b[34m(self, input_features)\u001b[39m\n\u001b[32m     60\u001b[39m elem = elem.clone().detach().to(\u001b[38;5;28mself\u001b[39m.q_params.device)  \u001b[38;5;66;03m# Ensure it's on the correct device and detached\u001b[39;00m\n\u001b[32m     61\u001b[39m \u001b[38;5;66;03m# print(\"shape of elem before:\", elem.shape)\u001b[39;00m\n\u001b[32m     62\u001b[39m \n\u001b[32m     63\u001b[39m \u001b[38;5;66;03m# q_out_elem = quantum_net(elem, self.q_params)  # Output as list\u001b[39;00m\n\u001b[32m---> \u001b[39m\u001b[32m64\u001b[39m q_out_elem, circuit = \u001b[43mqiskit_mid_circuit\u001b[49m\u001b[43m(\u001b[49m\u001b[43melem\u001b[49m\u001b[43m,\u001b[49m\u001b[43m \u001b[49m\u001b[38;5;28;43mself\u001b[39;49m\u001b[43m.\u001b[49m\u001b[43mq_params\u001b[49m\u001b[43m)\u001b[49m\n\u001b[32m     65\u001b[39m \u001b[38;5;66;03m# print(\"circuit params:\", get_qc_chars(circuit))\u001b[39;00m\n\u001b[32m     66\u001b[39m \n\u001b[32m     67\u001b[39m \u001b[38;5;66;03m# print(\"parameters of the returned circuit:\", get_qc_chars(circuit))\u001b[39;00m\n\u001b[32m     68\u001b[39m \u001b[38;5;66;03m# print(\"shape of q_out_elem:\", q_out_elem)\u001b[39;00m\n\u001b[32m     69\u001b[39m \n\u001b[32m     70\u001b[39m \u001b[38;5;66;03m# Convert list to tensor if it's not already\u001b[39;00m\n\u001b[32m     71\u001b[39m q_out_elem_tensor = torch.tensor(q_out_elem, dtype=torch.float32, device=\u001b[38;5;28mself\u001b[39m.q_params.device)\n",
      "\u001b[36mCell\u001b[39m\u001b[36m \u001b[39m\u001b[32mIn[85]\u001b[39m\u001b[32m, line 38\u001b[39m, in \u001b[36mqiskit_mid_circuit\u001b[39m\u001b[34m(q_input_features, q_weights_flat, num_qubits)\u001b[39m\n\u001b[32m     35\u001b[39m     job = estimator.run([(qiskit_mid_circ, observable)])\n\u001b[32m     36\u001b[39m     \u001b[38;5;66;03m# job = estimator.run([(qc_routed, observable)])\u001b[39;00m\n\u001b[32m---> \u001b[39m\u001b[32m38\u001b[39m     result = \u001b[43mjob\u001b[49m\u001b[43m.\u001b[49m\u001b[43mresult\u001b[49m\u001b[43m(\u001b[49m\u001b[43m)\u001b[49m[\u001b[32m0\u001b[39m]\n\u001b[32m     40\u001b[39m     expectations.append(result.data.evs)\n\u001b[32m     42\u001b[39m expectations = torch.tensor([\u001b[38;5;28mfloat\u001b[39m(x) \u001b[38;5;28;01mfor\u001b[39;00m x \u001b[38;5;129;01min\u001b[39;00m expectations])\n",
      "\u001b[36mFile \u001b[39m\u001b[32m~/VSCode Projects/Zenqor/.venv/lib/python3.11/site-packages/qiskit/primitives/primitive_job.py:51\u001b[39m, in \u001b[36mPrimitiveJob.result\u001b[39m\u001b[34m(self)\u001b[39m\n\u001b[32m     49\u001b[39m \u001b[38;5;28;01mdef\u001b[39;00m\u001b[38;5;250m \u001b[39m\u001b[34mresult\u001b[39m(\u001b[38;5;28mself\u001b[39m) -> ResultT:\n\u001b[32m     50\u001b[39m     \u001b[38;5;28mself\u001b[39m._check_submitted()\n\u001b[32m---> \u001b[39m\u001b[32m51\u001b[39m     \u001b[38;5;28;01mreturn\u001b[39;00m \u001b[38;5;28;43mself\u001b[39;49m\u001b[43m.\u001b[49m\u001b[43m_future\u001b[49m\u001b[43m.\u001b[49m\u001b[43mresult\u001b[49m\u001b[43m(\u001b[49m\u001b[43m)\u001b[49m\n",
      "\u001b[36mFile \u001b[39m\u001b[32m/Library/Frameworks/Python.framework/Versions/3.11/lib/python3.11/concurrent/futures/_base.py:451\u001b[39m, in \u001b[36mFuture.result\u001b[39m\u001b[34m(self, timeout)\u001b[39m\n\u001b[32m    448\u001b[39m \u001b[38;5;28;01melif\u001b[39;00m \u001b[38;5;28mself\u001b[39m._state == FINISHED:\n\u001b[32m    449\u001b[39m     \u001b[38;5;28;01mreturn\u001b[39;00m \u001b[38;5;28mself\u001b[39m.__get_result()\n\u001b[32m--> \u001b[39m\u001b[32m451\u001b[39m \u001b[38;5;28;43mself\u001b[39;49m\u001b[43m.\u001b[49m\u001b[43m_condition\u001b[49m\u001b[43m.\u001b[49m\u001b[43mwait\u001b[49m\u001b[43m(\u001b[49m\u001b[43mtimeout\u001b[49m\u001b[43m)\u001b[49m\n\u001b[32m    453\u001b[39m \u001b[38;5;28;01mif\u001b[39;00m \u001b[38;5;28mself\u001b[39m._state \u001b[38;5;129;01min\u001b[39;00m [CANCELLED, CANCELLED_AND_NOTIFIED]:\n\u001b[32m    454\u001b[39m     \u001b[38;5;28;01mraise\u001b[39;00m CancelledError()\n",
      "\u001b[36mFile \u001b[39m\u001b[32m/Library/Frameworks/Python.framework/Versions/3.11/lib/python3.11/threading.py:320\u001b[39m, in \u001b[36mCondition.wait\u001b[39m\u001b[34m(self, timeout)\u001b[39m\n\u001b[32m    318\u001b[39m \u001b[38;5;28;01mtry\u001b[39;00m:    \u001b[38;5;66;03m# restore state no matter what (e.g., KeyboardInterrupt)\u001b[39;00m\n\u001b[32m    319\u001b[39m     \u001b[38;5;28;01mif\u001b[39;00m timeout \u001b[38;5;129;01mis\u001b[39;00m \u001b[38;5;28;01mNone\u001b[39;00m:\n\u001b[32m--> \u001b[39m\u001b[32m320\u001b[39m         \u001b[43mwaiter\u001b[49m\u001b[43m.\u001b[49m\u001b[43macquire\u001b[49m\u001b[43m(\u001b[49m\u001b[43m)\u001b[49m\n\u001b[32m    321\u001b[39m         gotit = \u001b[38;5;28;01mTrue\u001b[39;00m\n\u001b[32m    322\u001b[39m     \u001b[38;5;28;01melse\u001b[39;00m:\n",
      "\u001b[31mKeyboardInterrupt\u001b[39m: "
     ]
    }
   ],
   "source": [
    "epoch_losses = []\n",
    "epoch_accuracies = []\n",
    "\n",
    "for epoch in range(30):\n",
    "    model_SECOM.train()\n",
    "    total_correct = 0\n",
    "    total_samples = 0\n",
    "    epoch_loss = 0.0\n",
    "\n",
    "    for X_batch, y_batch in train_loader_SECOM:\n",
    "        # print(X_batch.min(), X_batch.max())\n",
    "        # print(np.min(y_batch), np.max(y_batch))\n",
    "\n",
    "        X_batch = X_batch.to(model_SECOM.q_params.device)\n",
    "        y_batch = y_batch.to(model_SECOM.q_params.device).unsqueeze(1)\n",
    "\n",
    "        optimizer.zero_grad()\n",
    "        output = model_SECOM(X_batch)\n",
    "        loss = loss_fn(output, y_batch)\n",
    "        loss.backward()\n",
    "        optimizer.step()\n",
    "\n",
    "        # Accumulate loss\n",
    "        epoch_loss += loss.item() * X_batch.size(0)\n",
    "\n",
    "        # Convert predictions to binary (assuming binary classification)\n",
    "        preds = (output > 0.5).float()\n",
    "        total_correct += (preds == y_batch).sum().item()\n",
    "        total_samples += y_batch.size(0)\n",
    "\n",
    "    avg_loss = epoch_loss / total_samples\n",
    "    accuracy = total_correct / total_samples\n",
    "\n",
    "    epoch_losses.append(avg_loss)\n",
    "    epoch_accuracies.append(accuracy)\n",
    "\n",
    "    print(f\"Epoch {epoch+1}, Loss: {avg_loss:.4f}, Accuracy: {accuracy:.4f}\")\n",
    "\n",
    "# Plotting\n",
    "plt.figure(figsize=(12, 5))\n",
    "\n",
    "plt.subplot(1, 2, 1)\n",
    "plt.plot(epoch_losses, label=\"Loss\")\n",
    "plt.title(\"Loss over Epochs\")\n",
    "plt.xlabel(\"Epoch\")\n",
    "plt.ylabel(\"Loss\")\n",
    "plt.grid(True)\n",
    "plt.legend()\n",
    "\n",
    "plt.subplot(1, 2, 2)\n",
    "plt.plot(epoch_accuracies, label=\"Accuracy\", color='green')\n",
    "plt.title(\"Accuracy over Epochs\")\n",
    "plt.xlabel(\"Epoch\")\n",
    "plt.ylabel(\"Accuracy\")\n",
    "plt.grid(True)\n",
    "plt.legend()\n",
    "\n",
    "plt.tight_layout()\n",
    "plt.show()"
   ]
  },
  {
   "cell_type": "code",
   "execution_count": 93,
   "metadata": {},
   "outputs": [
    {
     "data": {
      "image/png": "[encoded data removed]",
      "text/plain": [
       "<Figure size 1200x500 with 2 Axes>"
      ]
     },
     "metadata": {},
     "output_type": "display_data"
    }
   ],
   "source": [
    "plt.figure(figsize=(12, 5))\n",
    "\n",
    "plt.subplot(1, 2, 1)\n",
    "plt.plot(epoch_losses, label=\"Loss\")\n",
    "plt.title(\"Loss over Epochs\")\n",
    "plt.xlabel(\"Epoch\")\n",
    "plt.ylabel(\"Loss\")\n",
    "plt.grid(True)\n",
    "plt.legend()\n",
    "\n",
    "plt.subplot(1, 2, 2)\n",
    "plt.plot(epoch_accuracies, label=\"Accuracy\", color='green')\n",
    "plt.title(\"Accuracy over Epochs\")\n",
    "plt.xlabel(\"Epoch\")\n",
    "plt.ylabel(\"Accuracy\")\n",
    "plt.grid(True)\n",
    "plt.legend()\n",
    "\n",
    "plt.tight_layout()\n",
    "plt.show()"
   ]
  },
  {
   "cell_type": "code",
   "execution_count": 79,
   "metadata": {
    "id": "dA5sX-mbrrVC",
    "outputId": "caae3a17-55cb-4204-ede5-1918ff46d649"
   },
   "outputs": [
    {
     "name": "stderr",
     "output_type": "stream",
     "text": [
      "/var/folders/3x/956gglvx6tbcvyg7m0dghx8r0000gq/T/ipykernel_983/4139655915.py:71: UserWarning: To copy construct from a tensor, it is recommended to use sourceTensor.clone().detach() or sourceTensor.clone().detach().requires_grad_(True), rather than torch.tensor(sourceTensor).\n",
      "  q_out_elem_tensor = torch.tensor(q_out_elem, dtype=torch.float32, device=self.q_params.device)\n"
     ]
    },
    {
     "name": "stdout",
     "output_type": "stream",
     "text": [
      "Test Loss: 0.7189, Test Accuracy: 0.0649\n"
     ]
    }
   ],
   "source": [
    "model_SECOM.eval()  # Set model to evaluation mode\n",
    "test_loss = 0.0\n",
    "correct = 0\n",
    "total = 0\n",
    "\n",
    "with torch.no_grad():\n",
    "    for X_batch, y_batch in test_loader_SECOM:\n",
    "        X_batch = X_batch.to(model_SECOM.q_params.device)\n",
    "        y_batch = y_batch.to(model_SECOM.q_params.device).unsqueeze(1)\n",
    "\n",
    "        output = model_SECOM(X_batch)\n",
    "        loss = loss_fn(output, y_batch)\n",
    "\n",
    "        test_loss += loss.item() * X_batch.size(0)\n",
    "\n",
    "        # Binary predictions\n",
    "        preds = (output > 0.5).float()\n",
    "        correct += (preds == y_batch).sum().item()\n",
    "        total += y_batch.size(0)\n",
    "\n",
    "avg_test_loss = test_loss / total\n",
    "test_accuracy = correct / total\n",
    "\n",
    "print(f\"Test Loss: {avg_test_loss:.4f}, Test Accuracy: {test_accuracy:.4f}\")"
   ]
  },
  {
   "cell_type": "markdown",
   "metadata": {},
   "source": [
    "# Optimization"
   ]
  },
  {
   "cell_type": "markdown",
   "metadata": {},
   "source": [
    "## Quantum mid-circuit"
   ]
  },
  {
   "cell_type": "code",
   "execution_count": 63,
   "metadata": {},
   "outputs": [],
   "source": [
    "def qiskit_mid_circuit(q_input_features, q_weights_flat, optimize, num_qubits=n_qubits):\n",
    "    qiskit_mid_circ = QuantumCircuit(8)\n",
    "\n",
    "    q_weights = q_weights_flat.reshape(q_depth, n_qubits)\n",
    "    qiskit_mid_circ.h([_ for _ in range(num_qubits)])\n",
    "\n",
    "    for idx, element in enumerate(q_input_features):\n",
    "        qiskit_mid_circ.ry(element.item(), idx)\n",
    "    \n",
    "    for k in range(q_depth):\n",
    "        for i in range(0, n_qubits - 1, 2):\n",
    "            qiskit_mid_circ.cx(i, i + 1)\n",
    "        for i in range(1, n_qubits - 1, 2):\n",
    "            qiskit_mid_circ.cx(i, i + 1)\n",
    "        \n",
    "        for idx, element in enumerate(q_weights[k]):\n",
    "            qiskit_mid_circ.ry(element.item(), idx)\n",
    "    \n",
    "    qiskit_mid_circ.measure_all()\n",
    "\n",
    "    backend_sim = Aer.get_backend('qasm_simulator')\n",
    "    estimator = Estimator(backend_sim)\n",
    "\n",
    "    if optimize:\n",
    "        cm = CouplingMap.from_line(num_qubits)\n",
    "        backend = GenericBackendV2(num_qubits, coupling_map=cm)\n",
    "        qc_routed = generate_preset_pass_manager(3, backend).run(qiskit_mid_circ)\n",
    "\n",
    "    observables = [SparsePauliOp(\"I\"*_ + \"Z\" + \"I\"*(num_qubits - _ - 1)) for _ in range(num_qubits)]\n",
    "\n",
    "    theta = None\n",
    "    expectations = []\n",
    "\n",
    "    # job = estimator.run([qiskit_mid_circ], [observable])\n",
    "    for observable in observables:\n",
    "        if not optimize:\n",
    "            job = estimator.run([(qiskit_mid_circ, observable)])\n",
    "        else:\n",
    "            job = estimator.run([(qc_routed, observable)])\n",
    "\n",
    "        result = job.result()[0]\n",
    "        \n",
    "        expectations.append(result.data.evs)\n",
    "    \n",
    "    expectations = torch.tensor([float(x) for x in expectations])\n",
    "    # print(expectations)\n",
    "\n",
    "    if optimize:\n",
    "        return expectations, qc_routed\n",
    "    else:\n",
    "        return expectations, qiskit_mid_circ"
   ]
  },
  {
   "cell_type": "code",
   "execution_count": 64,
   "metadata": {},
   "outputs": [],
   "source": [
    "def get_qc_chars(qc):\n",
    "   depth = qc.depth()\n",
    "   num_qubits = qc.num_qubits\n",
    "   ops = dict(qc.count_ops())\n",
    "   num_multi_qubit_ops = qc.num_nonlocal_gates()\n",
    "\n",
    "   return {\"depth\": depth, \"num_qubits\": num_qubits, \"ops\": ops, \"num_multi_qubit_ops\": num_multi_qubit_ops}"
   ]
  },
  {
   "cell_type": "code",
   "execution_count": 65,
   "metadata": {
    "id": "Pz_1fRpzrrVC"
   },
   "outputs": [],
   "source": [
    "class DressedQuantumNet(nn.Module):\n",
    "    \"\"\"\n",
    "    Torch module for the dressed quantum network.\n",
    "    \"\"\"\n",
    "    def __init__(self, optimize, input_shape=51, dataset_idx=1):\n",
    "        super().__init__()\n",
    "        self.n_qubits = n_qubits\n",
    "        self.q_depth = q_depth\n",
    "        self.q_delta = 0.01\n",
    "        self.optimize = optimize\n",
    "        # self.pre_net = nn.Linear(input_shape, self.n_qubits)\n",
    "        self.q_params = nn.Parameter(self.q_delta * torch.randn(self.q_depth * self.n_qubits))\n",
    "        # self.post_net = nn.Linear(self.n_qubits, 7)\n",
    "\n",
    "        if (dataset_idx == 1) or (dataset_idx == 2):\n",
    "            self.pre_net = nn.Sequential(\n",
    "                            nn.Linear(input_shape, 64),\n",
    "                            nn.ReLU(),\n",
    "                            nn.Linear(64, 64),\n",
    "                            nn.ReLU(),\n",
    "                            nn.Dropout(0.4),\n",
    "                            nn.Linear(64, 32),\n",
    "                            nn.ReLU(),\n",
    "                            nn.Dropout(0.4),\n",
    "                            nn.Linear(32, 16),\n",
    "                            nn.ReLU(),\n",
    "                            nn.Dropout(0.4),\n",
    "                            nn.Linear(16, 8)\n",
    "                        )\n",
    "        elif dataset_idx == 3:\n",
    "            self.pre_net = nn.Sequential(\n",
    "                            nn.Linear(input_shape, 16),\n",
    "                            nn.ReLU(),\n",
    "                            nn.Linear(16, 16),\n",
    "                            nn.ReLU(),\n",
    "                            nn.Dropout(0.4),\n",
    "                            nn.Linear(16, 8)\n",
    "                        )\n",
    "\n",
    "        self.post_net = nn.Sequential(\n",
    "                            nn.Linear(n_qubits, 8),\n",
    "                            nn.ReLU(),\n",
    "                            nn.Dropout(0.4),\n",
    "                            nn.Linear(8, 4),\n",
    "                            nn.ReLU(),\n",
    "                            nn.Dropout(0.4),\n",
    "                            nn.Linear(4, 1)\n",
    "                        )\n",
    "\n",
    "    def forward(self, input_features):\n",
    "        \"\"\"\n",
    "        Forward pass through the dressed quantum network.\n",
    "        \"\"\"\n",
    "        # Preprocessing input to reduce dimensions\n",
    "        pre_out = self.pre_net(input_features)\n",
    "        q_in = torch.tanh(pre_out) * np.pi / 2.0\n",
    "\n",
    "        # Apply quantum circuit\n",
    "        q_out = []\n",
    "        for elem in q_in:\n",
    "            elem = elem.clone().detach().to(self.q_params.device)  # Ensure it's on the correct device and detached\n",
    "            # print(\"shape of elem before:\", elem.shape)\n",
    "            \n",
    "            # q_out_elem = quantum_net(elem, self.q_params)  # Output as list\n",
    "            q_out_elem, circuit = qiskit_mid_circuit(elem, self.q_params, self.optimize)\n",
    "            # print(\"circuit params:\", get_qc_chars(circuit))\n",
    "\n",
    "            # print(\"parameters of the returned circuit:\", get_qc_chars(circuit))\n",
    "            # print(\"shape of q_out_elem:\", q_out_elem)\n",
    "\n",
    "            # Convert list to tensor if it's not already\n",
    "            q_out_elem_tensor = torch.tensor(q_out_elem, dtype=torch.float32, device=self.q_params.device)\n",
    "\n",
    "            # Apply linear transformation to match 2 output classes (if needed)\n",
    "            # q_out_elem = torch.nn.Linear(q_out_elem_tensor.size(-1), 2)(q_out_elem_tensor)  # Adjust size to 2\n",
    "            q_out_elem = self.post_net(q_out_elem_tensor)\n",
    "\n",
    "            q_out.append(q_out_elem)\n",
    "\n",
    "        # Stack and process\n",
    "        q_out = torch.stack(q_out, dim=0)  # Ensure this is stacked correctly\n",
    "        # print(\"q_out after loop:\", q_out.shape)\n",
    "\n",
    "        # q_out = q_out.to(self.q_params.device, dtype=torch.float32, requires_grad=True)\n",
    "\n",
    "        return torch.sigmoid(q_out)"
   ]
  },
  {
   "cell_type": "code",
   "execution_count": 66,
   "metadata": {},
   "outputs": [],
   "source": [
    "model_IEEE__opt = DressedQuantumNet(optimize=True, input_shape=50, dataset_idx=1)\n",
    "model_NSLKDD__opt = DressedQuantumNet(optimize=True, input_shape=30, dataset_idx=2)\n",
    "model_SECOM__opt = DressedQuantumNet(optimize=True, input_shape=10, dataset_idx=3)"
   ]
  },
  {
   "cell_type": "markdown",
   "metadata": {},
   "source": [
    "## Training IEEE model with optimization"
   ]
  },
  {
   "cell_type": "markdown",
   "metadata": {},
   "source": [
    "### same optimizer"
   ]
  },
  {
   "cell_type": "code",
   "execution_count": 67,
   "metadata": {},
   "outputs": [
    {
     "name": "stdout",
     "output_type": "stream",
     "text": [
      "shape: torch.Size([32, 50]) torch.Size([32])\n",
      "shape: torch.Size([32, 50]) torch.Size([32])\n",
      "shape: torch.Size([32, 50]) torch.Size([32])\n",
      "shape: torch.Size([32, 50]) torch.Size([32])\n",
      "shape: torch.Size([32, 50]) torch.Size([32])\n",
      "shape: torch.Size([32, 50]) torch.Size([32])\n",
      "shape: torch.Size([32, 50]) torch.Size([32])\n",
      "shape: torch.Size([32, 50]) torch.Size([32])\n",
      "shape: torch.Size([32, 50]) torch.Size([32])\n",
      "shape: torch.Size([32, 50]) torch.Size([32])\n",
      "shape: torch.Size([32, 50]) torch.Size([32])\n",
      "shape: torch.Size([32, 50]) torch.Size([32])\n",
      "shape: torch.Size([32, 50]) torch.Size([32])\n",
      "shape: torch.Size([32, 50]) torch.Size([32])\n",
      "shape: torch.Size([32, 50]) torch.Size([32])\n",
      "shape: torch.Size([32, 50]) torch.Size([32])\n",
      "shape: torch.Size([32, 50]) torch.Size([32])\n",
      "shape: torch.Size([32, 50]) torch.Size([32])\n",
      "shape: torch.Size([32, 50]) torch.Size([32])\n",
      "shape: torch.Size([32, 50]) torch.Size([32])\n",
      "shape: torch.Size([32, 50]) torch.Size([32])\n",
      "shape: torch.Size([32, 50]) torch.Size([32])\n",
      "shape: torch.Size([32, 50]) torch.Size([32])\n",
      "shape: torch.Size([32, 50]) torch.Size([32])\n",
      "shape: torch.Size([32, 50]) torch.Size([32])\n",
      "shape: torch.Size([32, 50]) torch.Size([32])\n",
      "shape: torch.Size([32, 50]) torch.Size([32])\n",
      "shape: torch.Size([32, 50]) torch.Size([32])\n",
      "shape: torch.Size([32, 50]) torch.Size([32])\n",
      "shape: torch.Size([32, 50]) torch.Size([32])\n",
      "shape: torch.Size([32, 50]) torch.Size([32])\n",
      "shape: torch.Size([32, 50]) torch.Size([32])\n",
      "shape: torch.Size([32, 50]) torch.Size([32])\n",
      "shape: torch.Size([32, 50]) torch.Size([32])\n",
      "shape: torch.Size([32, 50]) torch.Size([32])\n",
      "shape: torch.Size([32, 50]) torch.Size([32])\n",
      "shape: torch.Size([32, 50]) torch.Size([32])\n",
      "shape: torch.Size([32, 50]) torch.Size([32])\n",
      "shape: torch.Size([32, 50]) torch.Size([32])\n",
      "shape: torch.Size([32, 50]) torch.Size([32])\n",
      "shape: torch.Size([32, 50]) torch.Size([32])\n",
      "shape: torch.Size([32, 50]) torch.Size([32])\n",
      "shape: torch.Size([32, 50]) torch.Size([32])\n",
      "shape: torch.Size([32, 50]) torch.Size([32])\n",
      "shape: torch.Size([32, 50]) torch.Size([32])\n",
      "shape: torch.Size([32, 50]) torch.Size([32])\n",
      "shape: torch.Size([32, 50]) torch.Size([32])\n",
      "shape: torch.Size([32, 50]) torch.Size([32])\n",
      "shape: torch.Size([32, 50]) torch.Size([32])\n",
      "shape: torch.Size([32, 50]) torch.Size([32])\n",
      "shape: torch.Size([32, 50]) torch.Size([32])\n",
      "shape: torch.Size([32, 50]) torch.Size([32])\n",
      "shape: torch.Size([32, 50]) torch.Size([32])\n",
      "shape: torch.Size([32, 50]) torch.Size([32])\n",
      "shape: torch.Size([32, 50]) torch.Size([32])\n",
      "shape: torch.Size([32, 50]) torch.Size([32])\n",
      "shape: torch.Size([32, 50]) torch.Size([32])\n",
      "shape: torch.Size([32, 50]) torch.Size([32])\n",
      "shape: torch.Size([32, 50]) torch.Size([32])\n",
      "shape: torch.Size([32, 50]) torch.Size([32])\n",
      "shape: torch.Size([32, 50]) torch.Size([32])\n",
      "shape: torch.Size([32, 50]) torch.Size([32])\n",
      "shape: torch.Size([32, 50]) torch.Size([32])\n",
      "shape: torch.Size([32, 50]) torch.Size([32])\n",
      "shape: torch.Size([32, 50]) torch.Size([32])\n",
      "shape: torch.Size([32, 50]) torch.Size([32])\n",
      "shape: torch.Size([32, 50]) torch.Size([32])\n",
      "shape: torch.Size([32, 50]) torch.Size([32])\n",
      "shape: torch.Size([32, 50]) torch.Size([32])\n",
      "shape: torch.Size([32, 50]) torch.Size([32])\n",
      "shape: torch.Size([32, 50]) torch.Size([32])\n",
      "shape: torch.Size([32, 50]) torch.Size([32])\n",
      "shape: torch.Size([32, 50]) torch.Size([32])\n",
      "shape: torch.Size([32, 50]) torch.Size([32])\n",
      "shape: torch.Size([32, 50]) torch.Size([32])\n",
      "shape: torch.Size([32, 50]) torch.Size([32])\n",
      "shape: torch.Size([32, 50]) torch.Size([32])\n",
      "shape: torch.Size([32, 50]) torch.Size([32])\n",
      "shape: torch.Size([32, 50]) torch.Size([32])\n",
      "shape: torch.Size([32, 50]) torch.Size([32])\n",
      "shape: torch.Size([32, 50]) torch.Size([32])\n",
      "shape: torch.Size([32, 50]) torch.Size([32])\n",
      "shape: torch.Size([32, 50]) torch.Size([32])\n",
      "shape: torch.Size([32, 50]) torch.Size([32])\n",
      "shape: torch.Size([32, 50]) torch.Size([32])\n",
      "shape: torch.Size([32, 50]) torch.Size([32])\n",
      "shape: torch.Size([32, 50]) torch.Size([32])\n",
      "shape: torch.Size([32, 50]) torch.Size([32])\n",
      "shape: torch.Size([32, 50]) torch.Size([32])\n",
      "shape: torch.Size([32, 50]) torch.Size([32])\n",
      "shape: torch.Size([32, 50]) torch.Size([32])\n",
      "shape: torch.Size([32, 50]) torch.Size([32])\n",
      "shape: torch.Size([32, 50]) torch.Size([32])\n",
      "shape: torch.Size([32, 50]) torch.Size([32])\n",
      "shape: torch.Size([32, 50]) torch.Size([32])\n",
      "shape: torch.Size([32, 50]) torch.Size([32])\n",
      "shape: torch.Size([32, 50]) torch.Size([32])\n",
      "shape: torch.Size([32, 50]) torch.Size([32])\n",
      "shape: torch.Size([32, 50]) torch.Size([32])\n",
      "shape: torch.Size([32, 50]) torch.Size([32])\n",
      "shape: torch.Size([32, 50]) torch.Size([32])\n",
      "shape: torch.Size([32, 50]) torch.Size([32])\n",
      "shape: torch.Size([32, 50]) torch.Size([32])\n",
      "shape: torch.Size([32, 50]) torch.Size([32])\n",
      "shape: torch.Size([32, 50]) torch.Size([32])\n",
      "shape: torch.Size([32, 50]) torch.Size([32])\n",
      "shape: torch.Size([32, 50]) torch.Size([32])\n",
      "shape: torch.Size([32, 50]) torch.Size([32])\n",
      "shape: torch.Size([32, 50]) torch.Size([32])\n",
      "shape: torch.Size([32, 50]) torch.Size([32])\n",
      "shape: torch.Size([32, 50]) torch.Size([32])\n",
      "shape: torch.Size([32, 50]) torch.Size([32])\n",
      "shape: torch.Size([32, 50]) torch.Size([32])\n",
      "shape: torch.Size([32, 50]) torch.Size([32])\n",
      "shape: torch.Size([32, 50]) torch.Size([32])\n",
      "shape: torch.Size([32, 50]) torch.Size([32])\n",
      "shape: torch.Size([32, 50]) torch.Size([32])\n",
      "shape: torch.Size([32, 50]) torch.Size([32])\n",
      "shape: torch.Size([32, 50]) torch.Size([32])\n",
      "shape: torch.Size([32, 50]) torch.Size([32])\n",
      "shape: torch.Size([32, 50]) torch.Size([32])\n",
      "shape: torch.Size([32, 50]) torch.Size([32])\n",
      "shape: torch.Size([32, 50]) torch.Size([32])\n",
      "shape: torch.Size([32, 50]) torch.Size([32])\n",
      "shape: torch.Size([32, 50]) torch.Size([32])\n",
      "shape: torch.Size([32, 50]) torch.Size([32])\n",
      "shape: torch.Size([32, 50]) torch.Size([32])\n",
      "shape: torch.Size([32, 50]) torch.Size([32])\n",
      "shape: torch.Size([32, 50]) torch.Size([32])\n",
      "shape: torch.Size([32, 50]) torch.Size([32])\n",
      "shape: torch.Size([32, 50]) torch.Size([32])\n",
      "shape: torch.Size([32, 50]) torch.Size([32])\n",
      "shape: torch.Size([32, 50]) torch.Size([32])\n",
      "shape: torch.Size([32, 50]) torch.Size([32])\n",
      "shape: torch.Size([32, 50]) torch.Size([32])\n",
      "shape: torch.Size([32, 50]) torch.Size([32])\n",
      "shape: torch.Size([32, 50]) torch.Size([32])\n",
      "shape: torch.Size([32, 50]) torch.Size([32])\n",
      "shape: torch.Size([32, 50]) torch.Size([32])\n",
      "shape: torch.Size([32, 50]) torch.Size([32])\n",
      "shape: torch.Size([32, 50]) torch.Size([32])\n",
      "shape: torch.Size([32, 50]) torch.Size([32])\n",
      "shape: torch.Size([32, 50]) torch.Size([32])\n",
      "shape: torch.Size([32, 50]) torch.Size([32])\n",
      "shape: torch.Size([32, 50]) torch.Size([32])\n",
      "shape: torch.Size([32, 50]) torch.Size([32])\n",
      "shape: torch.Size([32, 50]) torch.Size([32])\n",
      "shape: torch.Size([32, 50]) torch.Size([32])\n",
      "shape: torch.Size([32, 50]) torch.Size([32])\n",
      "shape: torch.Size([32, 50]) torch.Size([32])\n",
      "shape: torch.Size([32, 50]) torch.Size([32])\n",
      "shape: torch.Size([32, 50]) torch.Size([32])\n",
      "shape: torch.Size([32, 50]) torch.Size([32])\n",
      "shape: torch.Size([32, 50]) torch.Size([32])\n",
      "shape: torch.Size([32, 50]) torch.Size([32])\n",
      "shape: torch.Size([32, 50]) torch.Size([32])\n",
      "shape: torch.Size([8, 50]) torch.Size([8])\n",
      "158\n"
     ]
    }
   ],
   "source": [
    "i = 1\n",
    "for X_batch, y_batch in train_loader_IEEE:\n",
    "    print(\"shape:\", X_batch.shape, y_batch.shape)\n",
    "    i += 1\n",
    "\n",
    "print(i)"
   ]
  },
  {
   "cell_type": "code",
   "execution_count": 68,
   "metadata": {},
   "outputs": [],
   "source": [
    "import time"
   ]
  },
  {
   "cell_type": "code",
   "execution_count": 77,
   "metadata": {},
   "outputs": [],
   "source": [
    "model_IEEE__opt = torch.load(\"/Users/soardr/VSCode Projects/Zenqor/Zenqor Drive/models/model training checkpoints/model_IEEE__classical_opt___0.pt\", weights_only=False)"
   ]
  },
  {
   "cell_type": "code",
   "execution_count": 106,
   "metadata": {},
   "outputs": [
    {
     "name": "stderr",
     "output_type": "stream",
     "text": [
      "/var/folders/3x/956gglvx6tbcvyg7m0dghx8r0000gq/T/ipykernel_41005/2579699215.py:72: UserWarning: To copy construct from a tensor, it is recommended to use sourceTensor.clone().detach() or sourceTensor.clone().detach().requires_grad_(True), rather than torch.tensor(sourceTensor).\n",
      "  q_out_elem_tensor = torch.tensor(q_out_elem, dtype=torch.float32, device=self.q_params.device)\n"
     ]
    },
    {
     "name": "stdout",
     "output_type": "stream",
     "text": [
      "time for one batch: 3.399364709854126\n",
      "time for one batch: 2.8278820514678955\n",
      "time for one batch: 2.747670888900757\n",
      "time for one batch: 2.6004719734191895\n",
      "time for one batch: 2.6037800312042236\n",
      "time for one batch: 2.5382752418518066\n",
      "time for one batch: 2.544771194458008\n",
      "time for one batch: 2.586944103240967\n",
      "time for one batch: 2.573607921600342\n",
      "time for one batch: 3.09322190284729\n",
      "time for one batch: 2.6606569290161133\n",
      "time for one batch: 2.6814441680908203\n",
      "time for one batch: 2.644138813018799\n",
      "time for one batch: 3.8056252002716064\n",
      "time for one batch: 2.975635051727295\n",
      "time for one batch: 3.0203700065612793\n",
      "time for one batch: 2.8144397735595703\n",
      "time for one batch: 3.292827844619751\n",
      "time for one batch: 3.2251970767974854\n",
      "time for one batch: 2.8222291469573975\n",
      "time for one batch: 3.119520902633667\n",
      "time for one batch: 3.0888350009918213\n",
      "time for one batch: 3.147550106048584\n",
      "time for one batch: 2.8472650051116943\n",
      "time for one batch: 2.891511917114258\n",
      "time for one batch: 3.1721351146698\n",
      "time for one batch: 2.859598159790039\n",
      "time for one batch: 2.7879109382629395\n",
      "time for one batch: 2.769465208053589\n",
      "time for one batch: 2.792717218399048\n",
      "time for one batch: 3.377108097076416\n",
      "time for one batch: 3.439924955368042\n",
      "time for one batch: 4.497059106826782\n",
      "time for one batch: 3.3426051139831543\n",
      "time for one batch: 3.0780673027038574\n",
      "time for one batch: 3.284694194793701\n",
      "time for one batch: 3.433130979537964\n",
      "time for one batch: 3.0337231159210205\n",
      "time for one batch: 1.1400039196014404\n"
     ]
    },
    {
     "name": "stderr",
     "output_type": "stream",
     "text": [
      "/var/folders/3x/956gglvx6tbcvyg7m0dghx8r0000gq/T/ipykernel_41005/2579699215.py:72: UserWarning: To copy construct from a tensor, it is recommended to use sourceTensor.clone().detach() or sourceTensor.clone().detach().requires_grad_(True), rather than torch.tensor(sourceTensor).\n",
      "  q_out_elem_tensor = torch.tensor(q_out_elem, dtype=torch.float32, device=self.q_params.device)\n",
      "/var/folders/3x/956gglvx6tbcvyg7m0dghx8r0000gq/T/ipykernel_41005/2579699215.py:72: UserWarning: To copy construct from a tensor, it is recommended to use sourceTensor.clone().detach() or sourceTensor.clone().detach().requires_grad_(True), rather than torch.tensor(sourceTensor).\n",
      "  q_out_elem_tensor = torch.tensor(q_out_elem, dtype=torch.float32, device=self.q_params.device)\n",
      "/var/folders/3x/956gglvx6tbcvyg7m0dghx8r0000gq/T/ipykernel_41005/2579699215.py:72: UserWarning: To copy construct from a tensor, it is recommended to use sourceTensor.clone().detach() or sourceTensor.clone().detach().requires_grad_(True), rather than torch.tensor(sourceTensor).\n",
      "  q_out_elem_tensor = torch.tensor(q_out_elem, dtype=torch.float32, device=self.q_params.device)\n",
      "/var/folders/3x/956gglvx6tbcvyg7m0dghx8r0000gq/T/ipykernel_41005/2579699215.py:72: UserWarning: To copy construct from a tensor, it is recommended to use sourceTensor.clone().detach() or sourceTensor.clone().detach().requires_grad_(True), rather than torch.tensor(sourceTensor).\n",
      "  q_out_elem_tensor = torch.tensor(q_out_elem, dtype=torch.float32, device=self.q_params.device)\n",
      "/var/folders/3x/956gglvx6tbcvyg7m0dghx8r0000gq/T/ipykernel_41005/2579699215.py:72: UserWarning: To copy construct from a tensor, it is recommended to use sourceTensor.clone().detach() or sourceTensor.clone().detach().requires_grad_(True), rather than torch.tensor(sourceTensor).\n",
      "  q_out_elem_tensor = torch.tensor(q_out_elem, dtype=torch.float32, device=self.q_params.device)\n",
      "/var/folders/3x/956gglvx6tbcvyg7m0dghx8r0000gq/T/ipykernel_41005/2579699215.py:72: UserWarning: To copy construct from a tensor, it is recommended to use sourceTensor.clone().detach() or sourceTensor.clone().detach().requires_grad_(True), rather than torch.tensor(sourceTensor).\n",
      "  q_out_elem_tensor = torch.tensor(q_out_elem, dtype=torch.float32, device=self.q_params.device)\n",
      "/var/folders/3x/956gglvx6tbcvyg7m0dghx8r0000gq/T/ipykernel_41005/2579699215.py:72: UserWarning: To copy construct from a tensor, it is recommended to use sourceTensor.clone().detach() or sourceTensor.clone().detach().requires_grad_(True), rather than torch.tensor(sourceTensor).\n",
      "  q_out_elem_tensor = torch.tensor(q_out_elem, dtype=torch.float32, device=self.q_params.device)\n",
      "/var/folders/3x/956gglvx6tbcvyg7m0dghx8r0000gq/T/ipykernel_41005/2579699215.py:72: UserWarning: To copy construct from a tensor, it is recommended to use sourceTensor.clone().detach() or sourceTensor.clone().detach().requires_grad_(True), rather than torch.tensor(sourceTensor).\n",
      "  q_out_elem_tensor = torch.tensor(q_out_elem, dtype=torch.float32, device=self.q_params.device)\n",
      "/var/folders/3x/956gglvx6tbcvyg7m0dghx8r0000gq/T/ipykernel_41005/2579699215.py:72: UserWarning: To copy construct from a tensor, it is recommended to use sourceTensor.clone().detach() or sourceTensor.clone().detach().requires_grad_(True), rather than torch.tensor(sourceTensor).\n",
      "  q_out_elem_tensor = torch.tensor(q_out_elem, dtype=torch.float32, device=self.q_params.device)\n"
     ]
    },
    {
     "name": "stdout",
     "output_type": "stream",
     "text": [
      "Epoch 1 | Train Loss: 0.5800 | Train Acc: 0.9316 | Val Loss: 0.5699 | Val Acc: 0.9319 | Time: 147.81s\n"
     ]
    },
    {
     "name": "stderr",
     "output_type": "stream",
     "text": [
      "/var/folders/3x/956gglvx6tbcvyg7m0dghx8r0000gq/T/ipykernel_41005/2579699215.py:72: UserWarning: To copy construct from a tensor, it is recommended to use sourceTensor.clone().detach() or sourceTensor.clone().detach().requires_grad_(True), rather than torch.tensor(sourceTensor).\n",
      "  q_out_elem_tensor = torch.tensor(q_out_elem, dtype=torch.float32, device=self.q_params.device)\n"
     ]
    },
    {
     "name": "stdout",
     "output_type": "stream",
     "text": [
      "time for one batch: 3.660946846008301\n",
      "time for one batch: 4.229851961135864\n",
      "time for one batch: 4.014008283615112\n",
      "time for one batch: 3.8092846870422363\n",
      "time for one batch: 3.758173942565918\n",
      "time for one batch: 3.8372280597686768\n",
      "time for one batch: 4.560691833496094\n",
      "time for one batch: 4.347195863723755\n",
      "time for one batch: 5.985796928405762\n",
      "time for one batch: 6.165973901748657\n",
      "time for one batch: 5.580487012863159\n",
      "time for one batch: 5.358345985412598\n",
      "time for one batch: 5.462794303894043\n",
      "time for one batch: 5.2187769412994385\n",
      "time for one batch: 5.122951030731201\n",
      "time for one batch: 4.8656840324401855\n",
      "time for one batch: 4.7006001472473145\n",
      "time for one batch: 4.5555620193481445\n",
      "time for one batch: 4.796100854873657\n",
      "time for one batch: 4.313738822937012\n",
      "time for one batch: 4.3263609409332275\n",
      "time for one batch: 4.137035846710205\n",
      "time for one batch: 4.054660797119141\n",
      "time for one batch: 4.0272462368011475\n",
      "time for one batch: 3.9643971920013428\n",
      "time for one batch: 3.8819499015808105\n",
      "time for one batch: 3.8607449531555176\n",
      "time for one batch: 3.835987091064453\n",
      "time for one batch: 3.885122060775757\n",
      "time for one batch: 3.9043970108032227\n",
      "time for one batch: 3.7863218784332275\n",
      "time for one batch: 3.7272462844848633\n",
      "time for one batch: 3.7178051471710205\n",
      "time for one batch: 3.712013006210327\n",
      "time for one batch: 3.6865899562835693\n",
      "time for one batch: 3.7197601795196533\n",
      "time for one batch: 4.121222734451294\n",
      "time for one batch: 3.9474220275878906\n",
      "time for one batch: 1.4203519821166992\n"
     ]
    },
    {
     "name": "stderr",
     "output_type": "stream",
     "text": [
      "/var/folders/3x/956gglvx6tbcvyg7m0dghx8r0000gq/T/ipykernel_41005/2579699215.py:72: UserWarning: To copy construct from a tensor, it is recommended to use sourceTensor.clone().detach() or sourceTensor.clone().detach().requires_grad_(True), rather than torch.tensor(sourceTensor).\n",
      "  q_out_elem_tensor = torch.tensor(q_out_elem, dtype=torch.float32, device=self.q_params.device)\n",
      "/var/folders/3x/956gglvx6tbcvyg7m0dghx8r0000gq/T/ipykernel_41005/2579699215.py:72: UserWarning: To copy construct from a tensor, it is recommended to use sourceTensor.clone().detach() or sourceTensor.clone().detach().requires_grad_(True), rather than torch.tensor(sourceTensor).\n",
      "  q_out_elem_tensor = torch.tensor(q_out_elem, dtype=torch.float32, device=self.q_params.device)\n",
      "/var/folders/3x/956gglvx6tbcvyg7m0dghx8r0000gq/T/ipykernel_41005/2579699215.py:72: UserWarning: To copy construct from a tensor, it is recommended to use sourceTensor.clone().detach() or sourceTensor.clone().detach().requires_grad_(True), rather than torch.tensor(sourceTensor).\n",
      "  q_out_elem_tensor = torch.tensor(q_out_elem, dtype=torch.float32, device=self.q_params.device)\n",
      "/var/folders/3x/956gglvx6tbcvyg7m0dghx8r0000gq/T/ipykernel_41005/2579699215.py:72: UserWarning: To copy construct from a tensor, it is recommended to use sourceTensor.clone().detach() or sourceTensor.clone().detach().requires_grad_(True), rather than torch.tensor(sourceTensor).\n",
      "  q_out_elem_tensor = torch.tensor(q_out_elem, dtype=torch.float32, device=self.q_params.device)\n",
      "/var/folders/3x/956gglvx6tbcvyg7m0dghx8r0000gq/T/ipykernel_41005/2579699215.py:72: UserWarning: To copy construct from a tensor, it is recommended to use sourceTensor.clone().detach() or sourceTensor.clone().detach().requires_grad_(True), rather than torch.tensor(sourceTensor).\n",
      "  q_out_elem_tensor = torch.tensor(q_out_elem, dtype=torch.float32, device=self.q_params.device)\n",
      "/var/folders/3x/956gglvx6tbcvyg7m0dghx8r0000gq/T/ipykernel_41005/2579699215.py:72: UserWarning: To copy construct from a tensor, it is recommended to use sourceTensor.clone().detach() or sourceTensor.clone().detach().requires_grad_(True), rather than torch.tensor(sourceTensor).\n",
      "  q_out_elem_tensor = torch.tensor(q_out_elem, dtype=torch.float32, device=self.q_params.device)\n",
      "/var/folders/3x/956gglvx6tbcvyg7m0dghx8r0000gq/T/ipykernel_41005/2579699215.py:72: UserWarning: To copy construct from a tensor, it is recommended to use sourceTensor.clone().detach() or sourceTensor.clone().detach().requires_grad_(True), rather than torch.tensor(sourceTensor).\n",
      "  q_out_elem_tensor = torch.tensor(q_out_elem, dtype=torch.float32, device=self.q_params.device)\n",
      "/var/folders/3x/956gglvx6tbcvyg7m0dghx8r0000gq/T/ipykernel_41005/2579699215.py:72: UserWarning: To copy construct from a tensor, it is recommended to use sourceTensor.clone().detach() or sourceTensor.clone().detach().requires_grad_(True), rather than torch.tensor(sourceTensor).\n",
      "  q_out_elem_tensor = torch.tensor(q_out_elem, dtype=torch.float32, device=self.q_params.device)\n",
      "/var/folders/3x/956gglvx6tbcvyg7m0dghx8r0000gq/T/ipykernel_41005/2579699215.py:72: UserWarning: To copy construct from a tensor, it is recommended to use sourceTensor.clone().detach() or sourceTensor.clone().detach().requires_grad_(True), rather than torch.tensor(sourceTensor).\n",
      "  q_out_elem_tensor = torch.tensor(q_out_elem, dtype=torch.float32, device=self.q_params.device)\n"
     ]
    },
    {
     "name": "stdout",
     "output_type": "stream",
     "text": [
      "Epoch 2 | Train Loss: 0.5510 | Train Acc: 0.9316 | Val Loss: 0.5374 | Val Acc: 0.9319 | Time: 203.35s\n"
     ]
    },
    {
     "name": "stderr",
     "output_type": "stream",
     "text": [
      "/var/folders/3x/956gglvx6tbcvyg7m0dghx8r0000gq/T/ipykernel_41005/2579699215.py:72: UserWarning: To copy construct from a tensor, it is recommended to use sourceTensor.clone().detach() or sourceTensor.clone().detach().requires_grad_(True), rather than torch.tensor(sourceTensor).\n",
      "  q_out_elem_tensor = torch.tensor(q_out_elem, dtype=torch.float32, device=self.q_params.device)\n"
     ]
    },
    {
     "name": "stdout",
     "output_type": "stream",
     "text": [
      "time for one batch: 3.9460232257843018\n",
      "time for one batch: 4.101247072219849\n",
      "time for one batch: 4.358296155929565\n",
      "time for one batch: 4.353649139404297\n",
      "time for one batch: 4.705444097518921\n",
      "time for one batch: 4.247955799102783\n",
      "time for one batch: 4.6373889446258545\n",
      "time for one batch: 5.103206157684326\n",
      "time for one batch: 4.525698900222778\n",
      "time for one batch: 4.897731065750122\n",
      "time for one batch: 4.859844207763672\n",
      "time for one batch: 4.4473888874053955\n",
      "time for one batch: 4.325330018997192\n",
      "time for one batch: 4.813861131668091\n",
      "time for one batch: 4.832674026489258\n",
      "time for one batch: 4.8126540184021\n",
      "time for one batch: 4.446469783782959\n",
      "time for one batch: 4.940311908721924\n",
      "time for one batch: 4.786549091339111\n",
      "time for one batch: 5.119740009307861\n",
      "time for one batch: 6.027637004852295\n",
      "time for one batch: 5.366314888000488\n",
      "time for one batch: 5.9371018409729\n",
      "time for one batch: 6.769463062286377\n",
      "time for one batch: 6.384149074554443\n",
      "time for one batch: 5.174122095108032\n",
      "time for one batch: 5.004611015319824\n",
      "time for one batch: 5.4451000690460205\n",
      "time for one batch: 6.343684196472168\n",
      "time for one batch: 5.600219964981079\n",
      "time for one batch: 4.998193025588989\n",
      "time for one batch: 4.986346960067749\n",
      "time for one batch: 5.802506923675537\n",
      "time for one batch: 5.990072011947632\n",
      "time for one batch: 5.7627880573272705\n",
      "time for one batch: 5.494050025939941\n",
      "time for one batch: 5.0873448848724365\n",
      "time for one batch: 4.8391029834747314\n",
      "time for one batch: 1.8706848621368408\n"
     ]
    },
    {
     "name": "stderr",
     "output_type": "stream",
     "text": [
      "/var/folders/3x/956gglvx6tbcvyg7m0dghx8r0000gq/T/ipykernel_41005/2579699215.py:72: UserWarning: To copy construct from a tensor, it is recommended to use sourceTensor.clone().detach() or sourceTensor.clone().detach().requires_grad_(True), rather than torch.tensor(sourceTensor).\n",
      "  q_out_elem_tensor = torch.tensor(q_out_elem, dtype=torch.float32, device=self.q_params.device)\n",
      "/var/folders/3x/956gglvx6tbcvyg7m0dghx8r0000gq/T/ipykernel_41005/2579699215.py:72: UserWarning: To copy construct from a tensor, it is recommended to use sourceTensor.clone().detach() or sourceTensor.clone().detach().requires_grad_(True), rather than torch.tensor(sourceTensor).\n",
      "  q_out_elem_tensor = torch.tensor(q_out_elem, dtype=torch.float32, device=self.q_params.device)\n",
      "/var/folders/3x/956gglvx6tbcvyg7m0dghx8r0000gq/T/ipykernel_41005/2579699215.py:72: UserWarning: To copy construct from a tensor, it is recommended to use sourceTensor.clone().detach() or sourceTensor.clone().detach().requires_grad_(True), rather than torch.tensor(sourceTensor).\n",
      "  q_out_elem_tensor = torch.tensor(q_out_elem, dtype=torch.float32, device=self.q_params.device)\n",
      "/var/folders/3x/956gglvx6tbcvyg7m0dghx8r0000gq/T/ipykernel_41005/2579699215.py:72: UserWarning: To copy construct from a tensor, it is recommended to use sourceTensor.clone().detach() or sourceTensor.clone().detach().requires_grad_(True), rather than torch.tensor(sourceTensor).\n",
      "  q_out_elem_tensor = torch.tensor(q_out_elem, dtype=torch.float32, device=self.q_params.device)\n",
      "/var/folders/3x/956gglvx6tbcvyg7m0dghx8r0000gq/T/ipykernel_41005/2579699215.py:72: UserWarning: To copy construct from a tensor, it is recommended to use sourceTensor.clone().detach() or sourceTensor.clone().detach().requires_grad_(True), rather than torch.tensor(sourceTensor).\n",
      "  q_out_elem_tensor = torch.tensor(q_out_elem, dtype=torch.float32, device=self.q_params.device)\n",
      "/var/folders/3x/956gglvx6tbcvyg7m0dghx8r0000gq/T/ipykernel_41005/2579699215.py:72: UserWarning: To copy construct from a tensor, it is recommended to use sourceTensor.clone().detach() or sourceTensor.clone().detach().requires_grad_(True), rather than torch.tensor(sourceTensor).\n",
      "  q_out_elem_tensor = torch.tensor(q_out_elem, dtype=torch.float32, device=self.q_params.device)\n",
      "/var/folders/3x/956gglvx6tbcvyg7m0dghx8r0000gq/T/ipykernel_41005/2579699215.py:72: UserWarning: To copy construct from a tensor, it is recommended to use sourceTensor.clone().detach() or sourceTensor.clone().detach().requires_grad_(True), rather than torch.tensor(sourceTensor).\n",
      "  q_out_elem_tensor = torch.tensor(q_out_elem, dtype=torch.float32, device=self.q_params.device)\n",
      "/var/folders/3x/956gglvx6tbcvyg7m0dghx8r0000gq/T/ipykernel_41005/2579699215.py:72: UserWarning: To copy construct from a tensor, it is recommended to use sourceTensor.clone().detach() or sourceTensor.clone().detach().requires_grad_(True), rather than torch.tensor(sourceTensor).\n",
      "  q_out_elem_tensor = torch.tensor(q_out_elem, dtype=torch.float32, device=self.q_params.device)\n",
      "/var/folders/3x/956gglvx6tbcvyg7m0dghx8r0000gq/T/ipykernel_41005/2579699215.py:72: UserWarning: To copy construct from a tensor, it is recommended to use sourceTensor.clone().detach() or sourceTensor.clone().detach().requires_grad_(True), rather than torch.tensor(sourceTensor).\n",
      "  q_out_elem_tensor = torch.tensor(q_out_elem, dtype=torch.float32, device=self.q_params.device)\n"
     ]
    },
    {
     "name": "stdout",
     "output_type": "stream",
     "text": [
      "Epoch 3 | Train Loss: 0.5178 | Train Acc: 0.9316 | Val Loss: 0.4944 | Val Acc: 0.9319 | Time: 249.54s\n"
     ]
    },
    {
     "name": "stderr",
     "output_type": "stream",
     "text": [
      "/var/folders/3x/956gglvx6tbcvyg7m0dghx8r0000gq/T/ipykernel_41005/2579699215.py:72: UserWarning: To copy construct from a tensor, it is recommended to use sourceTensor.clone().detach() or sourceTensor.clone().detach().requires_grad_(True), rather than torch.tensor(sourceTensor).\n",
      "  q_out_elem_tensor = torch.tensor(q_out_elem, dtype=torch.float32, device=self.q_params.device)\n"
     ]
    },
    {
     "name": "stdout",
     "output_type": "stream",
     "text": [
      "time for one batch: 5.589273929595947\n",
      "time for one batch: 5.480302095413208\n",
      "time for one batch: 5.963615894317627\n",
      "time for one batch: 5.773761987686157\n",
      "time for one batch: 5.509095191955566\n",
      "time for one batch: 5.8608479499816895\n",
      "time for one batch: 6.2885119915008545\n",
      "time for one batch: 6.809600114822388\n",
      "time for one batch: 6.3784708976745605\n",
      "time for one batch: 5.857325792312622\n",
      "time for one batch: 5.6736109256744385\n",
      "time for one batch: 6.336374998092651\n",
      "time for one batch: 7.095417022705078\n",
      "time for one batch: 9.384573936462402\n",
      "time for one batch: 8.055516719818115\n",
      "time for one batch: 6.065000057220459\n",
      "time for one batch: 6.086545944213867\n",
      "time for one batch: 5.647055149078369\n",
      "time for one batch: 6.410492181777954\n",
      "time for one batch: 5.665489196777344\n",
      "time for one batch: 6.328381061553955\n",
      "time for one batch: 5.959480047225952\n",
      "time for one batch: 6.459553956985474\n",
      "time for one batch: 7.593086004257202\n",
      "time for one batch: 7.680245637893677\n",
      "time for one batch: 7.598801851272583\n",
      "time for one batch: 7.588732004165649\n",
      "time for one batch: 6.587969064712524\n",
      "time for one batch: 6.656960964202881\n",
      "time for one batch: 6.856703996658325\n",
      "time for one batch: 6.8389341831207275\n",
      "time for one batch: 6.187462091445923\n",
      "time for one batch: 5.382961988449097\n",
      "time for one batch: 5.262466192245483\n",
      "time for one batch: 5.278938293457031\n",
      "time for one batch: 5.225481986999512\n",
      "time for one batch: 5.013545036315918\n",
      "time for one batch: 4.849794864654541\n",
      "time for one batch: 1.914175033569336\n"
     ]
    },
    {
     "name": "stderr",
     "output_type": "stream",
     "text": [
      "/var/folders/3x/956gglvx6tbcvyg7m0dghx8r0000gq/T/ipykernel_41005/2579699215.py:72: UserWarning: To copy construct from a tensor, it is recommended to use sourceTensor.clone().detach() or sourceTensor.clone().detach().requires_grad_(True), rather than torch.tensor(sourceTensor).\n",
      "  q_out_elem_tensor = torch.tensor(q_out_elem, dtype=torch.float32, device=self.q_params.device)\n",
      "/var/folders/3x/956gglvx6tbcvyg7m0dghx8r0000gq/T/ipykernel_41005/2579699215.py:72: UserWarning: To copy construct from a tensor, it is recommended to use sourceTensor.clone().detach() or sourceTensor.clone().detach().requires_grad_(True), rather than torch.tensor(sourceTensor).\n",
      "  q_out_elem_tensor = torch.tensor(q_out_elem, dtype=torch.float32, device=self.q_params.device)\n",
      "/var/folders/3x/956gglvx6tbcvyg7m0dghx8r0000gq/T/ipykernel_41005/2579699215.py:72: UserWarning: To copy construct from a tensor, it is recommended to use sourceTensor.clone().detach() or sourceTensor.clone().detach().requires_grad_(True), rather than torch.tensor(sourceTensor).\n",
      "  q_out_elem_tensor = torch.tensor(q_out_elem, dtype=torch.float32, device=self.q_params.device)\n",
      "/var/folders/3x/956gglvx6tbcvyg7m0dghx8r0000gq/T/ipykernel_41005/2579699215.py:72: UserWarning: To copy construct from a tensor, it is recommended to use sourceTensor.clone().detach() or sourceTensor.clone().detach().requires_grad_(True), rather than torch.tensor(sourceTensor).\n",
      "  q_out_elem_tensor = torch.tensor(q_out_elem, dtype=torch.float32, device=self.q_params.device)\n",
      "/var/folders/3x/956gglvx6tbcvyg7m0dghx8r0000gq/T/ipykernel_41005/2579699215.py:72: UserWarning: To copy construct from a tensor, it is recommended to use sourceTensor.clone().detach() or sourceTensor.clone().detach().requires_grad_(True), rather than torch.tensor(sourceTensor).\n",
      "  q_out_elem_tensor = torch.tensor(q_out_elem, dtype=torch.float32, device=self.q_params.device)\n",
      "/var/folders/3x/956gglvx6tbcvyg7m0dghx8r0000gq/T/ipykernel_41005/2579699215.py:72: UserWarning: To copy construct from a tensor, it is recommended to use sourceTensor.clone().detach() or sourceTensor.clone().detach().requires_grad_(True), rather than torch.tensor(sourceTensor).\n",
      "  q_out_elem_tensor = torch.tensor(q_out_elem, dtype=torch.float32, device=self.q_params.device)\n",
      "/var/folders/3x/956gglvx6tbcvyg7m0dghx8r0000gq/T/ipykernel_41005/2579699215.py:72: UserWarning: To copy construct from a tensor, it is recommended to use sourceTensor.clone().detach() or sourceTensor.clone().detach().requires_grad_(True), rather than torch.tensor(sourceTensor).\n",
      "  q_out_elem_tensor = torch.tensor(q_out_elem, dtype=torch.float32, device=self.q_params.device)\n",
      "/var/folders/3x/956gglvx6tbcvyg7m0dghx8r0000gq/T/ipykernel_41005/2579699215.py:72: UserWarning: To copy construct from a tensor, it is recommended to use sourceTensor.clone().detach() or sourceTensor.clone().detach().requires_grad_(True), rather than torch.tensor(sourceTensor).\n",
      "  q_out_elem_tensor = torch.tensor(q_out_elem, dtype=torch.float32, device=self.q_params.device)\n",
      "/var/folders/3x/956gglvx6tbcvyg7m0dghx8r0000gq/T/ipykernel_41005/2579699215.py:72: UserWarning: To copy construct from a tensor, it is recommended to use sourceTensor.clone().detach() or sourceTensor.clone().detach().requires_grad_(True), rather than torch.tensor(sourceTensor).\n",
      "  q_out_elem_tensor = torch.tensor(q_out_elem, dtype=torch.float32, device=self.q_params.device)\n"
     ]
    },
    {
     "name": "stdout",
     "output_type": "stream",
     "text": [
      "Epoch 4 | Train Loss: 0.4704 | Train Acc: 0.9316 | Val Loss: 0.4391 | Val Acc: 0.9319 | Time: 297.56s\n"
     ]
    },
    {
     "name": "stderr",
     "output_type": "stream",
     "text": [
      "/var/folders/3x/956gglvx6tbcvyg7m0dghx8r0000gq/T/ipykernel_41005/2579699215.py:72: UserWarning: To copy construct from a tensor, it is recommended to use sourceTensor.clone().detach() or sourceTensor.clone().detach().requires_grad_(True), rather than torch.tensor(sourceTensor).\n",
      "  q_out_elem_tensor = torch.tensor(q_out_elem, dtype=torch.float32, device=self.q_params.device)\n"
     ]
    },
    {
     "name": "stdout",
     "output_type": "stream",
     "text": [
      "time for one batch: 5.4136130809783936\n",
      "time for one batch: 5.517298936843872\n",
      "time for one batch: 5.168450117111206\n",
      "time for one batch: 5.317502021789551\n",
      "time for one batch: 5.778795003890991\n",
      "time for one batch: 7.3292999267578125\n",
      "time for one batch: 6.224058151245117\n",
      "time for one batch: 5.899840831756592\n",
      "time for one batch: 7.44815993309021\n",
      "time for one batch: 8.095561027526855\n",
      "time for one batch: 7.464474201202393\n",
      "time for one batch: 7.196612119674683\n",
      "time for one batch: 7.138476133346558\n",
      "time for one batch: 6.489074945449829\n",
      "time for one batch: 6.847343683242798\n",
      "time for one batch: 7.134245872497559\n",
      "time for one batch: 6.849777936935425\n",
      "time for one batch: 6.42971396446228\n",
      "time for one batch: 6.067496299743652\n",
      "time for one batch: 6.63478684425354\n",
      "time for one batch: 7.79686713218689\n",
      "time for one batch: 7.672898054122925\n",
      "time for one batch: 8.327607870101929\n",
      "time for one batch: 8.42113995552063\n",
      "time for one batch: 7.857454061508179\n",
      "time for one batch: 8.732209920883179\n",
      "time for one batch: 7.663048982620239\n",
      "time for one batch: 7.896442174911499\n",
      "time for one batch: 6.80341911315918\n",
      "time for one batch: 6.682989835739136\n",
      "time for one batch: 6.067572116851807\n",
      "time for one batch: 6.895630121231079\n",
      "time for one batch: 6.312467098236084\n",
      "time for one batch: 6.306865930557251\n",
      "time for one batch: 6.530668020248413\n",
      "time for one batch: 5.589854001998901\n",
      "time for one batch: 5.479151725769043\n",
      "time for one batch: 5.504535913467407\n",
      "time for one batch: 2.1924850940704346\n"
     ]
    },
    {
     "name": "stderr",
     "output_type": "stream",
     "text": [
      "/var/folders/3x/956gglvx6tbcvyg7m0dghx8r0000gq/T/ipykernel_41005/2579699215.py:72: UserWarning: To copy construct from a tensor, it is recommended to use sourceTensor.clone().detach() or sourceTensor.clone().detach().requires_grad_(True), rather than torch.tensor(sourceTensor).\n",
      "  q_out_elem_tensor = torch.tensor(q_out_elem, dtype=torch.float32, device=self.q_params.device)\n",
      "/var/folders/3x/956gglvx6tbcvyg7m0dghx8r0000gq/T/ipykernel_41005/2579699215.py:72: UserWarning: To copy construct from a tensor, it is recommended to use sourceTensor.clone().detach() or sourceTensor.clone().detach().requires_grad_(True), rather than torch.tensor(sourceTensor).\n",
      "  q_out_elem_tensor = torch.tensor(q_out_elem, dtype=torch.float32, device=self.q_params.device)\n",
      "/var/folders/3x/956gglvx6tbcvyg7m0dghx8r0000gq/T/ipykernel_41005/2579699215.py:72: UserWarning: To copy construct from a tensor, it is recommended to use sourceTensor.clone().detach() or sourceTensor.clone().detach().requires_grad_(True), rather than torch.tensor(sourceTensor).\n",
      "  q_out_elem_tensor = torch.tensor(q_out_elem, dtype=torch.float32, device=self.q_params.device)\n",
      "/var/folders/3x/956gglvx6tbcvyg7m0dghx8r0000gq/T/ipykernel_41005/2579699215.py:72: UserWarning: To copy construct from a tensor, it is recommended to use sourceTensor.clone().detach() or sourceTensor.clone().detach().requires_grad_(True), rather than torch.tensor(sourceTensor).\n",
      "  q_out_elem_tensor = torch.tensor(q_out_elem, dtype=torch.float32, device=self.q_params.device)\n",
      "/var/folders/3x/956gglvx6tbcvyg7m0dghx8r0000gq/T/ipykernel_41005/2579699215.py:72: UserWarning: To copy construct from a tensor, it is recommended to use sourceTensor.clone().detach() or sourceTensor.clone().detach().requires_grad_(True), rather than torch.tensor(sourceTensor).\n",
      "  q_out_elem_tensor = torch.tensor(q_out_elem, dtype=torch.float32, device=self.q_params.device)\n",
      "/var/folders/3x/956gglvx6tbcvyg7m0dghx8r0000gq/T/ipykernel_41005/2579699215.py:72: UserWarning: To copy construct from a tensor, it is recommended to use sourceTensor.clone().detach() or sourceTensor.clone().detach().requires_grad_(True), rather than torch.tensor(sourceTensor).\n",
      "  q_out_elem_tensor = torch.tensor(q_out_elem, dtype=torch.float32, device=self.q_params.device)\n",
      "/var/folders/3x/956gglvx6tbcvyg7m0dghx8r0000gq/T/ipykernel_41005/2579699215.py:72: UserWarning: To copy construct from a tensor, it is recommended to use sourceTensor.clone().detach() or sourceTensor.clone().detach().requires_grad_(True), rather than torch.tensor(sourceTensor).\n",
      "  q_out_elem_tensor = torch.tensor(q_out_elem, dtype=torch.float32, device=self.q_params.device)\n",
      "/var/folders/3x/956gglvx6tbcvyg7m0dghx8r0000gq/T/ipykernel_41005/2579699215.py:72: UserWarning: To copy construct from a tensor, it is recommended to use sourceTensor.clone().detach() or sourceTensor.clone().detach().requires_grad_(True), rather than torch.tensor(sourceTensor).\n",
      "  q_out_elem_tensor = torch.tensor(q_out_elem, dtype=torch.float32, device=self.q_params.device)\n",
      "/var/folders/3x/956gglvx6tbcvyg7m0dghx8r0000gq/T/ipykernel_41005/2579699215.py:72: UserWarning: To copy construct from a tensor, it is recommended to use sourceTensor.clone().detach() or sourceTensor.clone().detach().requires_grad_(True), rather than torch.tensor(sourceTensor).\n",
      "  q_out_elem_tensor = torch.tensor(q_out_elem, dtype=torch.float32, device=self.q_params.device)\n"
     ]
    },
    {
     "name": "stdout",
     "output_type": "stream",
     "text": [
      "Epoch 5 | Train Loss: 0.4307 | Train Acc: 0.9316 | Val Loss: 0.3869 | Val Acc: 0.9319 | Time: 317.70s\n"
     ]
    },
    {
     "name": "stderr",
     "output_type": "stream",
     "text": [
      "/var/folders/3x/956gglvx6tbcvyg7m0dghx8r0000gq/T/ipykernel_41005/2579699215.py:72: UserWarning: To copy construct from a tensor, it is recommended to use sourceTensor.clone().detach() or sourceTensor.clone().detach().requires_grad_(True), rather than torch.tensor(sourceTensor).\n",
      "  q_out_elem_tensor = torch.tensor(q_out_elem, dtype=torch.float32, device=self.q_params.device)\n"
     ]
    },
    {
     "name": "stdout",
     "output_type": "stream",
     "text": [
      "time for one batch: 5.399285078048706\n",
      "time for one batch: 5.2358078956604\n",
      "time for one batch: 5.206154823303223\n",
      "time for one batch: 5.044132947921753\n",
      "time for one batch: 5.474442005157471\n",
      "time for one batch: 5.23689079284668\n",
      "time for one batch: 6.019412994384766\n",
      "time for one batch: 5.1854002475738525\n",
      "time for one batch: 5.081864833831787\n",
      "time for one batch: 5.566030979156494\n",
      "time for one batch: 5.18247127532959\n",
      "time for one batch: 5.9011759757995605\n",
      "time for one batch: 5.768842935562134\n",
      "time for one batch: 5.322710037231445\n",
      "time for one batch: 5.308898210525513\n",
      "time for one batch: 5.746717929840088\n",
      "time for one batch: 5.24708366394043\n",
      "time for one batch: 5.349379062652588\n",
      "time for one batch: 5.200327157974243\n",
      "time for one batch: 5.172355890274048\n",
      "time for one batch: 5.179336786270142\n",
      "time for one batch: 5.179095029830933\n",
      "time for one batch: 5.431904077529907\n",
      "time for one batch: 5.264810085296631\n",
      "time for one batch: 5.4622111320495605\n",
      "time for one batch: 5.507246971130371\n",
      "time for one batch: 5.667121171951294\n",
      "time for one batch: 5.656691074371338\n",
      "time for one batch: 5.888789892196655\n",
      "time for one batch: 7.2537841796875\n",
      "time for one batch: 7.840062856674194\n",
      "time for one batch: 7.620049953460693\n",
      "time for one batch: 7.008840799331665\n",
      "time for one batch: 7.16238808631897\n",
      "time for one batch: 7.084882736206055\n",
      "time for one batch: 7.088238000869751\n",
      "time for one batch: 6.7438178062438965\n",
      "time for one batch: 6.2574920654296875\n",
      "time for one batch: 2.1396920680999756\n"
     ]
    },
    {
     "name": "stderr",
     "output_type": "stream",
     "text": [
      "/var/folders/3x/956gglvx6tbcvyg7m0dghx8r0000gq/T/ipykernel_41005/2579699215.py:72: UserWarning: To copy construct from a tensor, it is recommended to use sourceTensor.clone().detach() or sourceTensor.clone().detach().requires_grad_(True), rather than torch.tensor(sourceTensor).\n",
      "  q_out_elem_tensor = torch.tensor(q_out_elem, dtype=torch.float32, device=self.q_params.device)\n",
      "/var/folders/3x/956gglvx6tbcvyg7m0dghx8r0000gq/T/ipykernel_41005/2579699215.py:72: UserWarning: To copy construct from a tensor, it is recommended to use sourceTensor.clone().detach() or sourceTensor.clone().detach().requires_grad_(True), rather than torch.tensor(sourceTensor).\n",
      "  q_out_elem_tensor = torch.tensor(q_out_elem, dtype=torch.float32, device=self.q_params.device)\n",
      "/var/folders/3x/956gglvx6tbcvyg7m0dghx8r0000gq/T/ipykernel_41005/2579699215.py:72: UserWarning: To copy construct from a tensor, it is recommended to use sourceTensor.clone().detach() or sourceTensor.clone().detach().requires_grad_(True), rather than torch.tensor(sourceTensor).\n",
      "  q_out_elem_tensor = torch.tensor(q_out_elem, dtype=torch.float32, device=self.q_params.device)\n",
      "/var/folders/3x/956gglvx6tbcvyg7m0dghx8r0000gq/T/ipykernel_41005/2579699215.py:72: UserWarning: To copy construct from a tensor, it is recommended to use sourceTensor.clone().detach() or sourceTensor.clone().detach().requires_grad_(True), rather than torch.tensor(sourceTensor).\n",
      "  q_out_elem_tensor = torch.tensor(q_out_elem, dtype=torch.float32, device=self.q_params.device)\n",
      "/var/folders/3x/956gglvx6tbcvyg7m0dghx8r0000gq/T/ipykernel_41005/2579699215.py:72: UserWarning: To copy construct from a tensor, it is recommended to use sourceTensor.clone().detach() or sourceTensor.clone().detach().requires_grad_(True), rather than torch.tensor(sourceTensor).\n",
      "  q_out_elem_tensor = torch.tensor(q_out_elem, dtype=torch.float32, device=self.q_params.device)\n",
      "/var/folders/3x/956gglvx6tbcvyg7m0dghx8r0000gq/T/ipykernel_41005/2579699215.py:72: UserWarning: To copy construct from a tensor, it is recommended to use sourceTensor.clone().detach() or sourceTensor.clone().detach().requires_grad_(True), rather than torch.tensor(sourceTensor).\n",
      "  q_out_elem_tensor = torch.tensor(q_out_elem, dtype=torch.float32, device=self.q_params.device)\n",
      "/var/folders/3x/956gglvx6tbcvyg7m0dghx8r0000gq/T/ipykernel_41005/2579699215.py:72: UserWarning: To copy construct from a tensor, it is recommended to use sourceTensor.clone().detach() or sourceTensor.clone().detach().requires_grad_(True), rather than torch.tensor(sourceTensor).\n",
      "  q_out_elem_tensor = torch.tensor(q_out_elem, dtype=torch.float32, device=self.q_params.device)\n",
      "/var/folders/3x/956gglvx6tbcvyg7m0dghx8r0000gq/T/ipykernel_41005/2579699215.py:72: UserWarning: To copy construct from a tensor, it is recommended to use sourceTensor.clone().detach() or sourceTensor.clone().detach().requires_grad_(True), rather than torch.tensor(sourceTensor).\n",
      "  q_out_elem_tensor = torch.tensor(q_out_elem, dtype=torch.float32, device=self.q_params.device)\n",
      "/var/folders/3x/956gglvx6tbcvyg7m0dghx8r0000gq/T/ipykernel_41005/2579699215.py:72: UserWarning: To copy construct from a tensor, it is recommended to use sourceTensor.clone().detach() or sourceTensor.clone().detach().requires_grad_(True), rather than torch.tensor(sourceTensor).\n",
      "  q_out_elem_tensor = torch.tensor(q_out_elem, dtype=torch.float32, device=self.q_params.device)\n"
     ]
    },
    {
     "name": "stdout",
     "output_type": "stream",
     "text": [
      "Epoch 6 | Train Loss: 0.4017 | Train Acc: 0.9316 | Val Loss: 0.3477 | Val Acc: 0.9319 | Time: 278.47s\n"
     ]
    },
    {
     "name": "stderr",
     "output_type": "stream",
     "text": [
      "/var/folders/3x/956gglvx6tbcvyg7m0dghx8r0000gq/T/ipykernel_41005/2579699215.py:72: UserWarning: To copy construct from a tensor, it is recommended to use sourceTensor.clone().detach() or sourceTensor.clone().detach().requires_grad_(True), rather than torch.tensor(sourceTensor).\n",
      "  q_out_elem_tensor = torch.tensor(q_out_elem, dtype=torch.float32, device=self.q_params.device)\n"
     ]
    },
    {
     "name": "stdout",
     "output_type": "stream",
     "text": [
      "time for one batch: 6.344864130020142\n",
      "time for one batch: 6.018189191818237\n",
      "time for one batch: 5.974591970443726\n",
      "time for one batch: 5.87205696105957\n",
      "time for one batch: 5.975389003753662\n",
      "time for one batch: 5.873243093490601\n",
      "time for one batch: 5.345375061035156\n",
      "time for one batch: 6.2660768032073975\n",
      "time for one batch: 6.262941837310791\n",
      "time for one batch: 5.676732063293457\n",
      "time for one batch: 6.55171799659729\n",
      "time for one batch: 5.508084058761597\n",
      "time for one batch: 5.499606132507324\n",
      "time for one batch: 5.4217259883880615\n",
      "time for one batch: 5.756028175354004\n",
      "time for one batch: 5.451453924179077\n",
      "time for one batch: 6.17203426361084\n",
      "time for one batch: 5.863434076309204\n",
      "time for one batch: 5.643002986907959\n",
      "time for one batch: 6.246113061904907\n",
      "time for one batch: 5.621070861816406\n",
      "time for one batch: 5.666855812072754\n",
      "time for one batch: 6.168460130691528\n",
      "time for one batch: 5.553614854812622\n",
      "time for one batch: 5.621326923370361\n",
      "time for one batch: 6.293705940246582\n",
      "time for one batch: 5.90399694442749\n",
      "time for one batch: 5.8691582679748535\n",
      "time for one batch: 6.007944107055664\n",
      "time for one batch: 6.147396087646484\n",
      "time for one batch: 6.387683153152466\n",
      "time for one batch: 6.048019886016846\n",
      "time for one batch: 5.8534629344940186\n",
      "time for one batch: 6.7438271045684814\n",
      "time for one batch: 5.790222883224487\n",
      "time for one batch: 6.246656894683838\n",
      "time for one batch: 5.672159910202026\n",
      "time for one batch: 5.835506916046143\n",
      "time for one batch: 2.182036876678467\n"
     ]
    },
    {
     "name": "stderr",
     "output_type": "stream",
     "text": [
      "/var/folders/3x/956gglvx6tbcvyg7m0dghx8r0000gq/T/ipykernel_41005/2579699215.py:72: UserWarning: To copy construct from a tensor, it is recommended to use sourceTensor.clone().detach() or sourceTensor.clone().detach().requires_grad_(True), rather than torch.tensor(sourceTensor).\n",
      "  q_out_elem_tensor = torch.tensor(q_out_elem, dtype=torch.float32, device=self.q_params.device)\n",
      "/var/folders/3x/956gglvx6tbcvyg7m0dghx8r0000gq/T/ipykernel_41005/2579699215.py:72: UserWarning: To copy construct from a tensor, it is recommended to use sourceTensor.clone().detach() or sourceTensor.clone().detach().requires_grad_(True), rather than torch.tensor(sourceTensor).\n",
      "  q_out_elem_tensor = torch.tensor(q_out_elem, dtype=torch.float32, device=self.q_params.device)\n",
      "/var/folders/3x/956gglvx6tbcvyg7m0dghx8r0000gq/T/ipykernel_41005/2579699215.py:72: UserWarning: To copy construct from a tensor, it is recommended to use sourceTensor.clone().detach() or sourceTensor.clone().detach().requires_grad_(True), rather than torch.tensor(sourceTensor).\n",
      "  q_out_elem_tensor = torch.tensor(q_out_elem, dtype=torch.float32, device=self.q_params.device)\n",
      "/var/folders/3x/956gglvx6tbcvyg7m0dghx8r0000gq/T/ipykernel_41005/2579699215.py:72: UserWarning: To copy construct from a tensor, it is recommended to use sourceTensor.clone().detach() or sourceTensor.clone().detach().requires_grad_(True), rather than torch.tensor(sourceTensor).\n",
      "  q_out_elem_tensor = torch.tensor(q_out_elem, dtype=torch.float32, device=self.q_params.device)\n",
      "/var/folders/3x/956gglvx6tbcvyg7m0dghx8r0000gq/T/ipykernel_41005/2579699215.py:72: UserWarning: To copy construct from a tensor, it is recommended to use sourceTensor.clone().detach() or sourceTensor.clone().detach().requires_grad_(True), rather than torch.tensor(sourceTensor).\n",
      "  q_out_elem_tensor = torch.tensor(q_out_elem, dtype=torch.float32, device=self.q_params.device)\n",
      "/var/folders/3x/956gglvx6tbcvyg7m0dghx8r0000gq/T/ipykernel_41005/2579699215.py:72: UserWarning: To copy construct from a tensor, it is recommended to use sourceTensor.clone().detach() or sourceTensor.clone().detach().requires_grad_(True), rather than torch.tensor(sourceTensor).\n",
      "  q_out_elem_tensor = torch.tensor(q_out_elem, dtype=torch.float32, device=self.q_params.device)\n",
      "/var/folders/3x/956gglvx6tbcvyg7m0dghx8r0000gq/T/ipykernel_41005/2579699215.py:72: UserWarning: To copy construct from a tensor, it is recommended to use sourceTensor.clone().detach() or sourceTensor.clone().detach().requires_grad_(True), rather than torch.tensor(sourceTensor).\n",
      "  q_out_elem_tensor = torch.tensor(q_out_elem, dtype=torch.float32, device=self.q_params.device)\n",
      "/var/folders/3x/956gglvx6tbcvyg7m0dghx8r0000gq/T/ipykernel_41005/2579699215.py:72: UserWarning: To copy construct from a tensor, it is recommended to use sourceTensor.clone().detach() or sourceTensor.clone().detach().requires_grad_(True), rather than torch.tensor(sourceTensor).\n",
      "  q_out_elem_tensor = torch.tensor(q_out_elem, dtype=torch.float32, device=self.q_params.device)\n",
      "/var/folders/3x/956gglvx6tbcvyg7m0dghx8r0000gq/T/ipykernel_41005/2579699215.py:72: UserWarning: To copy construct from a tensor, it is recommended to use sourceTensor.clone().detach() or sourceTensor.clone().detach().requires_grad_(True), rather than torch.tensor(sourceTensor).\n",
      "  q_out_elem_tensor = torch.tensor(q_out_elem, dtype=torch.float32, device=self.q_params.device)\n"
     ]
    },
    {
     "name": "stdout",
     "output_type": "stream",
     "text": [
      "Epoch 7 | Train Loss: 0.3733 | Train Acc: 0.9316 | Val Loss: 0.3188 | Val Acc: 0.9319 | Time: 287.14s\n"
     ]
    },
    {
     "name": "stderr",
     "output_type": "stream",
     "text": [
      "/var/folders/3x/956gglvx6tbcvyg7m0dghx8r0000gq/T/ipykernel_41005/2579699215.py:72: UserWarning: To copy construct from a tensor, it is recommended to use sourceTensor.clone().detach() or sourceTensor.clone().detach().requires_grad_(True), rather than torch.tensor(sourceTensor).\n",
      "  q_out_elem_tensor = torch.tensor(q_out_elem, dtype=torch.float32, device=self.q_params.device)\n"
     ]
    },
    {
     "name": "stdout",
     "output_type": "stream",
     "text": [
      "time for one batch: 6.146075010299683\n",
      "time for one batch: 5.743194103240967\n",
      "time for one batch: 5.808094024658203\n",
      "time for one batch: 7.051425933837891\n",
      "time for one batch: 7.258816957473755\n",
      "time for one batch: 7.099299192428589\n",
      "time for one batch: 6.987856864929199\n",
      "time for one batch: 7.896987199783325\n",
      "time for one batch: 7.5847907066345215\n",
      "time for one batch: 6.259168863296509\n",
      "time for one batch: 5.839007139205933\n",
      "time for one batch: 6.081954002380371\n",
      "time for one batch: 5.816819906234741\n",
      "time for one batch: 5.865428924560547\n",
      "time for one batch: 5.530951976776123\n",
      "time for one batch: 5.62527322769165\n",
      "time for one batch: 5.709055185317993\n",
      "time for one batch: 5.368149042129517\n",
      "time for one batch: 5.423566818237305\n",
      "time for one batch: 5.144004821777344\n",
      "time for one batch: 5.48921012878418\n",
      "time for one batch: 5.244874000549316\n",
      "time for one batch: 5.5626540184021\n",
      "time for one batch: 5.5051891803741455\n",
      "time for one batch: 5.669811964035034\n",
      "time for one batch: 5.193235158920288\n",
      "time for one batch: 5.450687885284424\n",
      "time for one batch: 6.7605931758880615\n",
      "time for one batch: 6.290251016616821\n",
      "time for one batch: 7.196144104003906\n",
      "time for one batch: 5.990793943405151\n",
      "time for one batch: 6.116097927093506\n",
      "time for one batch: 5.925229072570801\n",
      "time for one batch: 6.123700380325317\n",
      "time for one batch: 6.343961238861084\n",
      "time for one batch: 6.102861166000366\n",
      "time for one batch: 6.961294651031494\n",
      "time for one batch: 6.856945276260376\n",
      "time for one batch: 2.3226280212402344\n"
     ]
    },
    {
     "name": "stderr",
     "output_type": "stream",
     "text": [
      "/var/folders/3x/956gglvx6tbcvyg7m0dghx8r0000gq/T/ipykernel_41005/2579699215.py:72: UserWarning: To copy construct from a tensor, it is recommended to use sourceTensor.clone().detach() or sourceTensor.clone().detach().requires_grad_(True), rather than torch.tensor(sourceTensor).\n",
      "  q_out_elem_tensor = torch.tensor(q_out_elem, dtype=torch.float32, device=self.q_params.device)\n",
      "/var/folders/3x/956gglvx6tbcvyg7m0dghx8r0000gq/T/ipykernel_41005/2579699215.py:72: UserWarning: To copy construct from a tensor, it is recommended to use sourceTensor.clone().detach() or sourceTensor.clone().detach().requires_grad_(True), rather than torch.tensor(sourceTensor).\n",
      "  q_out_elem_tensor = torch.tensor(q_out_elem, dtype=torch.float32, device=self.q_params.device)\n",
      "/var/folders/3x/956gglvx6tbcvyg7m0dghx8r0000gq/T/ipykernel_41005/2579699215.py:72: UserWarning: To copy construct from a tensor, it is recommended to use sourceTensor.clone().detach() or sourceTensor.clone().detach().requires_grad_(True), rather than torch.tensor(sourceTensor).\n",
      "  q_out_elem_tensor = torch.tensor(q_out_elem, dtype=torch.float32, device=self.q_params.device)\n",
      "/var/folders/3x/956gglvx6tbcvyg7m0dghx8r0000gq/T/ipykernel_41005/2579699215.py:72: UserWarning: To copy construct from a tensor, it is recommended to use sourceTensor.clone().detach() or sourceTensor.clone().detach().requires_grad_(True), rather than torch.tensor(sourceTensor).\n",
      "  q_out_elem_tensor = torch.tensor(q_out_elem, dtype=torch.float32, device=self.q_params.device)\n",
      "/var/folders/3x/956gglvx6tbcvyg7m0dghx8r0000gq/T/ipykernel_41005/2579699215.py:72: UserWarning: To copy construct from a tensor, it is recommended to use sourceTensor.clone().detach() or sourceTensor.clone().detach().requires_grad_(True), rather than torch.tensor(sourceTensor).\n",
      "  q_out_elem_tensor = torch.tensor(q_out_elem, dtype=torch.float32, device=self.q_params.device)\n",
      "/var/folders/3x/956gglvx6tbcvyg7m0dghx8r0000gq/T/ipykernel_41005/2579699215.py:72: UserWarning: To copy construct from a tensor, it is recommended to use sourceTensor.clone().detach() or sourceTensor.clone().detach().requires_grad_(True), rather than torch.tensor(sourceTensor).\n",
      "  q_out_elem_tensor = torch.tensor(q_out_elem, dtype=torch.float32, device=self.q_params.device)\n",
      "/var/folders/3x/956gglvx6tbcvyg7m0dghx8r0000gq/T/ipykernel_41005/2579699215.py:72: UserWarning: To copy construct from a tensor, it is recommended to use sourceTensor.clone().detach() or sourceTensor.clone().detach().requires_grad_(True), rather than torch.tensor(sourceTensor).\n",
      "  q_out_elem_tensor = torch.tensor(q_out_elem, dtype=torch.float32, device=self.q_params.device)\n",
      "/var/folders/3x/956gglvx6tbcvyg7m0dghx8r0000gq/T/ipykernel_41005/2579699215.py:72: UserWarning: To copy construct from a tensor, it is recommended to use sourceTensor.clone().detach() or sourceTensor.clone().detach().requires_grad_(True), rather than torch.tensor(sourceTensor).\n",
      "  q_out_elem_tensor = torch.tensor(q_out_elem, dtype=torch.float32, device=self.q_params.device)\n",
      "/var/folders/3x/956gglvx6tbcvyg7m0dghx8r0000gq/T/ipykernel_41005/2579699215.py:72: UserWarning: To copy construct from a tensor, it is recommended to use sourceTensor.clone().detach() or sourceTensor.clone().detach().requires_grad_(True), rather than torch.tensor(sourceTensor).\n",
      "  q_out_elem_tensor = torch.tensor(q_out_elem, dtype=torch.float32, device=self.q_params.device)\n"
     ]
    },
    {
     "name": "stdout",
     "output_type": "stream",
     "text": [
      "Epoch 8 | Train Loss: 0.3605 | Train Acc: 0.9316 | Val Loss: 0.3006 | Val Acc: 0.9319 | Time: 293.01s\n"
     ]
    },
    {
     "name": "stderr",
     "output_type": "stream",
     "text": [
      "/var/folders/3x/956gglvx6tbcvyg7m0dghx8r0000gq/T/ipykernel_41005/2579699215.py:72: UserWarning: To copy construct from a tensor, it is recommended to use sourceTensor.clone().detach() or sourceTensor.clone().detach().requires_grad_(True), rather than torch.tensor(sourceTensor).\n",
      "  q_out_elem_tensor = torch.tensor(q_out_elem, dtype=torch.float32, device=self.q_params.device)\n"
     ]
    },
    {
     "name": "stdout",
     "output_type": "stream",
     "text": [
      "time for one batch: 5.916100978851318\n",
      "time for one batch: 6.224899053573608\n",
      "time for one batch: 5.600791931152344\n",
      "time for one batch: 6.353315830230713\n",
      "time for one batch: 7.1188788414001465\n",
      "time for one batch: 7.141458988189697\n",
      "time for one batch: 6.709190130233765\n",
      "time for one batch: 5.685877323150635\n",
      "time for one batch: 5.646023988723755\n",
      "time for one batch: 5.506572008132935\n",
      "time for one batch: 5.818190813064575\n",
      "time for one batch: 5.882664918899536\n",
      "time for one batch: 5.853763103485107\n",
      "time for one batch: 5.271015167236328\n",
      "time for one batch: 5.25713586807251\n",
      "time for one batch: 5.347290992736816\n",
      "time for one batch: 5.037431716918945\n",
      "time for one batch: 5.257628917694092\n",
      "time for one batch: 5.167409896850586\n",
      "time for one batch: 5.736783027648926\n",
      "time for one batch: 5.598917007446289\n",
      "time for one batch: 5.301928997039795\n",
      "time for one batch: 6.294064044952393\n",
      "time for one batch: 6.100923299789429\n",
      "time for one batch: 5.7349629402160645\n",
      "time for one batch: 6.178457975387573\n",
      "time for one batch: 6.722530841827393\n",
      "time for one batch: 6.820863962173462\n",
      "time for one batch: 7.189757823944092\n",
      "time for one batch: 7.156316041946411\n",
      "time for one batch: 7.375515937805176\n",
      "time for one batch: 6.385074138641357\n",
      "time for one batch: 6.036903142929077\n",
      "time for one batch: 5.950822830200195\n",
      "time for one batch: 6.05978798866272\n",
      "time for one batch: 6.03328800201416\n",
      "time for one batch: 6.8074049949646\n",
      "time for one batch: 6.452147960662842\n",
      "time for one batch: 2.4994678497314453\n"
     ]
    },
    {
     "name": "stderr",
     "output_type": "stream",
     "text": [
      "/var/folders/3x/956gglvx6tbcvyg7m0dghx8r0000gq/T/ipykernel_41005/2579699215.py:72: UserWarning: To copy construct from a tensor, it is recommended to use sourceTensor.clone().detach() or sourceTensor.clone().detach().requires_grad_(True), rather than torch.tensor(sourceTensor).\n",
      "  q_out_elem_tensor = torch.tensor(q_out_elem, dtype=torch.float32, device=self.q_params.device)\n",
      "/var/folders/3x/956gglvx6tbcvyg7m0dghx8r0000gq/T/ipykernel_41005/2579699215.py:72: UserWarning: To copy construct from a tensor, it is recommended to use sourceTensor.clone().detach() or sourceTensor.clone().detach().requires_grad_(True), rather than torch.tensor(sourceTensor).\n",
      "  q_out_elem_tensor = torch.tensor(q_out_elem, dtype=torch.float32, device=self.q_params.device)\n",
      "/var/folders/3x/956gglvx6tbcvyg7m0dghx8r0000gq/T/ipykernel_41005/2579699215.py:72: UserWarning: To copy construct from a tensor, it is recommended to use sourceTensor.clone().detach() or sourceTensor.clone().detach().requires_grad_(True), rather than torch.tensor(sourceTensor).\n",
      "  q_out_elem_tensor = torch.tensor(q_out_elem, dtype=torch.float32, device=self.q_params.device)\n",
      "/var/folders/3x/956gglvx6tbcvyg7m0dghx8r0000gq/T/ipykernel_41005/2579699215.py:72: UserWarning: To copy construct from a tensor, it is recommended to use sourceTensor.clone().detach() or sourceTensor.clone().detach().requires_grad_(True), rather than torch.tensor(sourceTensor).\n",
      "  q_out_elem_tensor = torch.tensor(q_out_elem, dtype=torch.float32, device=self.q_params.device)\n",
      "/var/folders/3x/956gglvx6tbcvyg7m0dghx8r0000gq/T/ipykernel_41005/2579699215.py:72: UserWarning: To copy construct from a tensor, it is recommended to use sourceTensor.clone().detach() or sourceTensor.clone().detach().requires_grad_(True), rather than torch.tensor(sourceTensor).\n",
      "  q_out_elem_tensor = torch.tensor(q_out_elem, dtype=torch.float32, device=self.q_params.device)\n",
      "/var/folders/3x/956gglvx6tbcvyg7m0dghx8r0000gq/T/ipykernel_41005/2579699215.py:72: UserWarning: To copy construct from a tensor, it is recommended to use sourceTensor.clone().detach() or sourceTensor.clone().detach().requires_grad_(True), rather than torch.tensor(sourceTensor).\n",
      "  q_out_elem_tensor = torch.tensor(q_out_elem, dtype=torch.float32, device=self.q_params.device)\n",
      "/var/folders/3x/956gglvx6tbcvyg7m0dghx8r0000gq/T/ipykernel_41005/2579699215.py:72: UserWarning: To copy construct from a tensor, it is recommended to use sourceTensor.clone().detach() or sourceTensor.clone().detach().requires_grad_(True), rather than torch.tensor(sourceTensor).\n",
      "  q_out_elem_tensor = torch.tensor(q_out_elem, dtype=torch.float32, device=self.q_params.device)\n",
      "/var/folders/3x/956gglvx6tbcvyg7m0dghx8r0000gq/T/ipykernel_41005/2579699215.py:72: UserWarning: To copy construct from a tensor, it is recommended to use sourceTensor.clone().detach() or sourceTensor.clone().detach().requires_grad_(True), rather than torch.tensor(sourceTensor).\n",
      "  q_out_elem_tensor = torch.tensor(q_out_elem, dtype=torch.float32, device=self.q_params.device)\n",
      "/var/folders/3x/956gglvx6tbcvyg7m0dghx8r0000gq/T/ipykernel_41005/2579699215.py:72: UserWarning: To copy construct from a tensor, it is recommended to use sourceTensor.clone().detach() or sourceTensor.clone().detach().requires_grad_(True), rather than torch.tensor(sourceTensor).\n",
      "  q_out_elem_tensor = torch.tensor(q_out_elem, dtype=torch.float32, device=self.q_params.device)\n"
     ]
    },
    {
     "name": "stdout",
     "output_type": "stream",
     "text": [
      "Epoch 9 | Train Loss: 0.3634 | Train Acc: 0.9316 | Val Loss: 0.2896 | Val Acc: 0.9319 | Time: 288.56s\n"
     ]
    },
    {
     "name": "stderr",
     "output_type": "stream",
     "text": [
      "/var/folders/3x/956gglvx6tbcvyg7m0dghx8r0000gq/T/ipykernel_41005/2579699215.py:72: UserWarning: To copy construct from a tensor, it is recommended to use sourceTensor.clone().detach() or sourceTensor.clone().detach().requires_grad_(True), rather than torch.tensor(sourceTensor).\n",
      "  q_out_elem_tensor = torch.tensor(q_out_elem, dtype=torch.float32, device=self.q_params.device)\n"
     ]
    },
    {
     "name": "stdout",
     "output_type": "stream",
     "text": [
      "time for one batch: 5.274921894073486\n",
      "time for one batch: 5.705819845199585\n",
      "time for one batch: 6.72119665145874\n",
      "time for one batch: 5.729681730270386\n",
      "time for one batch: 5.588896989822388\n",
      "time for one batch: 5.446131944656372\n",
      "time for one batch: 5.384458065032959\n",
      "time for one batch: 6.002074718475342\n",
      "time for one batch: 5.989470958709717\n",
      "time for one batch: 5.744992017745972\n",
      "time for one batch: 6.184553861618042\n",
      "time for one batch: 7.512906074523926\n",
      "time for one batch: 7.307141065597534\n",
      "time for one batch: 6.560651779174805\n",
      "time for one batch: 6.189805746078491\n",
      "time for one batch: 6.485050916671753\n",
      "time for one batch: 5.801167249679565\n",
      "time for one batch: 5.668971061706543\n",
      "time for one batch: 5.862579822540283\n",
      "time for one batch: 5.733760118484497\n",
      "time for one batch: 5.9358367919921875\n",
      "time for one batch: 5.729434967041016\n",
      "time for one batch: 6.256386756896973\n",
      "time for one batch: 5.772143840789795\n",
      "time for one batch: 5.503788948059082\n",
      "time for one batch: 6.724637031555176\n",
      "time for one batch: 6.30626106262207\n",
      "time for one batch: 6.846380949020386\n",
      "time for one batch: 7.806185960769653\n",
      "time for one batch: 8.220829963684082\n",
      "time for one batch: 8.055091857910156\n",
      "time for one batch: 8.92724084854126\n",
      "time for one batch: 8.401658773422241\n",
      "time for one batch: 8.015799760818481\n",
      "time for one batch: 7.880143165588379\n",
      "time for one batch: 7.466705799102783\n",
      "time for one batch: 7.854026794433594\n",
      "time for one batch: 7.919343948364258\n",
      "time for one batch: 2.7748382091522217\n"
     ]
    },
    {
     "name": "stderr",
     "output_type": "stream",
     "text": [
      "/var/folders/3x/956gglvx6tbcvyg7m0dghx8r0000gq/T/ipykernel_41005/2579699215.py:72: UserWarning: To copy construct from a tensor, it is recommended to use sourceTensor.clone().detach() or sourceTensor.clone().detach().requires_grad_(True), rather than torch.tensor(sourceTensor).\n",
      "  q_out_elem_tensor = torch.tensor(q_out_elem, dtype=torch.float32, device=self.q_params.device)\n",
      "/var/folders/3x/956gglvx6tbcvyg7m0dghx8r0000gq/T/ipykernel_41005/2579699215.py:72: UserWarning: To copy construct from a tensor, it is recommended to use sourceTensor.clone().detach() or sourceTensor.clone().detach().requires_grad_(True), rather than torch.tensor(sourceTensor).\n",
      "  q_out_elem_tensor = torch.tensor(q_out_elem, dtype=torch.float32, device=self.q_params.device)\n",
      "/var/folders/3x/956gglvx6tbcvyg7m0dghx8r0000gq/T/ipykernel_41005/2579699215.py:72: UserWarning: To copy construct from a tensor, it is recommended to use sourceTensor.clone().detach() or sourceTensor.clone().detach().requires_grad_(True), rather than torch.tensor(sourceTensor).\n",
      "  q_out_elem_tensor = torch.tensor(q_out_elem, dtype=torch.float32, device=self.q_params.device)\n",
      "/var/folders/3x/956gglvx6tbcvyg7m0dghx8r0000gq/T/ipykernel_41005/2579699215.py:72: UserWarning: To copy construct from a tensor, it is recommended to use sourceTensor.clone().detach() or sourceTensor.clone().detach().requires_grad_(True), rather than torch.tensor(sourceTensor).\n",
      "  q_out_elem_tensor = torch.tensor(q_out_elem, dtype=torch.float32, device=self.q_params.device)\n",
      "/var/folders/3x/956gglvx6tbcvyg7m0dghx8r0000gq/T/ipykernel_41005/2579699215.py:72: UserWarning: To copy construct from a tensor, it is recommended to use sourceTensor.clone().detach() or sourceTensor.clone().detach().requires_grad_(True), rather than torch.tensor(sourceTensor).\n",
      "  q_out_elem_tensor = torch.tensor(q_out_elem, dtype=torch.float32, device=self.q_params.device)\n",
      "/var/folders/3x/956gglvx6tbcvyg7m0dghx8r0000gq/T/ipykernel_41005/2579699215.py:72: UserWarning: To copy construct from a tensor, it is recommended to use sourceTensor.clone().detach() or sourceTensor.clone().detach().requires_grad_(True), rather than torch.tensor(sourceTensor).\n",
      "  q_out_elem_tensor = torch.tensor(q_out_elem, dtype=torch.float32, device=self.q_params.device)\n",
      "/var/folders/3x/956gglvx6tbcvyg7m0dghx8r0000gq/T/ipykernel_41005/2579699215.py:72: UserWarning: To copy construct from a tensor, it is recommended to use sourceTensor.clone().detach() or sourceTensor.clone().detach().requires_grad_(True), rather than torch.tensor(sourceTensor).\n",
      "  q_out_elem_tensor = torch.tensor(q_out_elem, dtype=torch.float32, device=self.q_params.device)\n",
      "/var/folders/3x/956gglvx6tbcvyg7m0dghx8r0000gq/T/ipykernel_41005/2579699215.py:72: UserWarning: To copy construct from a tensor, it is recommended to use sourceTensor.clone().detach() or sourceTensor.clone().detach().requires_grad_(True), rather than torch.tensor(sourceTensor).\n",
      "  q_out_elem_tensor = torch.tensor(q_out_elem, dtype=torch.float32, device=self.q_params.device)\n",
      "/var/folders/3x/956gglvx6tbcvyg7m0dghx8r0000gq/T/ipykernel_41005/2579699215.py:72: UserWarning: To copy construct from a tensor, it is recommended to use sourceTensor.clone().detach() or sourceTensor.clone().detach().requires_grad_(True), rather than torch.tensor(sourceTensor).\n",
      "  q_out_elem_tensor = torch.tensor(q_out_elem, dtype=torch.float32, device=self.q_params.device)\n"
     ]
    },
    {
     "name": "stdout",
     "output_type": "stream",
     "text": [
      "Epoch 10 | Train Loss: 0.3490 | Train Acc: 0.9316 | Val Loss: 0.2741 | Val Acc: 0.9319 | Time: 336.49s\n"
     ]
    },
    {
     "name": "stderr",
     "output_type": "stream",
     "text": [
      "/var/folders/3x/956gglvx6tbcvyg7m0dghx8r0000gq/T/ipykernel_41005/2579699215.py:72: UserWarning: To copy construct from a tensor, it is recommended to use sourceTensor.clone().detach() or sourceTensor.clone().detach().requires_grad_(True), rather than torch.tensor(sourceTensor).\n",
      "  q_out_elem_tensor = torch.tensor(q_out_elem, dtype=torch.float32, device=self.q_params.device)\n"
     ]
    },
    {
     "name": "stdout",
     "output_type": "stream",
     "text": [
      "time for one batch: 7.17434287071228\n",
      "time for one batch: 7.031110048294067\n",
      "time for one batch: 6.842531204223633\n",
      "time for one batch: 6.9489710330963135\n",
      "time for one batch: 6.351224184036255\n",
      "time for one batch: 7.840710163116455\n",
      "time for one batch: 7.123031139373779\n",
      "time for one batch: 6.981737852096558\n",
      "time for one batch: 6.915606737136841\n",
      "time for one batch: 7.014419078826904\n",
      "time for one batch: 6.67603611946106\n",
      "time for one batch: 6.3568360805511475\n",
      "time for one batch: 6.929815053939819\n",
      "time for one batch: 6.472613096237183\n",
      "time for one batch: 7.181267976760864\n",
      "time for one batch: 6.644878149032593\n",
      "time for one batch: 7.964337110519409\n",
      "time for one batch: 6.726245880126953\n",
      "time for one batch: 7.383046865463257\n",
      "time for one batch: 6.86332106590271\n",
      "time for one batch: 7.569169282913208\n",
      "time for one batch: 7.660176038742065\n",
      "time for one batch: 9.557176113128662\n",
      "time for one batch: 9.921699047088623\n",
      "time for one batch: 8.654752016067505\n",
      "time for one batch: 7.96392297744751\n",
      "time for one batch: 7.3710410594940186\n",
      "time for one batch: 7.8973729610443115\n",
      "time for one batch: 7.745471000671387\n",
      "time for one batch: 7.535741090774536\n",
      "time for one batch: 8.661041021347046\n",
      "time for one batch: 8.669073820114136\n",
      "time for one batch: 9.250296831130981\n",
      "time for one batch: 8.735443830490112\n",
      "time for one batch: 9.311572074890137\n",
      "time for one batch: 7.844618082046509\n",
      "time for one batch: 7.673058032989502\n",
      "time for one batch: 7.475178241729736\n",
      "time for one batch: 3.2457499504089355\n"
     ]
    },
    {
     "name": "stderr",
     "output_type": "stream",
     "text": [
      "/var/folders/3x/956gglvx6tbcvyg7m0dghx8r0000gq/T/ipykernel_41005/2579699215.py:72: UserWarning: To copy construct from a tensor, it is recommended to use sourceTensor.clone().detach() or sourceTensor.clone().detach().requires_grad_(True), rather than torch.tensor(sourceTensor).\n",
      "  q_out_elem_tensor = torch.tensor(q_out_elem, dtype=torch.float32, device=self.q_params.device)\n",
      "/var/folders/3x/956gglvx6tbcvyg7m0dghx8r0000gq/T/ipykernel_41005/2579699215.py:72: UserWarning: To copy construct from a tensor, it is recommended to use sourceTensor.clone().detach() or sourceTensor.clone().detach().requires_grad_(True), rather than torch.tensor(sourceTensor).\n",
      "  q_out_elem_tensor = torch.tensor(q_out_elem, dtype=torch.float32, device=self.q_params.device)\n",
      "/var/folders/3x/956gglvx6tbcvyg7m0dghx8r0000gq/T/ipykernel_41005/2579699215.py:72: UserWarning: To copy construct from a tensor, it is recommended to use sourceTensor.clone().detach() or sourceTensor.clone().detach().requires_grad_(True), rather than torch.tensor(sourceTensor).\n",
      "  q_out_elem_tensor = torch.tensor(q_out_elem, dtype=torch.float32, device=self.q_params.device)\n",
      "/var/folders/3x/956gglvx6tbcvyg7m0dghx8r0000gq/T/ipykernel_41005/2579699215.py:72: UserWarning: To copy construct from a tensor, it is recommended to use sourceTensor.clone().detach() or sourceTensor.clone().detach().requires_grad_(True), rather than torch.tensor(sourceTensor).\n",
      "  q_out_elem_tensor = torch.tensor(q_out_elem, dtype=torch.float32, device=self.q_params.device)\n",
      "/var/folders/3x/956gglvx6tbcvyg7m0dghx8r0000gq/T/ipykernel_41005/2579699215.py:72: UserWarning: To copy construct from a tensor, it is recommended to use sourceTensor.clone().detach() or sourceTensor.clone().detach().requires_grad_(True), rather than torch.tensor(sourceTensor).\n",
      "  q_out_elem_tensor = torch.tensor(q_out_elem, dtype=torch.float32, device=self.q_params.device)\n",
      "/var/folders/3x/956gglvx6tbcvyg7m0dghx8r0000gq/T/ipykernel_41005/2579699215.py:72: UserWarning: To copy construct from a tensor, it is recommended to use sourceTensor.clone().detach() or sourceTensor.clone().detach().requires_grad_(True), rather than torch.tensor(sourceTensor).\n",
      "  q_out_elem_tensor = torch.tensor(q_out_elem, dtype=torch.float32, device=self.q_params.device)\n",
      "/var/folders/3x/956gglvx6tbcvyg7m0dghx8r0000gq/T/ipykernel_41005/2579699215.py:72: UserWarning: To copy construct from a tensor, it is recommended to use sourceTensor.clone().detach() or sourceTensor.clone().detach().requires_grad_(True), rather than torch.tensor(sourceTensor).\n",
      "  q_out_elem_tensor = torch.tensor(q_out_elem, dtype=torch.float32, device=self.q_params.device)\n",
      "/var/folders/3x/956gglvx6tbcvyg7m0dghx8r0000gq/T/ipykernel_41005/2579699215.py:72: UserWarning: To copy construct from a tensor, it is recommended to use sourceTensor.clone().detach() or sourceTensor.clone().detach().requires_grad_(True), rather than torch.tensor(sourceTensor).\n",
      "  q_out_elem_tensor = torch.tensor(q_out_elem, dtype=torch.float32, device=self.q_params.device)\n",
      "/var/folders/3x/956gglvx6tbcvyg7m0dghx8r0000gq/T/ipykernel_41005/2579699215.py:72: UserWarning: To copy construct from a tensor, it is recommended to use sourceTensor.clone().detach() or sourceTensor.clone().detach().requires_grad_(True), rather than torch.tensor(sourceTensor).\n",
      "  q_out_elem_tensor = torch.tensor(q_out_elem, dtype=torch.float32, device=self.q_params.device)\n"
     ]
    },
    {
     "name": "stdout",
     "output_type": "stream",
     "text": [
      "Epoch 11 | Train Loss: 0.3449 | Train Acc: 0.9316 | Val Loss: 0.2638 | Val Acc: 0.9319 | Time: 371.60s\n"
     ]
    },
    {
     "name": "stderr",
     "output_type": "stream",
     "text": [
      "/var/folders/3x/956gglvx6tbcvyg7m0dghx8r0000gq/T/ipykernel_41005/2579699215.py:72: UserWarning: To copy construct from a tensor, it is recommended to use sourceTensor.clone().detach() or sourceTensor.clone().detach().requires_grad_(True), rather than torch.tensor(sourceTensor).\n",
      "  q_out_elem_tensor = torch.tensor(q_out_elem, dtype=torch.float32, device=self.q_params.device)\n"
     ]
    },
    {
     "ename": "KeyboardInterrupt",
     "evalue": "",
     "output_type": "error",
     "traceback": [
      "\u001b[31m---------------------------------------------------------------------------\u001b[39m",
      "\u001b[31mKeyboardInterrupt\u001b[39m                         Traceback (most recent call last)",
      "\u001b[36mCell\u001b[39m\u001b[36m \u001b[39m\u001b[32mIn[106]\u001b[39m\u001b[32m, line 31\u001b[39m\n\u001b[32m     28\u001b[39m y_batch = y_batch.to(model_SECOM__opt.q_params.device).unsqueeze(\u001b[32m1\u001b[39m)\n\u001b[32m     30\u001b[39m optimizer.zero_grad()\n\u001b[32m---> \u001b[39m\u001b[32m31\u001b[39m output = \u001b[43mmodel_SECOM__opt\u001b[49m\u001b[43m(\u001b[49m\u001b[43mX_batch\u001b[49m\u001b[43m)\u001b[49m\n\u001b[32m     32\u001b[39m loss = loss_fn(output, y_batch)\n\u001b[32m     33\u001b[39m loss.backward()\n",
      "\u001b[36mFile \u001b[39m\u001b[32m~/VSCode Projects/Zenqor/.venv/lib/python3.11/site-packages/torch/nn/modules/module.py:1739\u001b[39m, in \u001b[36mModule._wrapped_call_impl\u001b[39m\u001b[34m(self, *args, **kwargs)\u001b[39m\n\u001b[32m   1737\u001b[39m     \u001b[38;5;28;01mreturn\u001b[39;00m \u001b[38;5;28mself\u001b[39m._compiled_call_impl(*args, **kwargs)  \u001b[38;5;66;03m# type: ignore[misc]\u001b[39;00m\n\u001b[32m   1738\u001b[39m \u001b[38;5;28;01melse\u001b[39;00m:\n\u001b[32m-> \u001b[39m\u001b[32m1739\u001b[39m     \u001b[38;5;28;01mreturn\u001b[39;00m \u001b[38;5;28;43mself\u001b[39;49m\u001b[43m.\u001b[49m\u001b[43m_call_impl\u001b[49m\u001b[43m(\u001b[49m\u001b[43m*\u001b[49m\u001b[43margs\u001b[49m\u001b[43m,\u001b[49m\u001b[43m \u001b[49m\u001b[43m*\u001b[49m\u001b[43m*\u001b[49m\u001b[43mkwargs\u001b[49m\u001b[43m)\u001b[49m\n",
      "\u001b[36mFile \u001b[39m\u001b[32m~/VSCode Projects/Zenqor/.venv/lib/python3.11/site-packages/torch/nn/modules/module.py:1750\u001b[39m, in \u001b[36mModule._call_impl\u001b[39m\u001b[34m(self, *args, **kwargs)\u001b[39m\n\u001b[32m   1745\u001b[39m \u001b[38;5;66;03m# If we don't have any hooks, we want to skip the rest of the logic in\u001b[39;00m\n\u001b[32m   1746\u001b[39m \u001b[38;5;66;03m# this function, and just call forward.\u001b[39;00m\n\u001b[32m   1747\u001b[39m \u001b[38;5;28;01mif\u001b[39;00m \u001b[38;5;129;01mnot\u001b[39;00m (\u001b[38;5;28mself\u001b[39m._backward_hooks \u001b[38;5;129;01mor\u001b[39;00m \u001b[38;5;28mself\u001b[39m._backward_pre_hooks \u001b[38;5;129;01mor\u001b[39;00m \u001b[38;5;28mself\u001b[39m._forward_hooks \u001b[38;5;129;01mor\u001b[39;00m \u001b[38;5;28mself\u001b[39m._forward_pre_hooks\n\u001b[32m   1748\u001b[39m         \u001b[38;5;129;01mor\u001b[39;00m _global_backward_pre_hooks \u001b[38;5;129;01mor\u001b[39;00m _global_backward_hooks\n\u001b[32m   1749\u001b[39m         \u001b[38;5;129;01mor\u001b[39;00m _global_forward_hooks \u001b[38;5;129;01mor\u001b[39;00m _global_forward_pre_hooks):\n\u001b[32m-> \u001b[39m\u001b[32m1750\u001b[39m     \u001b[38;5;28;01mreturn\u001b[39;00m \u001b[43mforward_call\u001b[49m\u001b[43m(\u001b[49m\u001b[43m*\u001b[49m\u001b[43margs\u001b[49m\u001b[43m,\u001b[49m\u001b[43m \u001b[49m\u001b[43m*\u001b[49m\u001b[43m*\u001b[49m\u001b[43mkwargs\u001b[49m\u001b[43m)\u001b[49m\n\u001b[32m   1752\u001b[39m result = \u001b[38;5;28;01mNone\u001b[39;00m\n\u001b[32m   1753\u001b[39m called_always_called_hooks = \u001b[38;5;28mset\u001b[39m()\n",
      "\u001b[36mCell\u001b[39m\u001b[36m \u001b[39m\u001b[32mIn[65]\u001b[39m\u001b[32m, line 65\u001b[39m, in \u001b[36mDressedQuantumNet.forward\u001b[39m\u001b[34m(self, input_features)\u001b[39m\n\u001b[32m     61\u001b[39m elem = elem.clone().detach().to(\u001b[38;5;28mself\u001b[39m.q_params.device)  \u001b[38;5;66;03m# Ensure it's on the correct device and detached\u001b[39;00m\n\u001b[32m     62\u001b[39m \u001b[38;5;66;03m# print(\"shape of elem before:\", elem.shape)\u001b[39;00m\n\u001b[32m     63\u001b[39m \n\u001b[32m     64\u001b[39m \u001b[38;5;66;03m# q_out_elem = quantum_net(elem, self.q_params)  # Output as list\u001b[39;00m\n\u001b[32m---> \u001b[39m\u001b[32m65\u001b[39m q_out_elem, circuit = \u001b[43mqiskit_mid_circuit\u001b[49m\u001b[43m(\u001b[49m\u001b[43melem\u001b[49m\u001b[43m,\u001b[49m\u001b[43m \u001b[49m\u001b[38;5;28;43mself\u001b[39;49m\u001b[43m.\u001b[49m\u001b[43mq_params\u001b[49m\u001b[43m,\u001b[49m\u001b[43m \u001b[49m\u001b[38;5;28;43mself\u001b[39;49m\u001b[43m.\u001b[49m\u001b[43moptimize\u001b[49m\u001b[43m)\u001b[49m\n\u001b[32m     66\u001b[39m \u001b[38;5;66;03m# print(\"circuit params:\", get_qc_chars(circuit))\u001b[39;00m\n\u001b[32m     67\u001b[39m \n\u001b[32m     68\u001b[39m \u001b[38;5;66;03m# print(\"parameters of the returned circuit:\", get_qc_chars(circuit))\u001b[39;00m\n\u001b[32m     69\u001b[39m \u001b[38;5;66;03m# print(\"shape of q_out_elem:\", q_out_elem)\u001b[39;00m\n\u001b[32m     70\u001b[39m \n\u001b[32m     71\u001b[39m \u001b[38;5;66;03m# Convert list to tensor if it's not already\u001b[39;00m\n\u001b[32m     72\u001b[39m q_out_elem_tensor = torch.tensor(q_out_elem, dtype=torch.float32, device=\u001b[38;5;28mself\u001b[39m.q_params.device)\n",
      "\u001b[36mCell\u001b[39m\u001b[36m \u001b[39m\u001b[32mIn[63]\u001b[39m\u001b[32m, line 39\u001b[39m, in \u001b[36mqiskit_mid_circuit\u001b[39m\u001b[34m(q_input_features, q_weights_flat, optimize, num_qubits)\u001b[39m\n\u001b[32m     37\u001b[39m     job = estimator.run([(qiskit_mid_circ, observable)])\n\u001b[32m     38\u001b[39m \u001b[38;5;28;01melse\u001b[39;00m:\n\u001b[32m---> \u001b[39m\u001b[32m39\u001b[39m     job = \u001b[43mestimator\u001b[49m\u001b[43m.\u001b[49m\u001b[43mrun\u001b[49m\u001b[43m(\u001b[49m\u001b[43m[\u001b[49m\u001b[43m(\u001b[49m\u001b[43mqc_routed\u001b[49m\u001b[43m,\u001b[49m\u001b[43m \u001b[49m\u001b[43mobservable\u001b[49m\u001b[43m)\u001b[49m\u001b[43m]\u001b[49m\u001b[43m)\u001b[49m\n\u001b[32m     41\u001b[39m result = job.result()[\u001b[32m0\u001b[39m]\n\u001b[32m     43\u001b[39m expectations.append(result.data.evs)\n",
      "\u001b[36mFile \u001b[39m\u001b[32m~/VSCode Projects/Zenqor/.venv/lib/python3.11/site-packages/qiskit_ibm_runtime/estimator.py:149\u001b[39m, in \u001b[36mEstimatorV2.run\u001b[39m\u001b[34m(self, pubs, precision)\u001b[39m\n\u001b[32m    147\u001b[39m coerced_pubs = [EstimatorPub.coerce(pub, precision) \u001b[38;5;28;01mfor\u001b[39;00m pub \u001b[38;5;129;01min\u001b[39;00m pubs]\n\u001b[32m    148\u001b[39m validate_estimator_pubs(coerced_pubs)\n\u001b[32m--> \u001b[39m\u001b[32m149\u001b[39m \u001b[38;5;28;01mreturn\u001b[39;00m \u001b[38;5;28;43mself\u001b[39;49m\u001b[43m.\u001b[49m\u001b[43m_run\u001b[49m\u001b[43m(\u001b[49m\u001b[43mcoerced_pubs\u001b[49m\u001b[43m)\u001b[49m\n",
      "\u001b[36mFile \u001b[39m\u001b[32m~/VSCode Projects/Zenqor/.venv/lib/python3.11/site-packages/qiskit_ibm_runtime/base_primitive.py:145\u001b[39m, in \u001b[36mBasePrimitiveV2._run\u001b[39m\u001b[34m(self, pubs)\u001b[39m\n\u001b[32m    136\u001b[39m \u001b[38;5;250m\u001b[39m\u001b[33;03m\"\"\"Run the primitive.\u001b[39;00m\n\u001b[32m    137\u001b[39m \n\u001b[32m    138\u001b[39m \u001b[33;03mArgs:\u001b[39;00m\n\u001b[32m   (...)\u001b[39m\u001b[32m    142\u001b[39m \u001b[33;03m    Submitted job.\u001b[39;00m\n\u001b[32m    143\u001b[39m \u001b[33;03m\"\"\"\u001b[39;00m\n\u001b[32m    144\u001b[39m primitive_inputs = {\u001b[33m\"\u001b[39m\u001b[33mpubs\u001b[39m\u001b[33m\"\u001b[39m: pubs}\n\u001b[32m--> \u001b[39m\u001b[32m145\u001b[39m options_dict = \u001b[43masdict\u001b[49m\u001b[43m(\u001b[49m\u001b[38;5;28;43mself\u001b[39;49m\u001b[43m.\u001b[49m\u001b[43moptions\u001b[49m\u001b[43m)\u001b[49m\n\u001b[32m    146\u001b[39m \u001b[38;5;28mself\u001b[39m._validate_options(options_dict)\n\u001b[32m    147\u001b[39m primitive_options = \u001b[38;5;28mself\u001b[39m._options_class._get_program_inputs(options_dict)\n",
      "\u001b[36mFile \u001b[39m\u001b[32m/Library/Frameworks/Python.framework/Versions/3.11/lib/python3.11/dataclasses.py:1275\u001b[39m, in \u001b[36masdict\u001b[39m\u001b[34m(obj, dict_factory)\u001b[39m\n\u001b[32m   1256\u001b[39m \u001b[38;5;28;01mdef\u001b[39;00m\u001b[38;5;250m \u001b[39m\u001b[34masdict\u001b[39m(obj, *, dict_factory=\u001b[38;5;28mdict\u001b[39m):\n\u001b[32m   1257\u001b[39m \u001b[38;5;250m    \u001b[39m\u001b[33;03m\"\"\"Return the fields of a dataclass instance as a new dictionary mapping\u001b[39;00m\n\u001b[32m   1258\u001b[39m \u001b[33;03m    field names to field values.\u001b[39;00m\n\u001b[32m   1259\u001b[39m \n\u001b[32m   (...)\u001b[39m\u001b[32m   1273\u001b[39m \u001b[33;03m    tuples, lists, and dicts.\u001b[39;00m\n\u001b[32m   1274\u001b[39m \u001b[33;03m    \"\"\"\u001b[39;00m\n\u001b[32m-> \u001b[39m\u001b[32m1275\u001b[39m     \u001b[38;5;28;01mif\u001b[39;00m \u001b[38;5;129;01mnot\u001b[39;00m \u001b[43m_is_dataclass_instance\u001b[49m\u001b[43m(\u001b[49m\u001b[43mobj\u001b[49m\u001b[43m)\u001b[49m:\n\u001b[32m   1276\u001b[39m         \u001b[38;5;28;01mraise\u001b[39;00m \u001b[38;5;167;01mTypeError\u001b[39;00m(\u001b[33m\"\u001b[39m\u001b[33masdict() should be called on dataclass instances\u001b[39m\u001b[33m\"\u001b[39m)\n\u001b[32m   1277\u001b[39m     \u001b[38;5;28;01mreturn\u001b[39;00m _asdict_inner(obj, dict_factory)\n",
      "\u001b[36mFile \u001b[39m\u001b[32m/Library/Frameworks/Python.framework/Versions/3.11/lib/python3.11/dataclasses.py:1244\u001b[39m, in \u001b[36m_is_dataclass_instance\u001b[39m\u001b[34m(obj)\u001b[39m\n\u001b[32m   1239\u001b[39m     \u001b[38;5;66;03m# Exclude pseudo-fields.  Note that fields is sorted by insertion\u001b[39;00m\n\u001b[32m   1240\u001b[39m     \u001b[38;5;66;03m# order, so the order of the tuple is as the fields were defined.\u001b[39;00m\n\u001b[32m   1241\u001b[39m     \u001b[38;5;28;01mreturn\u001b[39;00m \u001b[38;5;28mtuple\u001b[39m(f \u001b[38;5;28;01mfor\u001b[39;00m f \u001b[38;5;129;01min\u001b[39;00m fields.values() \u001b[38;5;28;01mif\u001b[39;00m f._field_type \u001b[38;5;129;01mis\u001b[39;00m _FIELD)\n\u001b[32m-> \u001b[39m\u001b[32m1244\u001b[39m \u001b[38;5;28;01mdef\u001b[39;00m\u001b[38;5;250m \u001b[39m\u001b[34m_is_dataclass_instance\u001b[39m(obj):\n\u001b[32m   1245\u001b[39m \u001b[38;5;250m    \u001b[39m\u001b[33;03m\"\"\"Returns True if obj is an instance of a dataclass.\"\"\"\u001b[39;00m\n\u001b[32m   1246\u001b[39m     \u001b[38;5;28;01mreturn\u001b[39;00m \u001b[38;5;28mhasattr\u001b[39m(\u001b[38;5;28mtype\u001b[39m(obj), _FIELDS)\n",
      "\u001b[31mKeyboardInterrupt\u001b[39m: "
     ]
    }
   ],
   "source": [
    "# optimizer = optim.Adam([p for n, p in model_IEEE__opt.named_parameters() if 'q_params' not in n], lr=0.001)\n",
    "optimizer = optim.Adam(model_SECOM__opt.parameters(), lr=0.001)\n",
    "\n",
    "# quantum_opt = optim.Adam([model_SECOM.q_params], lr=0.01)\n",
    "# quantum_opt = QNGOptimizer(stepsize=0.01)\n",
    "\n",
    "epoch_losses = []\n",
    "epoch_accuracies = []\n",
    "val_losses = []\n",
    "val_accuracies = []\n",
    "training_times = []\n",
    "\n",
    "for epoch in range(20):\n",
    "    model_SECOM__opt.train()\n",
    "    total_correct = 0\n",
    "    total_samples = 0\n",
    "    epoch_loss = 0.0\n",
    "\n",
    "    start_time = time.time()\n",
    "\n",
    "    for X_batch, y_batch in train_loader_SECOM:\n",
    "        # print(X_batch.min(), X_batch.max())\n",
    "        # print(np.min(y_batch), np.max(y_batch))\n",
    "\n",
    "        start_time_batch = time.time()\n",
    "\n",
    "        X_batch = X_batch.to(model_SECOM__opt.q_params.device)\n",
    "        y_batch = y_batch.to(model_SECOM__opt.q_params.device).unsqueeze(1)\n",
    "\n",
    "        optimizer.zero_grad()\n",
    "        output = model_SECOM__opt(X_batch)\n",
    "        loss = loss_fn(output, y_batch)\n",
    "        loss.backward()\n",
    "        optimizer.step()\n",
    "\n",
    "        # Accumulate loss\n",
    "        epoch_loss += loss.item() * X_batch.size(0)\n",
    "\n",
    "        # Convert predictions to binary (assuming binary classification)\n",
    "        preds = (output > 0.5).float()\n",
    "        total_correct += (preds == y_batch).sum().item()\n",
    "        total_samples += y_batch.size(0)\n",
    "\n",
    "        end_time_batch = time.time()\n",
    "        print(\"time for one batch:\", end_time_batch - start_time_batch)\n",
    "\n",
    "    avg_loss = epoch_loss / total_samples\n",
    "    accuracy = total_correct / total_samples\n",
    "\n",
    "    epoch_losses.append(avg_loss)\n",
    "    epoch_accuracies.append(accuracy)\n",
    "\n",
    "    # Validation\n",
    "    model_SECOM__opt.eval()\n",
    "    val_loss, val_acc = 0, 0\n",
    "    with torch.no_grad():\n",
    "        for x, y in test_loader_SECOM:\n",
    "            x, y = x.to(model_SECOM__opt.q_params.device), y.float().unsqueeze(1).to(model_SECOM__opt.q_params.device)\n",
    "            outputs = model_SECOM__opt(x)\n",
    "            loss = criterion(outputs, y)\n",
    "            preds = (outputs > 0.5).float()\n",
    "            val_acc += accuracy_score(y.cpu(), preds.cpu())\n",
    "            val_loss += loss.item()\n",
    "    \n",
    "    # Store validation metrics\n",
    "    avg_val_loss = val_loss / len(test_loader_SECOM)\n",
    "    avg_val_acc = val_acc / len(test_loader_SECOM)\n",
    "    val_losses.append(avg_val_loss)\n",
    "    val_accuracies.append(avg_val_acc)\n",
    "    \n",
    "    epoch_time = time.time() - start_time\n",
    "    training_times.append(epoch_time)\n",
    "\n",
    "    print(f\"Epoch {epoch+1} | \"\n",
    "          f\"Train Loss: {avg_loss:.4f} | \"\n",
    "          f\"Train Acc: {accuracy:.4f} | \"\n",
    "          f\"Val Loss: {avg_val_loss:.4f} | \"\n",
    "          f\"Val Acc: {avg_val_acc:.4f} | \"\n",
    "          f\"Time: {epoch_time:.2f}s\")\n",
    "    \n",
    "    torch.save(model_IEEE__opt, F\"/Users/soardr/VSCode Projects/Zenqor/Zenqor Drive/models/model training checkpoints/model_SECOM__classical_opt___{epoch}.pt\")\n",
    "\n",
    "    # print(f\"Epoch {epoch+1}, Loss: {avg_loss:.4f}, Accuracy: {accuracy:.4f}\")\n",
    "\n",
    "# Plotting\n",
    "plt.figure(figsize=(12, 5))\n",
    "\n",
    "plt.subplot(1, 2, 1)\n",
    "plt.plot(epoch_losses, label=\"Loss\")\n",
    "plt.title(\"Loss over Epochs\")\n",
    "plt.xlabel(\"Epoch\")\n",
    "plt.ylabel(\"Loss\")\n",
    "plt.grid(True)\n",
    "plt.legend()\n",
    "\n",
    "plt.subplot(1, 2, 2)\n",
    "plt.plot(epoch_accuracies, label=\"Accuracy\", color='green')\n",
    "plt.title(\"Accuracy over Epochs\")\n",
    "plt.xlabel(\"Epoch\")\n",
    "plt.ylabel(\"Accuracy\")\n",
    "plt.grid(True)\n",
    "plt.legend()\n",
    "\n",
    "plt.tight_layout()\n",
    "plt.show()"
   ]
  },
  {
   "cell_type": "code",
   "execution_count": 107,
   "metadata": {},
   "outputs": [
    {
     "data": {
      "image/png": "[encoded data removed]",
      "text/plain": [
       "<Figure size 1200x500 with 2 Axes>"
      ]
     },
     "metadata": {},
     "output_type": "display_data"
    }
   ],
   "source": [
    "# Plotting\n",
    "plt.figure(figsize=(12, 5))\n",
    "\n",
    "plt.subplot(1, 2, 1)\n",
    "plt.plot(epoch_losses, label=\"Loss\")\n",
    "plt.title(\"Loss over Epochs\")\n",
    "plt.xlabel(\"Epoch\")\n",
    "plt.ylabel(\"Loss\")\n",
    "plt.grid(True)\n",
    "plt.legend()\n",
    "\n",
    "plt.subplot(1, 2, 2)\n",
    "plt.plot(epoch_accuracies, label=\"Accuracy\", color='green')\n",
    "plt.title(\"Accuracy over Epochs\")\n",
    "plt.xlabel(\"Epoch\")\n",
    "plt.ylabel(\"Accuracy\")\n",
    "plt.grid(True)\n",
    "plt.legend()\n",
    "\n",
    "plt.tight_layout()\n",
    "plt.show()"
   ]
  },
  {
   "cell_type": "code",
   "execution_count": 108,
   "metadata": {},
   "outputs": [
    {
     "data": {
      "image/png": "[encoded data removed]",
      "text/plain": [
       "<Figure size 1200x500 with 2 Axes>"
      ]
     },
     "metadata": {},
     "output_type": "display_data"
    }
   ],
   "source": [
    "# Plotting\n",
    "plt.figure(figsize=(12, 5))\n",
    "\n",
    "plt.subplot(1, 2, 1)\n",
    "plt.plot(val_losses, label=\"Loss\")\n",
    "plt.title(\"Loss over Epochs\")\n",
    "plt.xlabel(\"Epoch\")\n",
    "plt.ylabel(\"Loss\")\n",
    "plt.grid(True)\n",
    "plt.legend()\n",
    "\n",
    "plt.subplot(1, 2, 2)\n",
    "plt.plot(val_accuracies, label=\"Accuracy\", color='green')\n",
    "plt.title(\"Accuracy over Epochs\")\n",
    "plt.xlabel(\"Epoch\")\n",
    "plt.ylabel(\"Accuracy\")\n",
    "plt.grid(True)\n",
    "plt.legend()\n",
    "\n",
    "plt.tight_layout()\n",
    "plt.show()"
   ]
  },
  {
   "cell_type": "code",
   "execution_count": 102,
   "metadata": {},
   "outputs": [
    {
     "data": {
      "text/plain": [
       "[0.7136,\n",
       " 0.3376611474990845,\n",
       " 0.250103878569603,\n",
       " 0.22701480509638786,\n",
       " 0.22552825813293456,\n",
       " 0.2108788658618927,\n",
       " 0.21568959500789642,\n",
       " 0.21013618812561036]"
      ]
     },
     "execution_count": 102,
     "metadata": {},
     "output_type": "execute_result"
    }
   ],
   "source": [
    "epoch_losses"
   ]
  },
  {
   "cell_type": "code",
   "execution_count": 100,
   "metadata": {},
   "outputs": [
    {
     "data": {
      "text/plain": [
       "[0.3918, 0.8982, 0.9004, 0.907, 0.957, 0.9672, 0.9672, 0.9672]"
      ]
     },
     "execution_count": 100,
     "metadata": {},
     "output_type": "execute_result"
    }
   ],
   "source": [
    "epoch_accuracies"
   ]
  },
  {
   "cell_type": "code",
   "execution_count": 103,
   "metadata": {},
   "outputs": [
    {
     "data": {
      "text/plain": [
       "[0.4371,\n",
       " 0.18273864378025578,\n",
       " 0.15791432265263455,\n",
       " 0.15733239052307074,\n",
       " 0.1579440226244509,\n",
       " 0.15784229070043107,\n",
       " 0.15766386426747983,\n",
       " 0.1575715471130268]"
      ]
     },
     "execution_count": 103,
     "metadata": {},
     "output_type": "execute_result"
    }
   ],
   "source": [
    "val_losses"
   ]
  },
  {
   "cell_type": "code",
   "execution_count": 104,
   "metadata": {},
   "outputs": [
    {
     "data": {
      "text/plain": [
       "[0.9634,\n",
       " 0.9633757961783439,\n",
       " 0.9633757961783439,\n",
       " 0.9633757961783439,\n",
       " 0.9633757961783439,\n",
       " 0.9633757961783439,\n",
       " 0.9633757961783439,\n",
       " 0.9633757961783439]"
      ]
     },
     "execution_count": 104,
     "metadata": {},
     "output_type": "execute_result"
    }
   ],
   "source": [
    "val_accuracies"
   ]
  },
  {
   "cell_type": "code",
   "execution_count": 105,
   "metadata": {},
   "outputs": [
    {
     "data": {
      "text/plain": [
       "[1546,\n",
       " 1397.7836210727692,\n",
       " 1683.857246875763,\n",
       " 1419.8165969848633,\n",
       " 1500.070672750473,\n",
       " 1446.597953081131,\n",
       " 1411.0368328094482,\n",
       " 1490.9385647773743]"
      ]
     },
     "execution_count": 105,
     "metadata": {},
     "output_type": "execute_result"
    }
   ],
   "source": [
    "training_times"
   ]
  },
  {
   "cell_type": "code",
   "execution_count": 96,
   "metadata": {},
   "outputs": [
    {
     "name": "stderr",
     "output_type": "stream",
     "text": [
      "/var/folders/3x/956gglvx6tbcvyg7m0dghx8r0000gq/T/ipykernel_41005/2579699215.py:72: UserWarning: To copy construct from a tensor, it is recommended to use sourceTensor.clone().detach() or sourceTensor.clone().detach().requires_grad_(True), rather than torch.tensor(sourceTensor).\n",
      "  q_out_elem_tensor = torch.tensor(q_out_elem, dtype=torch.float32, device=self.q_params.device)\n"
     ]
    },
    {
     "name": "stdout",
     "output_type": "stream",
     "text": [
      "y_pred: [[0.]\n",
      " [0.]\n",
      " [0.]\n",
      " ...\n",
      " [0.]\n",
      " [0.]\n",
      " [0.]]\n"
     ]
    },
    {
     "data": {
      "text/plain": [
       "{'Accuracy': 0.965,\n",
       " 'Precision': 0.0,\n",
       " 'Recall': 0.0,\n",
       " 'F1 Score': 0.0,\n",
       " 'Confusion Matrix': array([[4825,    0],\n",
       "        [ 175,    0]]),\n",
       " 'Classification Report': '              precision    recall  f1-score   support\\n\\n         0.0       0.96      1.00      0.98      4825\\n         1.0       0.00      0.00      0.00       175\\n\\n    accuracy                           0.96      5000\\n   macro avg       0.48      0.50      0.49      5000\\nweighted avg       0.93      0.96      0.95      5000\\n'}"
      ]
     },
     "execution_count": 96,
     "metadata": {},
     "output_type": "execute_result"
    }
   ],
   "source": [
    "evaluate_model_from_data(model_IEEE__opt, X_IEEE_test[:], y_IEEE_test[:])"
   ]
  },
  {
   "cell_type": "code",
   "execution_count": 110,
   "metadata": {},
   "outputs": [
    {
     "name": "stderr",
     "output_type": "stream",
     "text": [
      "/var/folders/3x/956gglvx6tbcvyg7m0dghx8r0000gq/T/ipykernel_41005/2579699215.py:72: UserWarning: To copy construct from a tensor, it is recommended to use sourceTensor.clone().detach() or sourceTensor.clone().detach().requires_grad_(True), rather than torch.tensor(sourceTensor).\n",
      "  q_out_elem_tensor = torch.tensor(q_out_elem, dtype=torch.float32, device=self.q_params.device)\n"
     ]
    },
    {
     "name": "stdout",
     "output_type": "stream",
     "text": [
      "y_pred: [[0.]\n",
      " [0.]\n",
      " [0.]\n",
      " [0.]\n",
      " [0.]\n",
      " [0.]\n",
      " [0.]\n",
      " [0.]\n",
      " [0.]\n",
      " [0.]\n",
      " [0.]\n",
      " [0.]\n",
      " [0.]\n",
      " [0.]\n",
      " [0.]\n",
      " [0.]\n",
      " [0.]\n",
      " [0.]\n",
      " [0.]\n",
      " [0.]\n",
      " [0.]\n",
      " [0.]\n",
      " [0.]\n",
      " [0.]\n",
      " [0.]\n",
      " [0.]\n",
      " [0.]\n",
      " [0.]\n",
      " [0.]\n",
      " [0.]\n",
      " [0.]\n",
      " [0.]\n",
      " [0.]\n",
      " [0.]\n",
      " [0.]\n",
      " [0.]\n",
      " [0.]\n",
      " [0.]\n",
      " [0.]\n",
      " [0.]\n",
      " [0.]\n",
      " [0.]\n",
      " [0.]\n",
      " [0.]\n",
      " [0.]\n",
      " [0.]\n",
      " [0.]\n",
      " [0.]\n",
      " [0.]\n",
      " [0.]\n",
      " [0.]\n",
      " [0.]\n",
      " [0.]\n",
      " [0.]\n",
      " [0.]\n",
      " [0.]\n",
      " [0.]\n",
      " [0.]\n",
      " [0.]\n",
      " [0.]\n",
      " [0.]\n",
      " [0.]\n",
      " [0.]\n",
      " [0.]\n",
      " [0.]\n",
      " [0.]\n",
      " [0.]\n",
      " [0.]\n",
      " [0.]\n",
      " [0.]\n",
      " [0.]\n",
      " [0.]\n",
      " [0.]\n",
      " [0.]\n",
      " [0.]\n",
      " [0.]\n",
      " [0.]\n",
      " [0.]\n",
      " [0.]\n",
      " [0.]\n",
      " [0.]\n",
      " [0.]\n",
      " [0.]\n",
      " [0.]\n",
      " [0.]\n",
      " [0.]\n",
      " [0.]\n",
      " [0.]\n",
      " [0.]\n",
      " [0.]\n",
      " [0.]\n",
      " [0.]\n",
      " [0.]\n",
      " [0.]\n",
      " [0.]\n",
      " [0.]\n",
      " [0.]\n",
      " [0.]\n",
      " [0.]\n",
      " [0.]\n",
      " [0.]\n",
      " [0.]\n",
      " [0.]\n",
      " [0.]\n",
      " [0.]\n",
      " [0.]\n",
      " [0.]\n",
      " [0.]\n",
      " [0.]\n",
      " [0.]\n",
      " [0.]\n",
      " [0.]\n",
      " [0.]\n",
      " [0.]\n",
      " [0.]\n",
      " [0.]\n",
      " [0.]\n",
      " [0.]\n",
      " [0.]\n",
      " [0.]\n",
      " [0.]\n",
      " [0.]\n",
      " [0.]\n",
      " [0.]\n",
      " [0.]\n",
      " [0.]\n",
      " [0.]\n",
      " [0.]\n",
      " [0.]\n",
      " [0.]\n",
      " [0.]\n",
      " [0.]\n",
      " [0.]\n",
      " [0.]\n",
      " [0.]\n",
      " [0.]\n",
      " [0.]\n",
      " [0.]\n",
      " [0.]\n",
      " [0.]\n",
      " [0.]\n",
      " [0.]\n",
      " [0.]\n",
      " [0.]\n",
      " [0.]\n",
      " [0.]\n",
      " [0.]\n",
      " [0.]\n",
      " [0.]\n",
      " [0.]\n",
      " [0.]\n",
      " [0.]\n",
      " [0.]\n",
      " [0.]\n",
      " [0.]\n",
      " [0.]\n",
      " [0.]\n",
      " [0.]\n",
      " [0.]\n",
      " [0.]\n",
      " [0.]\n",
      " [0.]\n",
      " [0.]\n",
      " [0.]\n",
      " [0.]\n",
      " [0.]\n",
      " [0.]\n",
      " [0.]\n",
      " [0.]\n",
      " [0.]\n",
      " [0.]\n",
      " [0.]\n",
      " [0.]\n",
      " [0.]\n",
      " [0.]\n",
      " [0.]\n",
      " [0.]\n",
      " [0.]\n",
      " [0.]\n",
      " [0.]\n",
      " [0.]\n",
      " [0.]\n",
      " [0.]\n",
      " [0.]\n",
      " [0.]\n",
      " [0.]\n",
      " [0.]\n",
      " [0.]\n",
      " [0.]\n",
      " [0.]\n",
      " [0.]\n",
      " [0.]\n",
      " [0.]\n",
      " [0.]\n",
      " [0.]\n",
      " [0.]\n",
      " [0.]\n",
      " [0.]\n",
      " [0.]\n",
      " [0.]\n",
      " [0.]\n",
      " [0.]\n",
      " [0.]\n",
      " [0.]\n",
      " [0.]\n",
      " [0.]\n",
      " [0.]\n",
      " [0.]\n",
      " [0.]\n",
      " [0.]\n",
      " [0.]\n",
      " [0.]\n",
      " [0.]\n",
      " [0.]\n",
      " [0.]\n",
      " [0.]\n",
      " [0.]\n",
      " [0.]\n",
      " [0.]\n",
      " [0.]\n",
      " [0.]\n",
      " [0.]\n",
      " [0.]\n",
      " [0.]\n",
      " [0.]\n",
      " [0.]\n",
      " [0.]\n",
      " [0.]\n",
      " [0.]\n",
      " [0.]\n",
      " [0.]\n",
      " [0.]\n",
      " [0.]\n",
      " [0.]\n",
      " [0.]\n",
      " [0.]\n",
      " [0.]\n",
      " [0.]\n",
      " [0.]\n",
      " [0.]\n",
      " [0.]\n",
      " [0.]\n",
      " [0.]\n",
      " [0.]\n",
      " [0.]\n",
      " [0.]\n",
      " [0.]\n",
      " [0.]\n",
      " [0.]\n",
      " [0.]\n",
      " [0.]\n",
      " [0.]\n",
      " [0.]\n",
      " [0.]\n",
      " [0.]\n",
      " [0.]\n",
      " [0.]\n",
      " [0.]\n",
      " [0.]\n",
      " [0.]\n",
      " [0.]\n",
      " [0.]\n",
      " [0.]\n",
      " [0.]\n",
      " [0.]\n",
      " [0.]\n",
      " [0.]\n",
      " [0.]\n",
      " [0.]\n",
      " [0.]\n",
      " [0.]\n",
      " [0.]\n",
      " [0.]\n",
      " [0.]\n",
      " [0.]\n",
      " [0.]\n",
      " [0.]\n",
      " [0.]\n",
      " [0.]\n",
      " [0.]\n",
      " [0.]\n",
      " [0.]\n",
      " [0.]\n",
      " [0.]\n",
      " [0.]\n",
      " [0.]\n",
      " [0.]\n",
      " [0.]\n",
      " [0.]\n",
      " [0.]\n",
      " [0.]\n",
      " [0.]\n",
      " [0.]\n",
      " [0.]\n",
      " [0.]\n",
      " [0.]\n",
      " [0.]\n",
      " [0.]\n",
      " [0.]\n",
      " [0.]\n",
      " [0.]\n",
      " [0.]\n",
      " [0.]\n",
      " [0.]\n",
      " [0.]\n",
      " [0.]\n",
      " [0.]\n",
      " [0.]]\n"
     ]
    },
    {
     "data": {
      "text/plain": [
       "{'Accuracy': 0.935064935064935,\n",
       " 'Precision': 0.0,\n",
       " 'Recall': 0.0,\n",
       " 'F1 Score': 0.0,\n",
       " 'Confusion Matrix': array([[288,   0],\n",
       "        [ 20,   0]]),\n",
       " 'Classification Report': '              precision    recall  f1-score   support\\n\\n         0.0       0.94      1.00      0.97       288\\n         1.0       0.00      0.00      0.00        20\\n\\n    accuracy                           0.94       308\\n   macro avg       0.47      0.50      0.48       308\\nweighted avg       0.87      0.94      0.90       308\\n'}"
      ]
     },
     "execution_count": 110,
     "metadata": {},
     "output_type": "execute_result"
    }
   ],
   "source": [
    "evaluate_model_from_data(model_SECOM__opt, X_SECOM_test[:], y_SECOM_test[:])"
   ]
  },
  {
   "cell_type": "code",
   "execution_count": null,
   "metadata": {},
   "outputs": [],
   "source": []
  }
 ],
 "metadata": {
  "colab": {
   "provenance": []
  },
  "kernelspec": {
   "display_name": ".venv",
   "language": "python",
   "name": "python3"
  },
  "language_info": {
   "codemirror_mode": {
    "name": "ipython",
    "version": 3
   },
   "file_extension": ".py",
   "mimetype": "text/x-python",
   "name": "python",
   "nbconvert_exporter": "python",
   "pygments_lexer": "ipython3",
   "version": "3.11.3"
  }
 },
 "nbformat": 4,
 "nbformat_minor": 0
}
